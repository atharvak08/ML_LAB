{
  "metadata": {
    "kernelspec": {
      "language": "python",
      "display_name": "Python 3",
      "name": "python3"
    },
    "language_info": {
      "pygments_lexer": "ipython3",
      "nbconvert_exporter": "python",
      "version": "3.6.4",
      "file_extension": ".py",
      "codemirror_mode": {
        "name": "ipython",
        "version": 3
      },
      "name": "python",
      "mimetype": "text/x-python"
    },
    "colab": {
      "provenance": [],
      "collapsed_sections": [
        "PqiL-KT_2fB4",
        "A6iTeGsT2fB4",
        "C6XaBjl42fB5",
        "NJaDSklB2fB6",
        "fMzTgJlf2fB6",
        "ZwJtribw2fB7",
        "mpe5iSby2fB8",
        "KogKVGAl2fB9",
        "N2eXwmko2fB9",
        "EagT7iZV2fB_",
        "6pCU3oiI2fCB",
        "6x_Mtjq92fCC",
        "JHpDJ8NU2fCC",
        "NnvBzFXl2fCC",
        "yYJrxAao2fCF"
      ],
      "include_colab_link": true
    }
  },
  "nbformat_minor": 0,
  "nbformat": 4,
  "cells": [
    {
      "cell_type": "markdown",
      "metadata": {
        "id": "view-in-github",
        "colab_type": "text"
      },
      "source": [
        "<a href=\"https://colab.research.google.com/github/atharvak08/ML_LAB/blob/main/retail_analysis_with_walmart_data.ipynb\" target=\"_parent\"><img src=\"https://colab.research.google.com/assets/colab-badge.svg\" alt=\"Open In Colab\"/></a>"
      ]
    },
    {
      "cell_type": "markdown",
      "source": [
        "# ***--------------------------- Retail Analysis with Walmart Data --------------------------***"
      ],
      "metadata": {
        "id": "ySnITX532fBj"
      }
    },
    {
      "cell_type": "markdown",
      "source": [
        "### **Description**\n",
        "\n",
        "One of the leading retail stores in the US, Walmart, would like to predict the sales and demand accurately. There are certain events and holidays which impact sales on each day. There are sales data available for 45 stores of Walmart. The business is facing a challenge due to unforeseen demands and runs out of stock some times, due to the inappropriate machine learning algorithm. An ideal ML algorithm will predict demand accurately and ingest factors like economic conditions including CPI, Unemployment Index, etc.\n",
        "\n",
        "Walmart runs several promotional markdown events throughout the year. These markdowns precede prominent holidays, the four largest of all, which are the Super Bowl, Labour Day, Thanksgiving, and Christmas. The weeks including these holidays are weighted five times higher in the evaluation than non-holiday weeks. Part of the challenge presented by this competition is modeling the effects of markdowns on these holiday weeks in the absence of complete/ideal historical data. Historical sales data for 45 Walmart stores located in different regions are available.\n",
        "\n",
        "----------------------------------------------------------------------------------------------------------------------------------------\n",
        "\n",
        "### **Dataset Description**\n",
        "\n",
        "This is the historical data that covers sales from 2010-02-05 to 2012-11-01, in the file Walmart_Store_sales. Within this file you will find the following fields:\n",
        "\n",
        "**Store -** the store number\n",
        "\n",
        "**Date -** the week of sales\n",
        "\n",
        "**Weekly_Sales -**  sales for the given store\n",
        "\n",
        "**Holiday_Flag -** whether the week is a special holiday week 1 – Holiday week 0 – Non-holiday week\n",
        "\n",
        "**Temperature -** Temperature on the day of sale\n",
        "\n",
        "**Fuel_Price -** Cost of fuel in the region\n",
        "\n",
        "**CPI –** Prevailing consumer price index\n",
        "\n",
        "**Unemployment -** Prevailing unemployment rate\n",
        "\n",
        "----------------------------------------------------------------------------------------------------------------------------------------\n",
        "\n",
        "### **Holiday Events**\n",
        "\n",
        "Super Bowl: 12-Feb-10, 11-Feb-11, 10-Feb-12, 8-Feb-13\n",
        "\n",
        "Labour Day: 10-Sep-10, 9-Sep-11, 7-Sep-12, 6-Sep-13\n",
        "\n",
        "Thanksgiving: 26-Nov-10, 25-Nov-11, 23-Nov-12, 29-Nov-13\n",
        "\n",
        "Christmas: 31-Dec-10, 30-Dec-11, 28-Dec-12, 27-Dec-13\n",
        "\n",
        "----------------------------------------------------------------------------------------------------------------------------------------\n",
        "\n",
        "### **Analysis Tasks**\n",
        "\n",
        "* Which store has maximum sales\n",
        "\n",
        "* Which store has maximum standard deviation i.e., the sales vary a lot. Also, find out the coefficient of mean to standard deviation\n",
        "\n",
        "* Which store/s has good quarterly growth rate in Q3’2012\n",
        "\n",
        "* Some holidays have a negative impact on sales. Find out holidays which have higher sales than the mean sales in non-holiday season for all stores together\n",
        "\n",
        "* Provide a monthly and semester view of sales in units and give insights\n",
        "\n",
        "----------------------------------------------------------------------------------------------------------------------------------------\n",
        "\n",
        "### **Statistical Model**\n",
        "\n",
        "For Store 1 – Build  prediction models to forecast demand\n",
        "\n",
        "Linear Regression – Utilize variables like date and restructure dates as 1 for 5 Feb 2010 (starting from the earliest date in order). Hypothesize if CPI, unemployment, and fuel price have any impact on sales."
      ],
      "metadata": {
        "id": "O0rd6dvQ2fBt"
      }
    },
    {
      "cell_type": "code",
      "source": [
        "# Import libraries\n",
        "\n",
        "import numpy as np\n",
        "import pandas as pd\n",
        "import matplotlib.pyplot as plt\n",
        "import seaborn as sns\n",
        "import sklearn\n",
        "import warnings\n",
        "warnings.filterwarnings('ignore')\n",
        "%matplotlib inline"
      ],
      "metadata": {
        "execution": {
          "iopub.status.busy": "2022-05-06T08:53:10.638827Z",
          "iopub.execute_input": "2022-05-06T08:53:10.639168Z",
          "iopub.status.idle": "2022-05-06T08:53:11.880982Z",
          "shell.execute_reply.started": "2022-05-06T08:53:10.639112Z",
          "shell.execute_reply": "2022-05-06T08:53:11.88013Z"
        },
        "trusted": true,
        "id": "wOfcbVSu2fBw"
      },
      "execution_count": 58,
      "outputs": []
    },
    {
      "cell_type": "code",
      "source": [
        "# Import Dataset\n",
        "\n",
        "df = pd.read_csv('/content/drive/MyDrive/ML_PROJECT/Walmart_Store_sales.csv')\n",
        "df.head(3)"
      ],
      "metadata": {
        "execution": {
          "iopub.status.busy": "2022-05-06T08:53:16.328181Z",
          "iopub.execute_input": "2022-05-06T08:53:16.32877Z",
          "iopub.status.idle": "2022-05-06T08:53:16.379875Z",
          "shell.execute_reply.started": "2022-05-06T08:53:16.328717Z",
          "shell.execute_reply": "2022-05-06T08:53:16.379186Z"
        },
        "trusted": true,
        "id": "WFKIcj2m2fBy",
        "colab": {
          "base_uri": "https://localhost:8080/",
          "height": 144
        },
        "outputId": "3c48860a-8231-4dfe-a506-c6a9a0d0c85d"
      },
      "execution_count": 59,
      "outputs": [
        {
          "output_type": "execute_result",
          "data": {
            "text/plain": [
              "   Store        Date  Weekly_Sales  Holiday_Flag  Temperature  Fuel_Price  \\\n",
              "0      1  05-02-2010    1643690.90             0        42.31       2.572   \n",
              "1      1  12-02-2010    1641957.44             1        38.51       2.548   \n",
              "2      1  19-02-2010    1611968.17             0        39.93       2.514   \n",
              "\n",
              "          CPI  Unemployment  \n",
              "0  211.096358         8.106  \n",
              "1  211.242170         8.106  \n",
              "2  211.289143         8.106  "
            ],
            "text/html": [
              "\n",
              "  <div id=\"df-46097af7-868d-4b8e-b8c7-cf9899807a6d\">\n",
              "    <div class=\"colab-df-container\">\n",
              "      <div>\n",
              "<style scoped>\n",
              "    .dataframe tbody tr th:only-of-type {\n",
              "        vertical-align: middle;\n",
              "    }\n",
              "\n",
              "    .dataframe tbody tr th {\n",
              "        vertical-align: top;\n",
              "    }\n",
              "\n",
              "    .dataframe thead th {\n",
              "        text-align: right;\n",
              "    }\n",
              "</style>\n",
              "<table border=\"1\" class=\"dataframe\">\n",
              "  <thead>\n",
              "    <tr style=\"text-align: right;\">\n",
              "      <th></th>\n",
              "      <th>Store</th>\n",
              "      <th>Date</th>\n",
              "      <th>Weekly_Sales</th>\n",
              "      <th>Holiday_Flag</th>\n",
              "      <th>Temperature</th>\n",
              "      <th>Fuel_Price</th>\n",
              "      <th>CPI</th>\n",
              "      <th>Unemployment</th>\n",
              "    </tr>\n",
              "  </thead>\n",
              "  <tbody>\n",
              "    <tr>\n",
              "      <th>0</th>\n",
              "      <td>1</td>\n",
              "      <td>05-02-2010</td>\n",
              "      <td>1643690.90</td>\n",
              "      <td>0</td>\n",
              "      <td>42.31</td>\n",
              "      <td>2.572</td>\n",
              "      <td>211.096358</td>\n",
              "      <td>8.106</td>\n",
              "    </tr>\n",
              "    <tr>\n",
              "      <th>1</th>\n",
              "      <td>1</td>\n",
              "      <td>12-02-2010</td>\n",
              "      <td>1641957.44</td>\n",
              "      <td>1</td>\n",
              "      <td>38.51</td>\n",
              "      <td>2.548</td>\n",
              "      <td>211.242170</td>\n",
              "      <td>8.106</td>\n",
              "    </tr>\n",
              "    <tr>\n",
              "      <th>2</th>\n",
              "      <td>1</td>\n",
              "      <td>19-02-2010</td>\n",
              "      <td>1611968.17</td>\n",
              "      <td>0</td>\n",
              "      <td>39.93</td>\n",
              "      <td>2.514</td>\n",
              "      <td>211.289143</td>\n",
              "      <td>8.106</td>\n",
              "    </tr>\n",
              "  </tbody>\n",
              "</table>\n",
              "</div>\n",
              "      <button class=\"colab-df-convert\" onclick=\"convertToInteractive('df-46097af7-868d-4b8e-b8c7-cf9899807a6d')\"\n",
              "              title=\"Convert this dataframe to an interactive table.\"\n",
              "              style=\"display:none;\">\n",
              "        \n",
              "  <svg xmlns=\"http://www.w3.org/2000/svg\" height=\"24px\"viewBox=\"0 0 24 24\"\n",
              "       width=\"24px\">\n",
              "    <path d=\"M0 0h24v24H0V0z\" fill=\"none\"/>\n",
              "    <path d=\"M18.56 5.44l.94 2.06.94-2.06 2.06-.94-2.06-.94-.94-2.06-.94 2.06-2.06.94zm-11 1L8.5 8.5l.94-2.06 2.06-.94-2.06-.94L8.5 2.5l-.94 2.06-2.06.94zm10 10l.94 2.06.94-2.06 2.06-.94-2.06-.94-.94-2.06-.94 2.06-2.06.94z\"/><path d=\"M17.41 7.96l-1.37-1.37c-.4-.4-.92-.59-1.43-.59-.52 0-1.04.2-1.43.59L10.3 9.45l-7.72 7.72c-.78.78-.78 2.05 0 2.83L4 21.41c.39.39.9.59 1.41.59.51 0 1.02-.2 1.41-.59l7.78-7.78 2.81-2.81c.8-.78.8-2.07 0-2.86zM5.41 20L4 18.59l7.72-7.72 1.47 1.35L5.41 20z\"/>\n",
              "  </svg>\n",
              "      </button>\n",
              "      \n",
              "  <style>\n",
              "    .colab-df-container {\n",
              "      display:flex;\n",
              "      flex-wrap:wrap;\n",
              "      gap: 12px;\n",
              "    }\n",
              "\n",
              "    .colab-df-convert {\n",
              "      background-color: #E8F0FE;\n",
              "      border: none;\n",
              "      border-radius: 50%;\n",
              "      cursor: pointer;\n",
              "      display: none;\n",
              "      fill: #1967D2;\n",
              "      height: 32px;\n",
              "      padding: 0 0 0 0;\n",
              "      width: 32px;\n",
              "    }\n",
              "\n",
              "    .colab-df-convert:hover {\n",
              "      background-color: #E2EBFA;\n",
              "      box-shadow: 0px 1px 2px rgba(60, 64, 67, 0.3), 0px 1px 3px 1px rgba(60, 64, 67, 0.15);\n",
              "      fill: #174EA6;\n",
              "    }\n",
              "\n",
              "    [theme=dark] .colab-df-convert {\n",
              "      background-color: #3B4455;\n",
              "      fill: #D2E3FC;\n",
              "    }\n",
              "\n",
              "    [theme=dark] .colab-df-convert:hover {\n",
              "      background-color: #434B5C;\n",
              "      box-shadow: 0px 1px 3px 1px rgba(0, 0, 0, 0.15);\n",
              "      filter: drop-shadow(0px 1px 2px rgba(0, 0, 0, 0.3));\n",
              "      fill: #FFFFFF;\n",
              "    }\n",
              "  </style>\n",
              "\n",
              "      <script>\n",
              "        const buttonEl =\n",
              "          document.querySelector('#df-46097af7-868d-4b8e-b8c7-cf9899807a6d button.colab-df-convert');\n",
              "        buttonEl.style.display =\n",
              "          google.colab.kernel.accessAllowed ? 'block' : 'none';\n",
              "\n",
              "        async function convertToInteractive(key) {\n",
              "          const element = document.querySelector('#df-46097af7-868d-4b8e-b8c7-cf9899807a6d');\n",
              "          const dataTable =\n",
              "            await google.colab.kernel.invokeFunction('convertToInteractive',\n",
              "                                                     [key], {});\n",
              "          if (!dataTable) return;\n",
              "\n",
              "          const docLinkHtml = 'Like what you see? Visit the ' +\n",
              "            '<a target=\"_blank\" href=https://colab.research.google.com/notebooks/data_table.ipynb>data table notebook</a>'\n",
              "            + ' to learn more about interactive tables.';\n",
              "          element.innerHTML = '';\n",
              "          dataTable['output_type'] = 'display_data';\n",
              "          await google.colab.output.renderOutput(dataTable, element);\n",
              "          const docLink = document.createElement('div');\n",
              "          docLink.innerHTML = docLinkHtml;\n",
              "          element.appendChild(docLink);\n",
              "        }\n",
              "      </script>\n",
              "    </div>\n",
              "  </div>\n",
              "  "
            ]
          },
          "metadata": {},
          "execution_count": 59
        }
      ]
    },
    {
      "cell_type": "code",
      "source": [
        "from google.colab import drive\n",
        "drive.mount('/content/drive')"
      ],
      "metadata": {
        "colab": {
          "base_uri": "https://localhost:8080/"
        },
        "id": "X0dcuYhnGRzZ",
        "outputId": "e364bc88-f4e6-46e6-cef3-0775a1e276a9"
      },
      "execution_count": 60,
      "outputs": [
        {
          "output_type": "stream",
          "name": "stdout",
          "text": [
            "Drive already mounted at /content/drive; to attempt to forcibly remount, call drive.mount(\"/content/drive\", force_remount=True).\n"
          ]
        }
      ]
    },
    {
      "cell_type": "code",
      "source": [
        "df.dtypes"
      ],
      "metadata": {
        "execution": {
          "iopub.status.busy": "2022-05-06T08:53:17.571309Z",
          "iopub.execute_input": "2022-05-06T08:53:17.571878Z",
          "iopub.status.idle": "2022-05-06T08:53:17.579231Z",
          "shell.execute_reply.started": "2022-05-06T08:53:17.57182Z",
          "shell.execute_reply": "2022-05-06T08:53:17.578354Z"
        },
        "trusted": true,
        "id": "WA8ziRx42fBz",
        "colab": {
          "base_uri": "https://localhost:8080/"
        },
        "outputId": "4eb4f85f-11fe-4e87-e681-7d95d3911170"
      },
      "execution_count": 61,
      "outputs": [
        {
          "output_type": "execute_result",
          "data": {
            "text/plain": [
              "Store             int64\n",
              "Date             object\n",
              "Weekly_Sales    float64\n",
              "Holiday_Flag      int64\n",
              "Temperature     float64\n",
              "Fuel_Price      float64\n",
              "CPI             float64\n",
              "Unemployment    float64\n",
              "dtype: object"
            ]
          },
          "metadata": {},
          "execution_count": 61
        }
      ]
    },
    {
      "cell_type": "code",
      "source": [
        "# Changing the date datatype to datetime64\n",
        "\n",
        "from datetime import datetime\n",
        "df['Date'] = pd.to_datetime(df['Date']);"
      ],
      "metadata": {
        "execution": {
          "iopub.status.busy": "2022-05-06T08:53:18.244398Z",
          "iopub.execute_input": "2022-05-06T08:53:18.245341Z",
          "iopub.status.idle": "2022-05-06T08:53:18.261748Z",
          "shell.execute_reply.started": "2022-05-06T08:53:18.245298Z",
          "shell.execute_reply": "2022-05-06T08:53:18.260613Z"
        },
        "trusted": true,
        "id": "6bTABOd22fB0"
      },
      "execution_count": 63,
      "outputs": []
    },
    {
      "cell_type": "code",
      "source": [
        "df.dtypes"
      ],
      "metadata": {
        "execution": {
          "iopub.status.busy": "2022-05-06T08:53:18.977418Z",
          "iopub.execute_input": "2022-05-06T08:53:18.977774Z",
          "iopub.status.idle": "2022-05-06T08:53:18.985427Z",
          "shell.execute_reply.started": "2022-05-06T08:53:18.977733Z",
          "shell.execute_reply": "2022-05-06T08:53:18.984789Z"
        },
        "trusted": true,
        "id": "0DWaRY9E2fB0",
        "colab": {
          "base_uri": "https://localhost:8080/"
        },
        "outputId": "0565d700-3a8f-4239-cc94-01f7343a5fe9"
      },
      "execution_count": 64,
      "outputs": [
        {
          "output_type": "execute_result",
          "data": {
            "text/plain": [
              "Store                    int64\n",
              "Date            datetime64[ns]\n",
              "Weekly_Sales           float64\n",
              "Holiday_Flag             int64\n",
              "Temperature            float64\n",
              "Fuel_Price             float64\n",
              "CPI                    float64\n",
              "Unemployment           float64\n",
              "dtype: object"
            ]
          },
          "metadata": {},
          "execution_count": 64
        }
      ]
    },
    {
      "cell_type": "code",
      "source": [
        "df.head()"
      ],
      "metadata": {
        "execution": {
          "iopub.status.busy": "2022-05-06T08:53:19.537643Z",
          "iopub.execute_input": "2022-05-06T08:53:19.537954Z",
          "iopub.status.idle": "2022-05-06T08:53:19.555106Z",
          "shell.execute_reply.started": "2022-05-06T08:53:19.537922Z",
          "shell.execute_reply": "2022-05-06T08:53:19.554243Z"
        },
        "trusted": true,
        "id": "0rk8pnPl2fB1",
        "colab": {
          "base_uri": "https://localhost:8080/",
          "height": 206
        },
        "outputId": "0d46758d-f545-4fee-ef83-d45abcf3767f"
      },
      "execution_count": 10,
      "outputs": [
        {
          "output_type": "execute_result",
          "data": {
            "text/plain": [
              "   Store       Date  Weekly_Sales  Holiday_Flag  Temperature  Fuel_Price  \\\n",
              "0      1 2010-05-02    1643690.90             0        42.31       2.572   \n",
              "1      1 2010-12-02    1641957.44             1        38.51       2.548   \n",
              "2      1 2010-02-19    1611968.17             0        39.93       2.514   \n",
              "3      1 2010-02-26    1409727.59             0        46.63       2.561   \n",
              "4      1 2010-05-03    1554806.68             0        46.50       2.625   \n",
              "\n",
              "          CPI  Unemployment  \n",
              "0  211.096358         8.106  \n",
              "1  211.242170         8.106  \n",
              "2  211.289143         8.106  \n",
              "3  211.319643         8.106  \n",
              "4  211.350143         8.106  "
            ],
            "text/html": [
              "\n",
              "  <div id=\"df-d5414cf0-f3b3-4c63-8f76-47603bd3277d\">\n",
              "    <div class=\"colab-df-container\">\n",
              "      <div>\n",
              "<style scoped>\n",
              "    .dataframe tbody tr th:only-of-type {\n",
              "        vertical-align: middle;\n",
              "    }\n",
              "\n",
              "    .dataframe tbody tr th {\n",
              "        vertical-align: top;\n",
              "    }\n",
              "\n",
              "    .dataframe thead th {\n",
              "        text-align: right;\n",
              "    }\n",
              "</style>\n",
              "<table border=\"1\" class=\"dataframe\">\n",
              "  <thead>\n",
              "    <tr style=\"text-align: right;\">\n",
              "      <th></th>\n",
              "      <th>Store</th>\n",
              "      <th>Date</th>\n",
              "      <th>Weekly_Sales</th>\n",
              "      <th>Holiday_Flag</th>\n",
              "      <th>Temperature</th>\n",
              "      <th>Fuel_Price</th>\n",
              "      <th>CPI</th>\n",
              "      <th>Unemployment</th>\n",
              "    </tr>\n",
              "  </thead>\n",
              "  <tbody>\n",
              "    <tr>\n",
              "      <th>0</th>\n",
              "      <td>1</td>\n",
              "      <td>2010-05-02</td>\n",
              "      <td>1643690.90</td>\n",
              "      <td>0</td>\n",
              "      <td>42.31</td>\n",
              "      <td>2.572</td>\n",
              "      <td>211.096358</td>\n",
              "      <td>8.106</td>\n",
              "    </tr>\n",
              "    <tr>\n",
              "      <th>1</th>\n",
              "      <td>1</td>\n",
              "      <td>2010-12-02</td>\n",
              "      <td>1641957.44</td>\n",
              "      <td>1</td>\n",
              "      <td>38.51</td>\n",
              "      <td>2.548</td>\n",
              "      <td>211.242170</td>\n",
              "      <td>8.106</td>\n",
              "    </tr>\n",
              "    <tr>\n",
              "      <th>2</th>\n",
              "      <td>1</td>\n",
              "      <td>2010-02-19</td>\n",
              "      <td>1611968.17</td>\n",
              "      <td>0</td>\n",
              "      <td>39.93</td>\n",
              "      <td>2.514</td>\n",
              "      <td>211.289143</td>\n",
              "      <td>8.106</td>\n",
              "    </tr>\n",
              "    <tr>\n",
              "      <th>3</th>\n",
              "      <td>1</td>\n",
              "      <td>2010-02-26</td>\n",
              "      <td>1409727.59</td>\n",
              "      <td>0</td>\n",
              "      <td>46.63</td>\n",
              "      <td>2.561</td>\n",
              "      <td>211.319643</td>\n",
              "      <td>8.106</td>\n",
              "    </tr>\n",
              "    <tr>\n",
              "      <th>4</th>\n",
              "      <td>1</td>\n",
              "      <td>2010-05-03</td>\n",
              "      <td>1554806.68</td>\n",
              "      <td>0</td>\n",
              "      <td>46.50</td>\n",
              "      <td>2.625</td>\n",
              "      <td>211.350143</td>\n",
              "      <td>8.106</td>\n",
              "    </tr>\n",
              "  </tbody>\n",
              "</table>\n",
              "</div>\n",
              "      <button class=\"colab-df-convert\" onclick=\"convertToInteractive('df-d5414cf0-f3b3-4c63-8f76-47603bd3277d')\"\n",
              "              title=\"Convert this dataframe to an interactive table.\"\n",
              "              style=\"display:none;\">\n",
              "        \n",
              "  <svg xmlns=\"http://www.w3.org/2000/svg\" height=\"24px\"viewBox=\"0 0 24 24\"\n",
              "       width=\"24px\">\n",
              "    <path d=\"M0 0h24v24H0V0z\" fill=\"none\"/>\n",
              "    <path d=\"M18.56 5.44l.94 2.06.94-2.06 2.06-.94-2.06-.94-.94-2.06-.94 2.06-2.06.94zm-11 1L8.5 8.5l.94-2.06 2.06-.94-2.06-.94L8.5 2.5l-.94 2.06-2.06.94zm10 10l.94 2.06.94-2.06 2.06-.94-2.06-.94-.94-2.06-.94 2.06-2.06.94z\"/><path d=\"M17.41 7.96l-1.37-1.37c-.4-.4-.92-.59-1.43-.59-.52 0-1.04.2-1.43.59L10.3 9.45l-7.72 7.72c-.78.78-.78 2.05 0 2.83L4 21.41c.39.39.9.59 1.41.59.51 0 1.02-.2 1.41-.59l7.78-7.78 2.81-2.81c.8-.78.8-2.07 0-2.86zM5.41 20L4 18.59l7.72-7.72 1.47 1.35L5.41 20z\"/>\n",
              "  </svg>\n",
              "      </button>\n",
              "      \n",
              "  <style>\n",
              "    .colab-df-container {\n",
              "      display:flex;\n",
              "      flex-wrap:wrap;\n",
              "      gap: 12px;\n",
              "    }\n",
              "\n",
              "    .colab-df-convert {\n",
              "      background-color: #E8F0FE;\n",
              "      border: none;\n",
              "      border-radius: 50%;\n",
              "      cursor: pointer;\n",
              "      display: none;\n",
              "      fill: #1967D2;\n",
              "      height: 32px;\n",
              "      padding: 0 0 0 0;\n",
              "      width: 32px;\n",
              "    }\n",
              "\n",
              "    .colab-df-convert:hover {\n",
              "      background-color: #E2EBFA;\n",
              "      box-shadow: 0px 1px 2px rgba(60, 64, 67, 0.3), 0px 1px 3px 1px rgba(60, 64, 67, 0.15);\n",
              "      fill: #174EA6;\n",
              "    }\n",
              "\n",
              "    [theme=dark] .colab-df-convert {\n",
              "      background-color: #3B4455;\n",
              "      fill: #D2E3FC;\n",
              "    }\n",
              "\n",
              "    [theme=dark] .colab-df-convert:hover {\n",
              "      background-color: #434B5C;\n",
              "      box-shadow: 0px 1px 3px 1px rgba(0, 0, 0, 0.15);\n",
              "      filter: drop-shadow(0px 1px 2px rgba(0, 0, 0, 0.3));\n",
              "      fill: #FFFFFF;\n",
              "    }\n",
              "  </style>\n",
              "\n",
              "      <script>\n",
              "        const buttonEl =\n",
              "          document.querySelector('#df-d5414cf0-f3b3-4c63-8f76-47603bd3277d button.colab-df-convert');\n",
              "        buttonEl.style.display =\n",
              "          google.colab.kernel.accessAllowed ? 'block' : 'none';\n",
              "\n",
              "        async function convertToInteractive(key) {\n",
              "          const element = document.querySelector('#df-d5414cf0-f3b3-4c63-8f76-47603bd3277d');\n",
              "          const dataTable =\n",
              "            await google.colab.kernel.invokeFunction('convertToInteractive',\n",
              "                                                     [key], {});\n",
              "          if (!dataTable) return;\n",
              "\n",
              "          const docLinkHtml = 'Like what you see? Visit the ' +\n",
              "            '<a target=\"_blank\" href=https://colab.research.google.com/notebooks/data_table.ipynb>data table notebook</a>'\n",
              "            + ' to learn more about interactive tables.';\n",
              "          element.innerHTML = '';\n",
              "          dataTable['output_type'] = 'display_data';\n",
              "          await google.colab.output.renderOutput(dataTable, element);\n",
              "          const docLink = document.createElement('div');\n",
              "          docLink.innerHTML = docLinkHtml;\n",
              "          element.appendChild(docLink);\n",
              "        }\n",
              "      </script>\n",
              "    </div>\n",
              "  </div>\n",
              "  "
            ]
          },
          "metadata": {},
          "execution_count": 10
        }
      ]
    },
    {
      "cell_type": "code",
      "source": [
        "df.info()"
      ],
      "metadata": {
        "execution": {
          "iopub.status.busy": "2022-05-06T08:53:19.833252Z",
          "iopub.execute_input": "2022-05-06T08:53:19.834016Z",
          "iopub.status.idle": "2022-05-06T08:53:19.854445Z",
          "shell.execute_reply.started": "2022-05-06T08:53:19.833968Z",
          "shell.execute_reply": "2022-05-06T08:53:19.853292Z"
        },
        "trusted": true,
        "id": "yhvbDMLy2fB1",
        "colab": {
          "base_uri": "https://localhost:8080/"
        },
        "outputId": "4fc4c98a-c659-4ce9-9bc4-6af82ceefd54"
      },
      "execution_count": 65,
      "outputs": [
        {
          "output_type": "stream",
          "name": "stdout",
          "text": [
            "<class 'pandas.core.frame.DataFrame'>\n",
            "RangeIndex: 6435 entries, 0 to 6434\n",
            "Data columns (total 8 columns):\n",
            " #   Column        Non-Null Count  Dtype         \n",
            "---  ------        --------------  -----         \n",
            " 0   Store         6435 non-null   int64         \n",
            " 1   Date          6435 non-null   datetime64[ns]\n",
            " 2   Weekly_Sales  6435 non-null   float64       \n",
            " 3   Holiday_Flag  6435 non-null   int64         \n",
            " 4   Temperature   6435 non-null   float64       \n",
            " 5   Fuel_Price    6435 non-null   float64       \n",
            " 6   CPI           6435 non-null   float64       \n",
            " 7   Unemployment  6435 non-null   float64       \n",
            "dtypes: datetime64[ns](1), float64(5), int64(2)\n",
            "memory usage: 402.3 KB\n"
          ]
        }
      ]
    },
    {
      "cell_type": "code",
      "source": [
        "# Descriptive Statistics\n",
        "\n",
        "df.describe().T"
      ],
      "metadata": {
        "execution": {
          "iopub.status.busy": "2022-05-06T08:53:20.037901Z",
          "iopub.execute_input": "2022-05-06T08:53:20.038593Z",
          "iopub.status.idle": "2022-05-06T08:53:20.076036Z",
          "shell.execute_reply.started": "2022-05-06T08:53:20.038546Z",
          "shell.execute_reply": "2022-05-06T08:53:20.075072Z"
        },
        "trusted": true,
        "id": "IKI1k9E72fB2",
        "colab": {
          "base_uri": "https://localhost:8080/",
          "height": 269
        },
        "outputId": "99b2b6ed-dc5b-4b92-e868-e58816b34df6"
      },
      "execution_count": 12,
      "outputs": [
        {
          "output_type": "execute_result",
          "data": {
            "text/plain": [
              "               count          mean            std         min         25%  \\\n",
              "Store         6435.0  2.300000e+01      12.988182       1.000      12.000   \n",
              "Weekly_Sales  6435.0  1.046965e+06  564366.622054  209986.250  553350.105   \n",
              "Holiday_Flag  6435.0  6.993007e-02       0.255049       0.000       0.000   \n",
              "Temperature   6435.0  6.066378e+01      18.444933      -2.060      47.460   \n",
              "Fuel_Price    6435.0  3.358607e+00       0.459020       2.472       2.933   \n",
              "CPI           6435.0  1.715784e+02      39.356712     126.064     131.735   \n",
              "Unemployment  6435.0  7.999151e+00       1.875885       3.879       6.891   \n",
              "\n",
              "                        50%           75%           max  \n",
              "Store             23.000000  3.400000e+01  4.500000e+01  \n",
              "Weekly_Sales  960746.040000  1.420159e+06  3.818686e+06  \n",
              "Holiday_Flag       0.000000  0.000000e+00  1.000000e+00  \n",
              "Temperature       62.670000  7.494000e+01  1.001400e+02  \n",
              "Fuel_Price         3.445000  3.735000e+00  4.468000e+00  \n",
              "CPI              182.616521  2.127433e+02  2.272328e+02  \n",
              "Unemployment       7.874000  8.622000e+00  1.431300e+01  "
            ],
            "text/html": [
              "\n",
              "  <div id=\"df-937f0fbf-e60e-4bf2-8a7b-8c655575528c\">\n",
              "    <div class=\"colab-df-container\">\n",
              "      <div>\n",
              "<style scoped>\n",
              "    .dataframe tbody tr th:only-of-type {\n",
              "        vertical-align: middle;\n",
              "    }\n",
              "\n",
              "    .dataframe tbody tr th {\n",
              "        vertical-align: top;\n",
              "    }\n",
              "\n",
              "    .dataframe thead th {\n",
              "        text-align: right;\n",
              "    }\n",
              "</style>\n",
              "<table border=\"1\" class=\"dataframe\">\n",
              "  <thead>\n",
              "    <tr style=\"text-align: right;\">\n",
              "      <th></th>\n",
              "      <th>count</th>\n",
              "      <th>mean</th>\n",
              "      <th>std</th>\n",
              "      <th>min</th>\n",
              "      <th>25%</th>\n",
              "      <th>50%</th>\n",
              "      <th>75%</th>\n",
              "      <th>max</th>\n",
              "    </tr>\n",
              "  </thead>\n",
              "  <tbody>\n",
              "    <tr>\n",
              "      <th>Store</th>\n",
              "      <td>6435.0</td>\n",
              "      <td>2.300000e+01</td>\n",
              "      <td>12.988182</td>\n",
              "      <td>1.000</td>\n",
              "      <td>12.000</td>\n",
              "      <td>23.000000</td>\n",
              "      <td>3.400000e+01</td>\n",
              "      <td>4.500000e+01</td>\n",
              "    </tr>\n",
              "    <tr>\n",
              "      <th>Weekly_Sales</th>\n",
              "      <td>6435.0</td>\n",
              "      <td>1.046965e+06</td>\n",
              "      <td>564366.622054</td>\n",
              "      <td>209986.250</td>\n",
              "      <td>553350.105</td>\n",
              "      <td>960746.040000</td>\n",
              "      <td>1.420159e+06</td>\n",
              "      <td>3.818686e+06</td>\n",
              "    </tr>\n",
              "    <tr>\n",
              "      <th>Holiday_Flag</th>\n",
              "      <td>6435.0</td>\n",
              "      <td>6.993007e-02</td>\n",
              "      <td>0.255049</td>\n",
              "      <td>0.000</td>\n",
              "      <td>0.000</td>\n",
              "      <td>0.000000</td>\n",
              "      <td>0.000000e+00</td>\n",
              "      <td>1.000000e+00</td>\n",
              "    </tr>\n",
              "    <tr>\n",
              "      <th>Temperature</th>\n",
              "      <td>6435.0</td>\n",
              "      <td>6.066378e+01</td>\n",
              "      <td>18.444933</td>\n",
              "      <td>-2.060</td>\n",
              "      <td>47.460</td>\n",
              "      <td>62.670000</td>\n",
              "      <td>7.494000e+01</td>\n",
              "      <td>1.001400e+02</td>\n",
              "    </tr>\n",
              "    <tr>\n",
              "      <th>Fuel_Price</th>\n",
              "      <td>6435.0</td>\n",
              "      <td>3.358607e+00</td>\n",
              "      <td>0.459020</td>\n",
              "      <td>2.472</td>\n",
              "      <td>2.933</td>\n",
              "      <td>3.445000</td>\n",
              "      <td>3.735000e+00</td>\n",
              "      <td>4.468000e+00</td>\n",
              "    </tr>\n",
              "    <tr>\n",
              "      <th>CPI</th>\n",
              "      <td>6435.0</td>\n",
              "      <td>1.715784e+02</td>\n",
              "      <td>39.356712</td>\n",
              "      <td>126.064</td>\n",
              "      <td>131.735</td>\n",
              "      <td>182.616521</td>\n",
              "      <td>2.127433e+02</td>\n",
              "      <td>2.272328e+02</td>\n",
              "    </tr>\n",
              "    <tr>\n",
              "      <th>Unemployment</th>\n",
              "      <td>6435.0</td>\n",
              "      <td>7.999151e+00</td>\n",
              "      <td>1.875885</td>\n",
              "      <td>3.879</td>\n",
              "      <td>6.891</td>\n",
              "      <td>7.874000</td>\n",
              "      <td>8.622000e+00</td>\n",
              "      <td>1.431300e+01</td>\n",
              "    </tr>\n",
              "  </tbody>\n",
              "</table>\n",
              "</div>\n",
              "      <button class=\"colab-df-convert\" onclick=\"convertToInteractive('df-937f0fbf-e60e-4bf2-8a7b-8c655575528c')\"\n",
              "              title=\"Convert this dataframe to an interactive table.\"\n",
              "              style=\"display:none;\">\n",
              "        \n",
              "  <svg xmlns=\"http://www.w3.org/2000/svg\" height=\"24px\"viewBox=\"0 0 24 24\"\n",
              "       width=\"24px\">\n",
              "    <path d=\"M0 0h24v24H0V0z\" fill=\"none\"/>\n",
              "    <path d=\"M18.56 5.44l.94 2.06.94-2.06 2.06-.94-2.06-.94-.94-2.06-.94 2.06-2.06.94zm-11 1L8.5 8.5l.94-2.06 2.06-.94-2.06-.94L8.5 2.5l-.94 2.06-2.06.94zm10 10l.94 2.06.94-2.06 2.06-.94-2.06-.94-.94-2.06-.94 2.06-2.06.94z\"/><path d=\"M17.41 7.96l-1.37-1.37c-.4-.4-.92-.59-1.43-.59-.52 0-1.04.2-1.43.59L10.3 9.45l-7.72 7.72c-.78.78-.78 2.05 0 2.83L4 21.41c.39.39.9.59 1.41.59.51 0 1.02-.2 1.41-.59l7.78-7.78 2.81-2.81c.8-.78.8-2.07 0-2.86zM5.41 20L4 18.59l7.72-7.72 1.47 1.35L5.41 20z\"/>\n",
              "  </svg>\n",
              "      </button>\n",
              "      \n",
              "  <style>\n",
              "    .colab-df-container {\n",
              "      display:flex;\n",
              "      flex-wrap:wrap;\n",
              "      gap: 12px;\n",
              "    }\n",
              "\n",
              "    .colab-df-convert {\n",
              "      background-color: #E8F0FE;\n",
              "      border: none;\n",
              "      border-radius: 50%;\n",
              "      cursor: pointer;\n",
              "      display: none;\n",
              "      fill: #1967D2;\n",
              "      height: 32px;\n",
              "      padding: 0 0 0 0;\n",
              "      width: 32px;\n",
              "    }\n",
              "\n",
              "    .colab-df-convert:hover {\n",
              "      background-color: #E2EBFA;\n",
              "      box-shadow: 0px 1px 2px rgba(60, 64, 67, 0.3), 0px 1px 3px 1px rgba(60, 64, 67, 0.15);\n",
              "      fill: #174EA6;\n",
              "    }\n",
              "\n",
              "    [theme=dark] .colab-df-convert {\n",
              "      background-color: #3B4455;\n",
              "      fill: #D2E3FC;\n",
              "    }\n",
              "\n",
              "    [theme=dark] .colab-df-convert:hover {\n",
              "      background-color: #434B5C;\n",
              "      box-shadow: 0px 1px 3px 1px rgba(0, 0, 0, 0.15);\n",
              "      filter: drop-shadow(0px 1px 2px rgba(0, 0, 0, 0.3));\n",
              "      fill: #FFFFFF;\n",
              "    }\n",
              "  </style>\n",
              "\n",
              "      <script>\n",
              "        const buttonEl =\n",
              "          document.querySelector('#df-937f0fbf-e60e-4bf2-8a7b-8c655575528c button.colab-df-convert');\n",
              "        buttonEl.style.display =\n",
              "          google.colab.kernel.accessAllowed ? 'block' : 'none';\n",
              "\n",
              "        async function convertToInteractive(key) {\n",
              "          const element = document.querySelector('#df-937f0fbf-e60e-4bf2-8a7b-8c655575528c');\n",
              "          const dataTable =\n",
              "            await google.colab.kernel.invokeFunction('convertToInteractive',\n",
              "                                                     [key], {});\n",
              "          if (!dataTable) return;\n",
              "\n",
              "          const docLinkHtml = 'Like what you see? Visit the ' +\n",
              "            '<a target=\"_blank\" href=https://colab.research.google.com/notebooks/data_table.ipynb>data table notebook</a>'\n",
              "            + ' to learn more about interactive tables.';\n",
              "          element.innerHTML = '';\n",
              "          dataTable['output_type'] = 'display_data';\n",
              "          await google.colab.output.renderOutput(dataTable, element);\n",
              "          const docLink = document.createElement('div');\n",
              "          docLink.innerHTML = docLinkHtml;\n",
              "          element.appendChild(docLink);\n",
              "        }\n",
              "      </script>\n",
              "    </div>\n",
              "  </div>\n",
              "  "
            ]
          },
          "metadata": {},
          "execution_count": 12
        }
      ]
    },
    {
      "cell_type": "code",
      "source": [
        "df.isnull().sum()"
      ],
      "metadata": {
        "execution": {
          "iopub.status.busy": "2022-05-06T08:53:20.319436Z",
          "iopub.execute_input": "2022-05-06T08:53:20.320345Z",
          "iopub.status.idle": "2022-05-06T08:53:20.329922Z",
          "shell.execute_reply.started": "2022-05-06T08:53:20.320301Z",
          "shell.execute_reply": "2022-05-06T08:53:20.329298Z"
        },
        "trusted": true,
        "id": "l19yXQv92fB2",
        "colab": {
          "base_uri": "https://localhost:8080/"
        },
        "outputId": "5478700b-0c2f-4e25-da1b-a66f576e8366"
      },
      "execution_count": 13,
      "outputs": [
        {
          "output_type": "execute_result",
          "data": {
            "text/plain": [
              "Store           0\n",
              "Date            0\n",
              "Weekly_Sales    0\n",
              "Holiday_Flag    0\n",
              "Temperature     0\n",
              "Fuel_Price      0\n",
              "CPI             0\n",
              "Unemployment    0\n",
              "dtype: int64"
            ]
          },
          "metadata": {},
          "execution_count": 13
        }
      ]
    },
    {
      "cell_type": "markdown",
      "source": [
        "------------------------------------------"
      ],
      "metadata": {
        "id": "-iv095iW2fB2"
      }
    },
    {
      "cell_type": "markdown",
      "source": [
        "# **(1) Which store has maximum sales?**"
      ],
      "metadata": {
        "id": "mwRCarBT2fB3"
      }
    },
    {
      "cell_type": "code",
      "source": [
        "total_sales = df.groupby('Store')['Weekly_Sales'].sum().round().sort_values(ascending=False)"
      ],
      "metadata": {
        "execution": {
          "iopub.status.busy": "2022-05-06T08:53:21.466909Z",
          "iopub.execute_input": "2022-05-06T08:53:21.467459Z",
          "iopub.status.idle": "2022-05-06T08:53:21.47378Z",
          "shell.execute_reply.started": "2022-05-06T08:53:21.467422Z",
          "shell.execute_reply": "2022-05-06T08:53:21.472951Z"
        },
        "trusted": true,
        "id": "Be0yY2qo2fB3"
      },
      "execution_count": 66,
      "outputs": []
    },
    {
      "cell_type": "code",
      "source": [
        "# Maximum Sales\n",
        "\n",
        "pd.DataFrame(total_sales).head(1)"
      ],
      "metadata": {
        "execution": {
          "iopub.status.busy": "2022-05-06T08:53:21.724758Z",
          "iopub.execute_input": "2022-05-06T08:53:21.725254Z",
          "iopub.status.idle": "2022-05-06T08:53:21.735186Z",
          "shell.execute_reply.started": "2022-05-06T08:53:21.725219Z",
          "shell.execute_reply": "2022-05-06T08:53:21.734298Z"
        },
        "trusted": true,
        "id": "5Z8ziIye2fB3",
        "colab": {
          "base_uri": "https://localhost:8080/",
          "height": 112
        },
        "outputId": "7ec52b0b-36e9-4e77-df2c-816a2aba345c"
      },
      "execution_count": 67,
      "outputs": [
        {
          "output_type": "execute_result",
          "data": {
            "text/plain": [
              "       Weekly_Sales\n",
              "Store              \n",
              "20      301397792.0"
            ],
            "text/html": [
              "\n",
              "  <div id=\"df-3993d7c6-9fd4-4329-a161-838fda0843ec\">\n",
              "    <div class=\"colab-df-container\">\n",
              "      <div>\n",
              "<style scoped>\n",
              "    .dataframe tbody tr th:only-of-type {\n",
              "        vertical-align: middle;\n",
              "    }\n",
              "\n",
              "    .dataframe tbody tr th {\n",
              "        vertical-align: top;\n",
              "    }\n",
              "\n",
              "    .dataframe thead th {\n",
              "        text-align: right;\n",
              "    }\n",
              "</style>\n",
              "<table border=\"1\" class=\"dataframe\">\n",
              "  <thead>\n",
              "    <tr style=\"text-align: right;\">\n",
              "      <th></th>\n",
              "      <th>Weekly_Sales</th>\n",
              "    </tr>\n",
              "    <tr>\n",
              "      <th>Store</th>\n",
              "      <th></th>\n",
              "    </tr>\n",
              "  </thead>\n",
              "  <tbody>\n",
              "    <tr>\n",
              "      <th>20</th>\n",
              "      <td>301397792.0</td>\n",
              "    </tr>\n",
              "  </tbody>\n",
              "</table>\n",
              "</div>\n",
              "      <button class=\"colab-df-convert\" onclick=\"convertToInteractive('df-3993d7c6-9fd4-4329-a161-838fda0843ec')\"\n",
              "              title=\"Convert this dataframe to an interactive table.\"\n",
              "              style=\"display:none;\">\n",
              "        \n",
              "  <svg xmlns=\"http://www.w3.org/2000/svg\" height=\"24px\"viewBox=\"0 0 24 24\"\n",
              "       width=\"24px\">\n",
              "    <path d=\"M0 0h24v24H0V0z\" fill=\"none\"/>\n",
              "    <path d=\"M18.56 5.44l.94 2.06.94-2.06 2.06-.94-2.06-.94-.94-2.06-.94 2.06-2.06.94zm-11 1L8.5 8.5l.94-2.06 2.06-.94-2.06-.94L8.5 2.5l-.94 2.06-2.06.94zm10 10l.94 2.06.94-2.06 2.06-.94-2.06-.94-.94-2.06-.94 2.06-2.06.94z\"/><path d=\"M17.41 7.96l-1.37-1.37c-.4-.4-.92-.59-1.43-.59-.52 0-1.04.2-1.43.59L10.3 9.45l-7.72 7.72c-.78.78-.78 2.05 0 2.83L4 21.41c.39.39.9.59 1.41.59.51 0 1.02-.2 1.41-.59l7.78-7.78 2.81-2.81c.8-.78.8-2.07 0-2.86zM5.41 20L4 18.59l7.72-7.72 1.47 1.35L5.41 20z\"/>\n",
              "  </svg>\n",
              "      </button>\n",
              "      \n",
              "  <style>\n",
              "    .colab-df-container {\n",
              "      display:flex;\n",
              "      flex-wrap:wrap;\n",
              "      gap: 12px;\n",
              "    }\n",
              "\n",
              "    .colab-df-convert {\n",
              "      background-color: #E8F0FE;\n",
              "      border: none;\n",
              "      border-radius: 50%;\n",
              "      cursor: pointer;\n",
              "      display: none;\n",
              "      fill: #1967D2;\n",
              "      height: 32px;\n",
              "      padding: 0 0 0 0;\n",
              "      width: 32px;\n",
              "    }\n",
              "\n",
              "    .colab-df-convert:hover {\n",
              "      background-color: #E2EBFA;\n",
              "      box-shadow: 0px 1px 2px rgba(60, 64, 67, 0.3), 0px 1px 3px 1px rgba(60, 64, 67, 0.15);\n",
              "      fill: #174EA6;\n",
              "    }\n",
              "\n",
              "    [theme=dark] .colab-df-convert {\n",
              "      background-color: #3B4455;\n",
              "      fill: #D2E3FC;\n",
              "    }\n",
              "\n",
              "    [theme=dark] .colab-df-convert:hover {\n",
              "      background-color: #434B5C;\n",
              "      box-shadow: 0px 1px 3px 1px rgba(0, 0, 0, 0.15);\n",
              "      filter: drop-shadow(0px 1px 2px rgba(0, 0, 0, 0.3));\n",
              "      fill: #FFFFFF;\n",
              "    }\n",
              "  </style>\n",
              "\n",
              "      <script>\n",
              "        const buttonEl =\n",
              "          document.querySelector('#df-3993d7c6-9fd4-4329-a161-838fda0843ec button.colab-df-convert');\n",
              "        buttonEl.style.display =\n",
              "          google.colab.kernel.accessAllowed ? 'block' : 'none';\n",
              "\n",
              "        async function convertToInteractive(key) {\n",
              "          const element = document.querySelector('#df-3993d7c6-9fd4-4329-a161-838fda0843ec');\n",
              "          const dataTable =\n",
              "            await google.colab.kernel.invokeFunction('convertToInteractive',\n",
              "                                                     [key], {});\n",
              "          if (!dataTable) return;\n",
              "\n",
              "          const docLinkHtml = 'Like what you see? Visit the ' +\n",
              "            '<a target=\"_blank\" href=https://colab.research.google.com/notebooks/data_table.ipynb>data table notebook</a>'\n",
              "            + ' to learn more about interactive tables.';\n",
              "          element.innerHTML = '';\n",
              "          dataTable['output_type'] = 'display_data';\n",
              "          await google.colab.output.renderOutput(dataTable, element);\n",
              "          const docLink = document.createElement('div');\n",
              "          docLink.innerHTML = docLinkHtml;\n",
              "          element.appendChild(docLink);\n",
              "        }\n",
              "      </script>\n",
              "    </div>\n",
              "  </div>\n",
              "  "
            ]
          },
          "metadata": {},
          "execution_count": 67
        }
      ]
    },
    {
      "cell_type": "code",
      "source": [
        "# Minimum Sales\n",
        "\n",
        "pd.DataFrame(total_sales).tail(1)"
      ],
      "metadata": {
        "execution": {
          "iopub.status.busy": "2022-05-06T08:53:22.395819Z",
          "iopub.execute_input": "2022-05-06T08:53:22.396198Z",
          "iopub.status.idle": "2022-05-06T08:53:22.408295Z",
          "shell.execute_reply.started": "2022-05-06T08:53:22.396158Z",
          "shell.execute_reply": "2022-05-06T08:53:22.407365Z"
        },
        "trusted": true,
        "id": "_9hahnPw2fB4",
        "colab": {
          "base_uri": "https://localhost:8080/",
          "height": 112
        },
        "outputId": "1de60052-3de9-4338-c694-989077422444"
      },
      "execution_count": 68,
      "outputs": [
        {
          "output_type": "execute_result",
          "data": {
            "text/plain": [
              "       Weekly_Sales\n",
              "Store              \n",
              "33       37160222.0"
            ],
            "text/html": [
              "\n",
              "  <div id=\"df-97017af1-bb55-46d5-bd8e-1acd141a00c0\">\n",
              "    <div class=\"colab-df-container\">\n",
              "      <div>\n",
              "<style scoped>\n",
              "    .dataframe tbody tr th:only-of-type {\n",
              "        vertical-align: middle;\n",
              "    }\n",
              "\n",
              "    .dataframe tbody tr th {\n",
              "        vertical-align: top;\n",
              "    }\n",
              "\n",
              "    .dataframe thead th {\n",
              "        text-align: right;\n",
              "    }\n",
              "</style>\n",
              "<table border=\"1\" class=\"dataframe\">\n",
              "  <thead>\n",
              "    <tr style=\"text-align: right;\">\n",
              "      <th></th>\n",
              "      <th>Weekly_Sales</th>\n",
              "    </tr>\n",
              "    <tr>\n",
              "      <th>Store</th>\n",
              "      <th></th>\n",
              "    </tr>\n",
              "  </thead>\n",
              "  <tbody>\n",
              "    <tr>\n",
              "      <th>33</th>\n",
              "      <td>37160222.0</td>\n",
              "    </tr>\n",
              "  </tbody>\n",
              "</table>\n",
              "</div>\n",
              "      <button class=\"colab-df-convert\" onclick=\"convertToInteractive('df-97017af1-bb55-46d5-bd8e-1acd141a00c0')\"\n",
              "              title=\"Convert this dataframe to an interactive table.\"\n",
              "              style=\"display:none;\">\n",
              "        \n",
              "  <svg xmlns=\"http://www.w3.org/2000/svg\" height=\"24px\"viewBox=\"0 0 24 24\"\n",
              "       width=\"24px\">\n",
              "    <path d=\"M0 0h24v24H0V0z\" fill=\"none\"/>\n",
              "    <path d=\"M18.56 5.44l.94 2.06.94-2.06 2.06-.94-2.06-.94-.94-2.06-.94 2.06-2.06.94zm-11 1L8.5 8.5l.94-2.06 2.06-.94-2.06-.94L8.5 2.5l-.94 2.06-2.06.94zm10 10l.94 2.06.94-2.06 2.06-.94-2.06-.94-.94-2.06-.94 2.06-2.06.94z\"/><path d=\"M17.41 7.96l-1.37-1.37c-.4-.4-.92-.59-1.43-.59-.52 0-1.04.2-1.43.59L10.3 9.45l-7.72 7.72c-.78.78-.78 2.05 0 2.83L4 21.41c.39.39.9.59 1.41.59.51 0 1.02-.2 1.41-.59l7.78-7.78 2.81-2.81c.8-.78.8-2.07 0-2.86zM5.41 20L4 18.59l7.72-7.72 1.47 1.35L5.41 20z\"/>\n",
              "  </svg>\n",
              "      </button>\n",
              "      \n",
              "  <style>\n",
              "    .colab-df-container {\n",
              "      display:flex;\n",
              "      flex-wrap:wrap;\n",
              "      gap: 12px;\n",
              "    }\n",
              "\n",
              "    .colab-df-convert {\n",
              "      background-color: #E8F0FE;\n",
              "      border: none;\n",
              "      border-radius: 50%;\n",
              "      cursor: pointer;\n",
              "      display: none;\n",
              "      fill: #1967D2;\n",
              "      height: 32px;\n",
              "      padding: 0 0 0 0;\n",
              "      width: 32px;\n",
              "    }\n",
              "\n",
              "    .colab-df-convert:hover {\n",
              "      background-color: #E2EBFA;\n",
              "      box-shadow: 0px 1px 2px rgba(60, 64, 67, 0.3), 0px 1px 3px 1px rgba(60, 64, 67, 0.15);\n",
              "      fill: #174EA6;\n",
              "    }\n",
              "\n",
              "    [theme=dark] .colab-df-convert {\n",
              "      background-color: #3B4455;\n",
              "      fill: #D2E3FC;\n",
              "    }\n",
              "\n",
              "    [theme=dark] .colab-df-convert:hover {\n",
              "      background-color: #434B5C;\n",
              "      box-shadow: 0px 1px 3px 1px rgba(0, 0, 0, 0.15);\n",
              "      filter: drop-shadow(0px 1px 2px rgba(0, 0, 0, 0.3));\n",
              "      fill: #FFFFFF;\n",
              "    }\n",
              "  </style>\n",
              "\n",
              "      <script>\n",
              "        const buttonEl =\n",
              "          document.querySelector('#df-97017af1-bb55-46d5-bd8e-1acd141a00c0 button.colab-df-convert');\n",
              "        buttonEl.style.display =\n",
              "          google.colab.kernel.accessAllowed ? 'block' : 'none';\n",
              "\n",
              "        async function convertToInteractive(key) {\n",
              "          const element = document.querySelector('#df-97017af1-bb55-46d5-bd8e-1acd141a00c0');\n",
              "          const dataTable =\n",
              "            await google.colab.kernel.invokeFunction('convertToInteractive',\n",
              "                                                     [key], {});\n",
              "          if (!dataTable) return;\n",
              "\n",
              "          const docLinkHtml = 'Like what you see? Visit the ' +\n",
              "            '<a target=\"_blank\" href=https://colab.research.google.com/notebooks/data_table.ipynb>data table notebook</a>'\n",
              "            + ' to learn more about interactive tables.';\n",
              "          element.innerHTML = '';\n",
              "          dataTable['output_type'] = 'display_data';\n",
              "          await google.colab.output.renderOutput(dataTable, element);\n",
              "          const docLink = document.createElement('div');\n",
              "          docLink.innerHTML = docLinkHtml;\n",
              "          element.appendChild(docLink);\n",
              "        }\n",
              "      </script>\n",
              "    </div>\n",
              "  </div>\n",
              "  "
            ]
          },
          "metadata": {},
          "execution_count": 68
        }
      ]
    },
    {
      "cell_type": "markdown",
      "source": [
        "#### Store - 20 has a maximum sales = $301,397,792 \n",
        "\n",
        "#### Store - 33 has a minimum sales = $37,160,222"
      ],
      "metadata": {
        "id": "PqiL-KT_2fB4"
      }
    },
    {
      "cell_type": "markdown",
      "source": [
        "------------------------------------------"
      ],
      "metadata": {
        "id": "WMvMOoab2fB4"
      }
    },
    {
      "cell_type": "markdown",
      "source": [
        "## **(2) Which store has maximum standard deviation Also, find out**\n",
        "## **the coefficient of mean to standard deviation**"
      ],
      "metadata": {
        "id": "A6iTeGsT2fB4"
      }
    },
    {
      "cell_type": "code",
      "source": [
        "df_std = df.groupby('Store')['Weekly_Sales'].std().round(3).sort_values(ascending=False)"
      ],
      "metadata": {
        "execution": {
          "iopub.status.busy": "2022-05-06T08:53:23.756746Z",
          "iopub.execute_input": "2022-05-06T08:53:23.757066Z",
          "iopub.status.idle": "2022-05-06T08:53:23.765065Z",
          "shell.execute_reply.started": "2022-05-06T08:53:23.757032Z",
          "shell.execute_reply": "2022-05-06T08:53:23.764362Z"
        },
        "trusted": true,
        "id": "B38EIVHR2fB5"
      },
      "execution_count": 53,
      "outputs": []
    },
    {
      "cell_type": "code",
      "source": [
        "pd.DataFrame(df_std).head()"
      ],
      "metadata": {
        "execution": {
          "iopub.status.busy": "2022-05-06T08:53:24.007696Z",
          "iopub.execute_input": "2022-05-06T08:53:24.00807Z",
          "iopub.status.idle": "2022-05-06T08:53:24.0193Z",
          "shell.execute_reply.started": "2022-05-06T08:53:24.00803Z",
          "shell.execute_reply": "2022-05-06T08:53:24.018368Z"
        },
        "trusted": true,
        "id": "UvI6pwpY2fB5",
        "colab": {
          "base_uri": "https://localhost:8080/",
          "height": 238
        },
        "outputId": "bb4f8f2e-1b3d-4d6b-e6a2-d319bc2367bf"
      },
      "execution_count": 54,
      "outputs": [
        {
          "output_type": "execute_result",
          "data": {
            "text/plain": [
              "       Weekly_Sales\n",
              "Store              \n",
              "14       317569.949\n",
              "4        307174.734\n",
              "10       302262.063\n",
              "20       275900.563\n",
              "13       265506.996"
            ],
            "text/html": [
              "\n",
              "  <div id=\"df-398ec40b-51e7-483a-a9a4-22288b7923a9\">\n",
              "    <div class=\"colab-df-container\">\n",
              "      <div>\n",
              "<style scoped>\n",
              "    .dataframe tbody tr th:only-of-type {\n",
              "        vertical-align: middle;\n",
              "    }\n",
              "\n",
              "    .dataframe tbody tr th {\n",
              "        vertical-align: top;\n",
              "    }\n",
              "\n",
              "    .dataframe thead th {\n",
              "        text-align: right;\n",
              "    }\n",
              "</style>\n",
              "<table border=\"1\" class=\"dataframe\">\n",
              "  <thead>\n",
              "    <tr style=\"text-align: right;\">\n",
              "      <th></th>\n",
              "      <th>Weekly_Sales</th>\n",
              "    </tr>\n",
              "    <tr>\n",
              "      <th>Store</th>\n",
              "      <th></th>\n",
              "    </tr>\n",
              "  </thead>\n",
              "  <tbody>\n",
              "    <tr>\n",
              "      <th>14</th>\n",
              "      <td>317569.949</td>\n",
              "    </tr>\n",
              "    <tr>\n",
              "      <th>4</th>\n",
              "      <td>307174.734</td>\n",
              "    </tr>\n",
              "    <tr>\n",
              "      <th>10</th>\n",
              "      <td>302262.063</td>\n",
              "    </tr>\n",
              "    <tr>\n",
              "      <th>20</th>\n",
              "      <td>275900.563</td>\n",
              "    </tr>\n",
              "    <tr>\n",
              "      <th>13</th>\n",
              "      <td>265506.996</td>\n",
              "    </tr>\n",
              "  </tbody>\n",
              "</table>\n",
              "</div>\n",
              "      <button class=\"colab-df-convert\" onclick=\"convertToInteractive('df-398ec40b-51e7-483a-a9a4-22288b7923a9')\"\n",
              "              title=\"Convert this dataframe to an interactive table.\"\n",
              "              style=\"display:none;\">\n",
              "        \n",
              "  <svg xmlns=\"http://www.w3.org/2000/svg\" height=\"24px\"viewBox=\"0 0 24 24\"\n",
              "       width=\"24px\">\n",
              "    <path d=\"M0 0h24v24H0V0z\" fill=\"none\"/>\n",
              "    <path d=\"M18.56 5.44l.94 2.06.94-2.06 2.06-.94-2.06-.94-.94-2.06-.94 2.06-2.06.94zm-11 1L8.5 8.5l.94-2.06 2.06-.94-2.06-.94L8.5 2.5l-.94 2.06-2.06.94zm10 10l.94 2.06.94-2.06 2.06-.94-2.06-.94-.94-2.06-.94 2.06-2.06.94z\"/><path d=\"M17.41 7.96l-1.37-1.37c-.4-.4-.92-.59-1.43-.59-.52 0-1.04.2-1.43.59L10.3 9.45l-7.72 7.72c-.78.78-.78 2.05 0 2.83L4 21.41c.39.39.9.59 1.41.59.51 0 1.02-.2 1.41-.59l7.78-7.78 2.81-2.81c.8-.78.8-2.07 0-2.86zM5.41 20L4 18.59l7.72-7.72 1.47 1.35L5.41 20z\"/>\n",
              "  </svg>\n",
              "      </button>\n",
              "      \n",
              "  <style>\n",
              "    .colab-df-container {\n",
              "      display:flex;\n",
              "      flex-wrap:wrap;\n",
              "      gap: 12px;\n",
              "    }\n",
              "\n",
              "    .colab-df-convert {\n",
              "      background-color: #E8F0FE;\n",
              "      border: none;\n",
              "      border-radius: 50%;\n",
              "      cursor: pointer;\n",
              "      display: none;\n",
              "      fill: #1967D2;\n",
              "      height: 32px;\n",
              "      padding: 0 0 0 0;\n",
              "      width: 32px;\n",
              "    }\n",
              "\n",
              "    .colab-df-convert:hover {\n",
              "      background-color: #E2EBFA;\n",
              "      box-shadow: 0px 1px 2px rgba(60, 64, 67, 0.3), 0px 1px 3px 1px rgba(60, 64, 67, 0.15);\n",
              "      fill: #174EA6;\n",
              "    }\n",
              "\n",
              "    [theme=dark] .colab-df-convert {\n",
              "      background-color: #3B4455;\n",
              "      fill: #D2E3FC;\n",
              "    }\n",
              "\n",
              "    [theme=dark] .colab-df-convert:hover {\n",
              "      background-color: #434B5C;\n",
              "      box-shadow: 0px 1px 3px 1px rgba(0, 0, 0, 0.15);\n",
              "      filter: drop-shadow(0px 1px 2px rgba(0, 0, 0, 0.3));\n",
              "      fill: #FFFFFF;\n",
              "    }\n",
              "  </style>\n",
              "\n",
              "      <script>\n",
              "        const buttonEl =\n",
              "          document.querySelector('#df-398ec40b-51e7-483a-a9a4-22288b7923a9 button.colab-df-convert');\n",
              "        buttonEl.style.display =\n",
              "          google.colab.kernel.accessAllowed ? 'block' : 'none';\n",
              "\n",
              "        async function convertToInteractive(key) {\n",
              "          const element = document.querySelector('#df-398ec40b-51e7-483a-a9a4-22288b7923a9');\n",
              "          const dataTable =\n",
              "            await google.colab.kernel.invokeFunction('convertToInteractive',\n",
              "                                                     [key], {});\n",
              "          if (!dataTable) return;\n",
              "\n",
              "          const docLinkHtml = 'Like what you see? Visit the ' +\n",
              "            '<a target=\"_blank\" href=https://colab.research.google.com/notebooks/data_table.ipynb>data table notebook</a>'\n",
              "            + ' to learn more about interactive tables.';\n",
              "          element.innerHTML = '';\n",
              "          dataTable['output_type'] = 'display_data';\n",
              "          await google.colab.output.renderOutput(dataTable, element);\n",
              "          const docLink = document.createElement('div');\n",
              "          docLink.innerHTML = docLinkHtml;\n",
              "          element.appendChild(docLink);\n",
              "        }\n",
              "      </script>\n",
              "    </div>\n",
              "  </div>\n",
              "  "
            ]
          },
          "metadata": {},
          "execution_count": 54
        }
      ]
    },
    {
      "cell_type": "markdown",
      "source": [
        "#### Store - 14 has a maximum standard deviation = $317,569.949"
      ],
      "metadata": {
        "id": "C6XaBjl42fB5"
      }
    },
    {
      "cell_type": "code",
      "source": [
        "store14 = df[df.Store == 14].Weekly_Sales"
      ],
      "metadata": {
        "execution": {
          "iopub.status.busy": "2022-05-06T08:53:24.467482Z",
          "iopub.execute_input": "2022-05-06T08:53:24.467832Z",
          "iopub.status.idle": "2022-05-06T08:53:24.475561Z",
          "shell.execute_reply.started": "2022-05-06T08:53:24.467791Z",
          "shell.execute_reply": "2022-05-06T08:53:24.474556Z"
        },
        "trusted": true,
        "id": "iSlTjemQ2fB5"
      },
      "execution_count": 19,
      "outputs": []
    },
    {
      "cell_type": "code",
      "source": [
        "mean_to_stddev = store14.std()/store14.mean()*100\n",
        "\n",
        "mean_to_stddev.round(2)"
      ],
      "metadata": {
        "execution": {
          "iopub.status.busy": "2022-05-06T08:53:25.215227Z",
          "iopub.execute_input": "2022-05-06T08:53:25.215575Z",
          "iopub.status.idle": "2022-05-06T08:53:25.222896Z",
          "shell.execute_reply.started": "2022-05-06T08:53:25.215535Z",
          "shell.execute_reply": "2022-05-06T08:53:25.222229Z"
        },
        "trusted": true,
        "id": "qsotp9Yi2fB6",
        "colab": {
          "base_uri": "https://localhost:8080/"
        },
        "outputId": "c4bffb5a-cf1e-482e-bc25-dc5970e0dc61"
      },
      "execution_count": 20,
      "outputs": [
        {
          "output_type": "execute_result",
          "data": {
            "text/plain": [
              "15.71"
            ]
          },
          "metadata": {},
          "execution_count": 20
        }
      ]
    },
    {
      "cell_type": "markdown",
      "source": [
        "#### Mean to Standard Deviation = 15.71%"
      ],
      "metadata": {
        "id": "NJaDSklB2fB6"
      }
    },
    {
      "cell_type": "markdown",
      "source": [
        "------------------------------------------"
      ],
      "metadata": {
        "id": "p4US0U4n2fB6"
      }
    },
    {
      "cell_type": "markdown",
      "source": [
        "## **(3) Which store/s has good quarterly growth rate in Q3’2012 ?**"
      ],
      "metadata": {
        "id": "fMzTgJlf2fB6"
      }
    },
    {
      "cell_type": "code",
      "source": [
        "q2_sales = df[(df['Date'] >= '2012-04-01') & (df['Date'] <= '2012-06-30')].groupby('Store')['Weekly_Sales'].sum().round()\n",
        "q3_sales = df[(df['Date'] >= '2012-07-01') & (df['Date'] <= '2012-09-30')].groupby('Store')['Weekly_Sales'].sum().round()"
      ],
      "metadata": {
        "execution": {
          "iopub.status.busy": "2022-05-06T08:53:27.220523Z",
          "iopub.execute_input": "2022-05-06T08:53:27.220858Z",
          "iopub.status.idle": "2022-05-06T08:53:27.233284Z",
          "shell.execute_reply.started": "2022-05-06T08:53:27.220824Z",
          "shell.execute_reply": "2022-05-06T08:53:27.232407Z"
        },
        "trusted": true,
        "id": "9jLNWArU2fB7"
      },
      "execution_count": 21,
      "outputs": []
    },
    {
      "cell_type": "code",
      "source": [
        "pd.DataFrame({'Q2 Sales':q2_sales,\n",
        "              'Q3 Sales':q3_sales,\n",
        "              'Difference':(q3_sales-q2_sales),\n",
        "              'Growth Rate':(q3_sales-q2_sales)/q3_sales*100}).sort_values(by=['Growth Rate'], ascending=False).head()"
      ],
      "metadata": {
        "execution": {
          "iopub.status.busy": "2022-05-06T08:53:27.490768Z",
          "iopub.execute_input": "2022-05-06T08:53:27.491328Z",
          "iopub.status.idle": "2022-05-06T08:53:27.509484Z",
          "shell.execute_reply.started": "2022-05-06T08:53:27.491255Z",
          "shell.execute_reply": "2022-05-06T08:53:27.508749Z"
        },
        "trusted": true,
        "id": "o1t-b1eV2fB7",
        "colab": {
          "base_uri": "https://localhost:8080/",
          "height": 238
        },
        "outputId": "48502483-fe0c-4d5c-e84b-1cb73350e2e7"
      },
      "execution_count": 22,
      "outputs": [
        {
          "output_type": "execute_result",
          "data": {
            "text/plain": [
              "         Q2 Sales    Q3 Sales  Difference  Growth Rate\n",
              "Store                                                 \n",
              "16      6626133.0   6441311.0   -184822.0    -2.869323\n",
              "7       7613594.0   7322394.0   -291200.0    -3.976841\n",
              "35     10753571.0  10252123.0   -501448.0    -4.891163\n",
              "26     13218290.0  12417575.0   -800715.0    -6.448240\n",
              "39     20191586.0  18899955.0  -1291631.0    -6.834043"
            ],
            "text/html": [
              "\n",
              "  <div id=\"df-faac63f0-6d83-4d53-a13e-9036ae23b543\">\n",
              "    <div class=\"colab-df-container\">\n",
              "      <div>\n",
              "<style scoped>\n",
              "    .dataframe tbody tr th:only-of-type {\n",
              "        vertical-align: middle;\n",
              "    }\n",
              "\n",
              "    .dataframe tbody tr th {\n",
              "        vertical-align: top;\n",
              "    }\n",
              "\n",
              "    .dataframe thead th {\n",
              "        text-align: right;\n",
              "    }\n",
              "</style>\n",
              "<table border=\"1\" class=\"dataframe\">\n",
              "  <thead>\n",
              "    <tr style=\"text-align: right;\">\n",
              "      <th></th>\n",
              "      <th>Q2 Sales</th>\n",
              "      <th>Q3 Sales</th>\n",
              "      <th>Difference</th>\n",
              "      <th>Growth Rate</th>\n",
              "    </tr>\n",
              "    <tr>\n",
              "      <th>Store</th>\n",
              "      <th></th>\n",
              "      <th></th>\n",
              "      <th></th>\n",
              "      <th></th>\n",
              "    </tr>\n",
              "  </thead>\n",
              "  <tbody>\n",
              "    <tr>\n",
              "      <th>16</th>\n",
              "      <td>6626133.0</td>\n",
              "      <td>6441311.0</td>\n",
              "      <td>-184822.0</td>\n",
              "      <td>-2.869323</td>\n",
              "    </tr>\n",
              "    <tr>\n",
              "      <th>7</th>\n",
              "      <td>7613594.0</td>\n",
              "      <td>7322394.0</td>\n",
              "      <td>-291200.0</td>\n",
              "      <td>-3.976841</td>\n",
              "    </tr>\n",
              "    <tr>\n",
              "      <th>35</th>\n",
              "      <td>10753571.0</td>\n",
              "      <td>10252123.0</td>\n",
              "      <td>-501448.0</td>\n",
              "      <td>-4.891163</td>\n",
              "    </tr>\n",
              "    <tr>\n",
              "      <th>26</th>\n",
              "      <td>13218290.0</td>\n",
              "      <td>12417575.0</td>\n",
              "      <td>-800715.0</td>\n",
              "      <td>-6.448240</td>\n",
              "    </tr>\n",
              "    <tr>\n",
              "      <th>39</th>\n",
              "      <td>20191586.0</td>\n",
              "      <td>18899955.0</td>\n",
              "      <td>-1291631.0</td>\n",
              "      <td>-6.834043</td>\n",
              "    </tr>\n",
              "  </tbody>\n",
              "</table>\n",
              "</div>\n",
              "      <button class=\"colab-df-convert\" onclick=\"convertToInteractive('df-faac63f0-6d83-4d53-a13e-9036ae23b543')\"\n",
              "              title=\"Convert this dataframe to an interactive table.\"\n",
              "              style=\"display:none;\">\n",
              "        \n",
              "  <svg xmlns=\"http://www.w3.org/2000/svg\" height=\"24px\"viewBox=\"0 0 24 24\"\n",
              "       width=\"24px\">\n",
              "    <path d=\"M0 0h24v24H0V0z\" fill=\"none\"/>\n",
              "    <path d=\"M18.56 5.44l.94 2.06.94-2.06 2.06-.94-2.06-.94-.94-2.06-.94 2.06-2.06.94zm-11 1L8.5 8.5l.94-2.06 2.06-.94-2.06-.94L8.5 2.5l-.94 2.06-2.06.94zm10 10l.94 2.06.94-2.06 2.06-.94-2.06-.94-.94-2.06-.94 2.06-2.06.94z\"/><path d=\"M17.41 7.96l-1.37-1.37c-.4-.4-.92-.59-1.43-.59-.52 0-1.04.2-1.43.59L10.3 9.45l-7.72 7.72c-.78.78-.78 2.05 0 2.83L4 21.41c.39.39.9.59 1.41.59.51 0 1.02-.2 1.41-.59l7.78-7.78 2.81-2.81c.8-.78.8-2.07 0-2.86zM5.41 20L4 18.59l7.72-7.72 1.47 1.35L5.41 20z\"/>\n",
              "  </svg>\n",
              "      </button>\n",
              "      \n",
              "  <style>\n",
              "    .colab-df-container {\n",
              "      display:flex;\n",
              "      flex-wrap:wrap;\n",
              "      gap: 12px;\n",
              "    }\n",
              "\n",
              "    .colab-df-convert {\n",
              "      background-color: #E8F0FE;\n",
              "      border: none;\n",
              "      border-radius: 50%;\n",
              "      cursor: pointer;\n",
              "      display: none;\n",
              "      fill: #1967D2;\n",
              "      height: 32px;\n",
              "      padding: 0 0 0 0;\n",
              "      width: 32px;\n",
              "    }\n",
              "\n",
              "    .colab-df-convert:hover {\n",
              "      background-color: #E2EBFA;\n",
              "      box-shadow: 0px 1px 2px rgba(60, 64, 67, 0.3), 0px 1px 3px 1px rgba(60, 64, 67, 0.15);\n",
              "      fill: #174EA6;\n",
              "    }\n",
              "\n",
              "    [theme=dark] .colab-df-convert {\n",
              "      background-color: #3B4455;\n",
              "      fill: #D2E3FC;\n",
              "    }\n",
              "\n",
              "    [theme=dark] .colab-df-convert:hover {\n",
              "      background-color: #434B5C;\n",
              "      box-shadow: 0px 1px 3px 1px rgba(0, 0, 0, 0.15);\n",
              "      filter: drop-shadow(0px 1px 2px rgba(0, 0, 0, 0.3));\n",
              "      fill: #FFFFFF;\n",
              "    }\n",
              "  </style>\n",
              "\n",
              "      <script>\n",
              "        const buttonEl =\n",
              "          document.querySelector('#df-faac63f0-6d83-4d53-a13e-9036ae23b543 button.colab-df-convert');\n",
              "        buttonEl.style.display =\n",
              "          google.colab.kernel.accessAllowed ? 'block' : 'none';\n",
              "\n",
              "        async function convertToInteractive(key) {\n",
              "          const element = document.querySelector('#df-faac63f0-6d83-4d53-a13e-9036ae23b543');\n",
              "          const dataTable =\n",
              "            await google.colab.kernel.invokeFunction('convertToInteractive',\n",
              "                                                     [key], {});\n",
              "          if (!dataTable) return;\n",
              "\n",
              "          const docLinkHtml = 'Like what you see? Visit the ' +\n",
              "            '<a target=\"_blank\" href=https://colab.research.google.com/notebooks/data_table.ipynb>data table notebook</a>'\n",
              "            + ' to learn more about interactive tables.';\n",
              "          element.innerHTML = '';\n",
              "          dataTable['output_type'] = 'display_data';\n",
              "          await google.colab.output.renderOutput(dataTable, element);\n",
              "          const docLink = document.createElement('div');\n",
              "          docLink.innerHTML = docLinkHtml;\n",
              "          element.appendChild(docLink);\n",
              "        }\n",
              "      </script>\n",
              "    </div>\n",
              "  </div>\n",
              "  "
            ]
          },
          "metadata": {},
          "execution_count": 22
        }
      ]
    },
    {
      "cell_type": "markdown",
      "source": [
        "#### No store has shown quarterly growth in quarter'3 2012. "
      ],
      "metadata": {
        "id": "ZwJtribw2fB7"
      }
    },
    {
      "cell_type": "markdown",
      "source": [
        "------------------------------------------"
      ],
      "metadata": {
        "id": "h5z34azz2fB7"
      }
    },
    {
      "cell_type": "markdown",
      "source": [
        "## **(4) Some holidays have a negative impact on sales. Find out holidays which have higher**\n",
        "\n",
        "## **sales than the mean sales in non-holiday season for all stores together.**"
      ],
      "metadata": {
        "id": "mpe5iSby2fB8"
      }
    },
    {
      "cell_type": "code",
      "source": [
        "# Holiday Events\n",
        "\n",
        "Super_Bowl = ['12-2-2010', '11-2-2011', '10-2-2012']\n",
        "Labour_Day =  ['10-9-2010', '9-9-2011', '7-9-2012']\n",
        "Thanksgiving =  ['26-11-2010', '25-11-2011', '23-11-2012']\n",
        "Christmas = ['31-12-2010', '30-12-2011', '28-12-2012']"
      ],
      "metadata": {
        "execution": {
          "iopub.status.busy": "2022-05-06T08:53:29.125758Z",
          "iopub.execute_input": "2022-05-06T08:53:29.126409Z",
          "iopub.status.idle": "2022-05-06T08:53:29.132363Z",
          "shell.execute_reply.started": "2022-05-06T08:53:29.126351Z",
          "shell.execute_reply": "2022-05-06T08:53:29.131536Z"
        },
        "trusted": true,
        "id": "Kgqp7eVg2fB8"
      },
      "execution_count": 23,
      "outputs": []
    },
    {
      "cell_type": "code",
      "source": [
        "# Calculating holiday events sales\n",
        "\n",
        "Super_Bowl_sales = df.loc[df.Date.isin(Super_Bowl)]['Weekly_Sales'].mean().round(2)\n",
        "Labour_Day_sales = df.loc[df.Date.isin(Labour_Day)]['Weekly_Sales'].mean().round(2)\n",
        "Thanksgiving_sales = df.loc[df.Date.isin(Thanksgiving)]['Weekly_Sales'].mean().round(2)\n",
        "Christmas_sales = df.loc[df.Date.isin(Christmas)]['Weekly_Sales'].mean().round(2)"
      ],
      "metadata": {
        "execution": {
          "iopub.status.busy": "2022-05-06T08:53:29.377834Z",
          "iopub.execute_input": "2022-05-06T08:53:29.37837Z",
          "iopub.status.idle": "2022-05-06T08:53:29.396322Z",
          "shell.execute_reply.started": "2022-05-06T08:53:29.378299Z",
          "shell.execute_reply": "2022-05-06T08:53:29.395379Z"
        },
        "trusted": true,
        "id": "PHUgHehg2fB8"
      },
      "execution_count": 69,
      "outputs": []
    },
    {
      "cell_type": "code",
      "source": [
        "Super_Bowl_sales, Labour_Day_sales, Thanksgiving_sales, Christmas_sales"
      ],
      "metadata": {
        "execution": {
          "iopub.status.busy": "2022-05-06T08:53:30.085358Z",
          "iopub.execute_input": "2022-05-06T08:53:30.085707Z",
          "iopub.status.idle": "2022-05-06T08:53:30.09204Z",
          "shell.execute_reply.started": "2022-05-06T08:53:30.085658Z",
          "shell.execute_reply": "2022-05-06T08:53:30.091225Z"
        },
        "trusted": true,
        "id": "OK4b3C8m2fB8",
        "colab": {
          "base_uri": "https://localhost:8080/"
        },
        "outputId": "3be851dc-f8fe-4c07-c146-b4863e6a705f"
      },
      "execution_count": 71,
      "outputs": [
        {
          "output_type": "execute_result",
          "data": {
            "text/plain": [
              "(1079127.99, 1042427.29, 1471273.43, 960833.11)"
            ]
          },
          "metadata": {},
          "execution_count": 71
        }
      ]
    },
    {
      "cell_type": "code",
      "source": [
        "non_holiday_sales = df[(df['Holiday_Flag'] == 0)]['Weekly_Sales'].mean().round(2)\n",
        "non_holiday_sales"
      ],
      "metadata": {
        "execution": {
          "iopub.status.busy": "2022-05-06T08:53:30.472866Z",
          "iopub.execute_input": "2022-05-06T08:53:30.473235Z",
          "iopub.status.idle": "2022-05-06T08:53:30.482759Z",
          "shell.execute_reply.started": "2022-05-06T08:53:30.473192Z",
          "shell.execute_reply": "2022-05-06T08:53:30.481978Z"
        },
        "trusted": true,
        "id": "KoXrIRpn2fB9",
        "colab": {
          "base_uri": "https://localhost:8080/"
        },
        "outputId": "a61e437a-7907-43cd-da43-4351ff7a267b"
      },
      "execution_count": 26,
      "outputs": [
        {
          "output_type": "execute_result",
          "data": {
            "text/plain": [
              "1041256.38"
            ]
          },
          "metadata": {},
          "execution_count": 26
        }
      ]
    },
    {
      "cell_type": "code",
      "source": [
        "result = pd.DataFrame([{'Super Bowl Sales':Super_Bowl_sales,\n",
        "              'Labour Day Sales':Labour_Day_sales,\n",
        "              'Thanksgiving Sales':Thanksgiving_sales,\n",
        "              'Christmas Sales':Christmas_sales,\n",
        "              'Non Holiday Sales':non_holiday_sales}]).T\n",
        "\n",
        "result"
      ],
      "metadata": {
        "execution": {
          "iopub.status.busy": "2022-05-06T08:53:30.987914Z",
          "iopub.execute_input": "2022-05-06T08:53:30.988836Z",
          "iopub.status.idle": "2022-05-06T08:53:31.000097Z",
          "shell.execute_reply.started": "2022-05-06T08:53:30.98878Z",
          "shell.execute_reply": "2022-05-06T08:53:30.998939Z"
        },
        "trusted": true,
        "id": "vb86gB1X2fB9",
        "colab": {
          "base_uri": "https://localhost:8080/",
          "height": 206
        },
        "outputId": "87162ba2-f51c-4489-ca3b-2177ce9e31a3"
      },
      "execution_count": 27,
      "outputs": [
        {
          "output_type": "execute_result",
          "data": {
            "text/plain": [
              "                             0\n",
              "Super Bowl Sales    1079127.99\n",
              "Labour Day Sales    1042427.29\n",
              "Thanksgiving Sales  1471273.43\n",
              "Christmas Sales      960833.11\n",
              "Non Holiday Sales   1041256.38"
            ],
            "text/html": [
              "\n",
              "  <div id=\"df-d774b39e-7f13-462d-984e-608cb67fdc03\">\n",
              "    <div class=\"colab-df-container\">\n",
              "      <div>\n",
              "<style scoped>\n",
              "    .dataframe tbody tr th:only-of-type {\n",
              "        vertical-align: middle;\n",
              "    }\n",
              "\n",
              "    .dataframe tbody tr th {\n",
              "        vertical-align: top;\n",
              "    }\n",
              "\n",
              "    .dataframe thead th {\n",
              "        text-align: right;\n",
              "    }\n",
              "</style>\n",
              "<table border=\"1\" class=\"dataframe\">\n",
              "  <thead>\n",
              "    <tr style=\"text-align: right;\">\n",
              "      <th></th>\n",
              "      <th>0</th>\n",
              "    </tr>\n",
              "  </thead>\n",
              "  <tbody>\n",
              "    <tr>\n",
              "      <th>Super Bowl Sales</th>\n",
              "      <td>1079127.99</td>\n",
              "    </tr>\n",
              "    <tr>\n",
              "      <th>Labour Day Sales</th>\n",
              "      <td>1042427.29</td>\n",
              "    </tr>\n",
              "    <tr>\n",
              "      <th>Thanksgiving Sales</th>\n",
              "      <td>1471273.43</td>\n",
              "    </tr>\n",
              "    <tr>\n",
              "      <th>Christmas Sales</th>\n",
              "      <td>960833.11</td>\n",
              "    </tr>\n",
              "    <tr>\n",
              "      <th>Non Holiday Sales</th>\n",
              "      <td>1041256.38</td>\n",
              "    </tr>\n",
              "  </tbody>\n",
              "</table>\n",
              "</div>\n",
              "      <button class=\"colab-df-convert\" onclick=\"convertToInteractive('df-d774b39e-7f13-462d-984e-608cb67fdc03')\"\n",
              "              title=\"Convert this dataframe to an interactive table.\"\n",
              "              style=\"display:none;\">\n",
              "        \n",
              "  <svg xmlns=\"http://www.w3.org/2000/svg\" height=\"24px\"viewBox=\"0 0 24 24\"\n",
              "       width=\"24px\">\n",
              "    <path d=\"M0 0h24v24H0V0z\" fill=\"none\"/>\n",
              "    <path d=\"M18.56 5.44l.94 2.06.94-2.06 2.06-.94-2.06-.94-.94-2.06-.94 2.06-2.06.94zm-11 1L8.5 8.5l.94-2.06 2.06-.94-2.06-.94L8.5 2.5l-.94 2.06-2.06.94zm10 10l.94 2.06.94-2.06 2.06-.94-2.06-.94-.94-2.06-.94 2.06-2.06.94z\"/><path d=\"M17.41 7.96l-1.37-1.37c-.4-.4-.92-.59-1.43-.59-.52 0-1.04.2-1.43.59L10.3 9.45l-7.72 7.72c-.78.78-.78 2.05 0 2.83L4 21.41c.39.39.9.59 1.41.59.51 0 1.02-.2 1.41-.59l7.78-7.78 2.81-2.81c.8-.78.8-2.07 0-2.86zM5.41 20L4 18.59l7.72-7.72 1.47 1.35L5.41 20z\"/>\n",
              "  </svg>\n",
              "      </button>\n",
              "      \n",
              "  <style>\n",
              "    .colab-df-container {\n",
              "      display:flex;\n",
              "      flex-wrap:wrap;\n",
              "      gap: 12px;\n",
              "    }\n",
              "\n",
              "    .colab-df-convert {\n",
              "      background-color: #E8F0FE;\n",
              "      border: none;\n",
              "      border-radius: 50%;\n",
              "      cursor: pointer;\n",
              "      display: none;\n",
              "      fill: #1967D2;\n",
              "      height: 32px;\n",
              "      padding: 0 0 0 0;\n",
              "      width: 32px;\n",
              "    }\n",
              "\n",
              "    .colab-df-convert:hover {\n",
              "      background-color: #E2EBFA;\n",
              "      box-shadow: 0px 1px 2px rgba(60, 64, 67, 0.3), 0px 1px 3px 1px rgba(60, 64, 67, 0.15);\n",
              "      fill: #174EA6;\n",
              "    }\n",
              "\n",
              "    [theme=dark] .colab-df-convert {\n",
              "      background-color: #3B4455;\n",
              "      fill: #D2E3FC;\n",
              "    }\n",
              "\n",
              "    [theme=dark] .colab-df-convert:hover {\n",
              "      background-color: #434B5C;\n",
              "      box-shadow: 0px 1px 3px 1px rgba(0, 0, 0, 0.15);\n",
              "      filter: drop-shadow(0px 1px 2px rgba(0, 0, 0, 0.3));\n",
              "      fill: #FFFFFF;\n",
              "    }\n",
              "  </style>\n",
              "\n",
              "      <script>\n",
              "        const buttonEl =\n",
              "          document.querySelector('#df-d774b39e-7f13-462d-984e-608cb67fdc03 button.colab-df-convert');\n",
              "        buttonEl.style.display =\n",
              "          google.colab.kernel.accessAllowed ? 'block' : 'none';\n",
              "\n",
              "        async function convertToInteractive(key) {\n",
              "          const element = document.querySelector('#df-d774b39e-7f13-462d-984e-608cb67fdc03');\n",
              "          const dataTable =\n",
              "            await google.colab.kernel.invokeFunction('convertToInteractive',\n",
              "                                                     [key], {});\n",
              "          if (!dataTable) return;\n",
              "\n",
              "          const docLinkHtml = 'Like what you see? Visit the ' +\n",
              "            '<a target=\"_blank\" href=https://colab.research.google.com/notebooks/data_table.ipynb>data table notebook</a>'\n",
              "            + ' to learn more about interactive tables.';\n",
              "          element.innerHTML = '';\n",
              "          dataTable['output_type'] = 'display_data';\n",
              "          await google.colab.output.renderOutput(dataTable, element);\n",
              "          const docLink = document.createElement('div');\n",
              "          docLink.innerHTML = docLinkHtml;\n",
              "          element.appendChild(docLink);\n",
              "        }\n",
              "      </script>\n",
              "    </div>\n",
              "  </div>\n",
              "  "
            ]
          },
          "metadata": {},
          "execution_count": 27
        }
      ]
    },
    {
      "cell_type": "markdown",
      "source": [
        "#### Thanksgiving has the highest sales (1,471,273.43) than non-holiday sales (1,041,256.38)."
      ],
      "metadata": {
        "id": "KogKVGAl2fB9"
      }
    },
    {
      "cell_type": "markdown",
      "source": [
        "------------------------------------------"
      ],
      "metadata": {
        "id": "EtOUFn7E2fB9"
      }
    },
    {
      "cell_type": "markdown",
      "source": [
        "## **(5) Provide a monthly and semester view of sales in units and give insights.**"
      ],
      "metadata": {
        "id": "N2eXwmko2fB9"
      }
    },
    {
      "cell_type": "code",
      "source": [
        "df['Day'] = pd.DatetimeIndex(df['Date']).day\n",
        "df['Month'] = pd.DatetimeIndex(df['Date']).month\n",
        "df['Year'] = pd.DatetimeIndex(df['Date']).year"
      ],
      "metadata": {
        "execution": {
          "iopub.status.busy": "2022-05-06T08:53:33.004413Z",
          "iopub.execute_input": "2022-05-06T08:53:33.004739Z",
          "iopub.status.idle": "2022-05-06T08:53:33.013729Z",
          "shell.execute_reply.started": "2022-05-06T08:53:33.004706Z",
          "shell.execute_reply": "2022-05-06T08:53:33.013064Z"
        },
        "trusted": true,
        "id": "VOpEeZXi2fB-"
      },
      "execution_count": 28,
      "outputs": []
    },
    {
      "cell_type": "code",
      "source": [
        "df.head()"
      ],
      "metadata": {
        "execution": {
          "iopub.status.busy": "2022-05-06T08:53:33.706037Z",
          "iopub.execute_input": "2022-05-06T08:53:33.706945Z",
          "iopub.status.idle": "2022-05-06T08:53:33.723978Z",
          "shell.execute_reply.started": "2022-05-06T08:53:33.706899Z",
          "shell.execute_reply": "2022-05-06T08:53:33.723194Z"
        },
        "trusted": true,
        "id": "3usDOCw52fB-",
        "colab": {
          "base_uri": "https://localhost:8080/",
          "height": 206
        },
        "outputId": "c5aeb7e9-5838-4b94-e171-4f232c61a4b6"
      },
      "execution_count": 29,
      "outputs": [
        {
          "output_type": "execute_result",
          "data": {
            "text/plain": [
              "   Store       Date  Weekly_Sales  Holiday_Flag  Temperature  Fuel_Price  \\\n",
              "0      1 2010-05-02    1643690.90             0        42.31       2.572   \n",
              "1      1 2010-12-02    1641957.44             1        38.51       2.548   \n",
              "2      1 2010-02-19    1611968.17             0        39.93       2.514   \n",
              "3      1 2010-02-26    1409727.59             0        46.63       2.561   \n",
              "4      1 2010-05-03    1554806.68             0        46.50       2.625   \n",
              "\n",
              "          CPI  Unemployment  Day  Month  Year  \n",
              "0  211.096358         8.106    2      5  2010  \n",
              "1  211.242170         8.106    2     12  2010  \n",
              "2  211.289143         8.106   19      2  2010  \n",
              "3  211.319643         8.106   26      2  2010  \n",
              "4  211.350143         8.106    3      5  2010  "
            ],
            "text/html": [
              "\n",
              "  <div id=\"df-c6920ed0-0f92-4c92-9413-49446cb2e82c\">\n",
              "    <div class=\"colab-df-container\">\n",
              "      <div>\n",
              "<style scoped>\n",
              "    .dataframe tbody tr th:only-of-type {\n",
              "        vertical-align: middle;\n",
              "    }\n",
              "\n",
              "    .dataframe tbody tr th {\n",
              "        vertical-align: top;\n",
              "    }\n",
              "\n",
              "    .dataframe thead th {\n",
              "        text-align: right;\n",
              "    }\n",
              "</style>\n",
              "<table border=\"1\" class=\"dataframe\">\n",
              "  <thead>\n",
              "    <tr style=\"text-align: right;\">\n",
              "      <th></th>\n",
              "      <th>Store</th>\n",
              "      <th>Date</th>\n",
              "      <th>Weekly_Sales</th>\n",
              "      <th>Holiday_Flag</th>\n",
              "      <th>Temperature</th>\n",
              "      <th>Fuel_Price</th>\n",
              "      <th>CPI</th>\n",
              "      <th>Unemployment</th>\n",
              "      <th>Day</th>\n",
              "      <th>Month</th>\n",
              "      <th>Year</th>\n",
              "    </tr>\n",
              "  </thead>\n",
              "  <tbody>\n",
              "    <tr>\n",
              "      <th>0</th>\n",
              "      <td>1</td>\n",
              "      <td>2010-05-02</td>\n",
              "      <td>1643690.90</td>\n",
              "      <td>0</td>\n",
              "      <td>42.31</td>\n",
              "      <td>2.572</td>\n",
              "      <td>211.096358</td>\n",
              "      <td>8.106</td>\n",
              "      <td>2</td>\n",
              "      <td>5</td>\n",
              "      <td>2010</td>\n",
              "    </tr>\n",
              "    <tr>\n",
              "      <th>1</th>\n",
              "      <td>1</td>\n",
              "      <td>2010-12-02</td>\n",
              "      <td>1641957.44</td>\n",
              "      <td>1</td>\n",
              "      <td>38.51</td>\n",
              "      <td>2.548</td>\n",
              "      <td>211.242170</td>\n",
              "      <td>8.106</td>\n",
              "      <td>2</td>\n",
              "      <td>12</td>\n",
              "      <td>2010</td>\n",
              "    </tr>\n",
              "    <tr>\n",
              "      <th>2</th>\n",
              "      <td>1</td>\n",
              "      <td>2010-02-19</td>\n",
              "      <td>1611968.17</td>\n",
              "      <td>0</td>\n",
              "      <td>39.93</td>\n",
              "      <td>2.514</td>\n",
              "      <td>211.289143</td>\n",
              "      <td>8.106</td>\n",
              "      <td>19</td>\n",
              "      <td>2</td>\n",
              "      <td>2010</td>\n",
              "    </tr>\n",
              "    <tr>\n",
              "      <th>3</th>\n",
              "      <td>1</td>\n",
              "      <td>2010-02-26</td>\n",
              "      <td>1409727.59</td>\n",
              "      <td>0</td>\n",
              "      <td>46.63</td>\n",
              "      <td>2.561</td>\n",
              "      <td>211.319643</td>\n",
              "      <td>8.106</td>\n",
              "      <td>26</td>\n",
              "      <td>2</td>\n",
              "      <td>2010</td>\n",
              "    </tr>\n",
              "    <tr>\n",
              "      <th>4</th>\n",
              "      <td>1</td>\n",
              "      <td>2010-05-03</td>\n",
              "      <td>1554806.68</td>\n",
              "      <td>0</td>\n",
              "      <td>46.50</td>\n",
              "      <td>2.625</td>\n",
              "      <td>211.350143</td>\n",
              "      <td>8.106</td>\n",
              "      <td>3</td>\n",
              "      <td>5</td>\n",
              "      <td>2010</td>\n",
              "    </tr>\n",
              "  </tbody>\n",
              "</table>\n",
              "</div>\n",
              "      <button class=\"colab-df-convert\" onclick=\"convertToInteractive('df-c6920ed0-0f92-4c92-9413-49446cb2e82c')\"\n",
              "              title=\"Convert this dataframe to an interactive table.\"\n",
              "              style=\"display:none;\">\n",
              "        \n",
              "  <svg xmlns=\"http://www.w3.org/2000/svg\" height=\"24px\"viewBox=\"0 0 24 24\"\n",
              "       width=\"24px\">\n",
              "    <path d=\"M0 0h24v24H0V0z\" fill=\"none\"/>\n",
              "    <path d=\"M18.56 5.44l.94 2.06.94-2.06 2.06-.94-2.06-.94-.94-2.06-.94 2.06-2.06.94zm-11 1L8.5 8.5l.94-2.06 2.06-.94-2.06-.94L8.5 2.5l-.94 2.06-2.06.94zm10 10l.94 2.06.94-2.06 2.06-.94-2.06-.94-.94-2.06-.94 2.06-2.06.94z\"/><path d=\"M17.41 7.96l-1.37-1.37c-.4-.4-.92-.59-1.43-.59-.52 0-1.04.2-1.43.59L10.3 9.45l-7.72 7.72c-.78.78-.78 2.05 0 2.83L4 21.41c.39.39.9.59 1.41.59.51 0 1.02-.2 1.41-.59l7.78-7.78 2.81-2.81c.8-.78.8-2.07 0-2.86zM5.41 20L4 18.59l7.72-7.72 1.47 1.35L5.41 20z\"/>\n",
              "  </svg>\n",
              "      </button>\n",
              "      \n",
              "  <style>\n",
              "    .colab-df-container {\n",
              "      display:flex;\n",
              "      flex-wrap:wrap;\n",
              "      gap: 12px;\n",
              "    }\n",
              "\n",
              "    .colab-df-convert {\n",
              "      background-color: #E8F0FE;\n",
              "      border: none;\n",
              "      border-radius: 50%;\n",
              "      cursor: pointer;\n",
              "      display: none;\n",
              "      fill: #1967D2;\n",
              "      height: 32px;\n",
              "      padding: 0 0 0 0;\n",
              "      width: 32px;\n",
              "    }\n",
              "\n",
              "    .colab-df-convert:hover {\n",
              "      background-color: #E2EBFA;\n",
              "      box-shadow: 0px 1px 2px rgba(60, 64, 67, 0.3), 0px 1px 3px 1px rgba(60, 64, 67, 0.15);\n",
              "      fill: #174EA6;\n",
              "    }\n",
              "\n",
              "    [theme=dark] .colab-df-convert {\n",
              "      background-color: #3B4455;\n",
              "      fill: #D2E3FC;\n",
              "    }\n",
              "\n",
              "    [theme=dark] .colab-df-convert:hover {\n",
              "      background-color: #434B5C;\n",
              "      box-shadow: 0px 1px 3px 1px rgba(0, 0, 0, 0.15);\n",
              "      filter: drop-shadow(0px 1px 2px rgba(0, 0, 0, 0.3));\n",
              "      fill: #FFFFFF;\n",
              "    }\n",
              "  </style>\n",
              "\n",
              "      <script>\n",
              "        const buttonEl =\n",
              "          document.querySelector('#df-c6920ed0-0f92-4c92-9413-49446cb2e82c button.colab-df-convert');\n",
              "        buttonEl.style.display =\n",
              "          google.colab.kernel.accessAllowed ? 'block' : 'none';\n",
              "\n",
              "        async function convertToInteractive(key) {\n",
              "          const element = document.querySelector('#df-c6920ed0-0f92-4c92-9413-49446cb2e82c');\n",
              "          const dataTable =\n",
              "            await google.colab.kernel.invokeFunction('convertToInteractive',\n",
              "                                                     [key], {});\n",
              "          if (!dataTable) return;\n",
              "\n",
              "          const docLinkHtml = 'Like what you see? Visit the ' +\n",
              "            '<a target=\"_blank\" href=https://colab.research.google.com/notebooks/data_table.ipynb>data table notebook</a>'\n",
              "            + ' to learn more about interactive tables.';\n",
              "          element.innerHTML = '';\n",
              "          dataTable['output_type'] = 'display_data';\n",
              "          await google.colab.output.renderOutput(dataTable, element);\n",
              "          const docLink = document.createElement('div');\n",
              "          docLink.innerHTML = docLinkHtml;\n",
              "          element.appendChild(docLink);\n",
              "        }\n",
              "      </script>\n",
              "    </div>\n",
              "  </div>\n",
              "  "
            ]
          },
          "metadata": {},
          "execution_count": 29
        }
      ]
    },
    {
      "cell_type": "code",
      "source": [
        "# Sales for the Year - 2010\n",
        "\n",
        "plt.figure(figsize=(14,7), dpi=80)\n",
        "graph1 = sns.barplot(data=df, x=df[df.Year==2010]['Month'], y=df[df.Year==2010]['Weekly_Sales'])\n",
        "graph1.set(title='Monthwise Sales for 2010')\n",
        "\n",
        "for p in graph1.patches:\n",
        "    graph1.annotate(format(p.get_height(), '.2f'), (p.get_x() + p.get_width() / 2., p.get_height()), \n",
        "               ha = 'center', va = 'center', xytext = (0, 35), textcoords = 'offset points')"
      ],
      "metadata": {
        "execution": {
          "iopub.status.busy": "2022-05-06T08:53:34.575428Z",
          "iopub.execute_input": "2022-05-06T08:53:34.575783Z",
          "iopub.status.idle": "2022-05-06T08:53:35.231074Z",
          "shell.execute_reply.started": "2022-05-06T08:53:34.575735Z",
          "shell.execute_reply": "2022-05-06T08:53:35.230394Z"
        },
        "trusted": true,
        "id": "vb6vnpRm2fB-",
        "colab": {
          "base_uri": "https://localhost:8080/",
          "height": 504
        },
        "outputId": "0c63c623-6b8d-4bda-d9db-2b9045f3bb1a"
      },
      "execution_count": 30,
      "outputs": [
        {
          "output_type": "display_data",
          "data": {
            "text/plain": [
              "<Figure size 1120x560 with 1 Axes>"
            ],
            "image/png": "[encoded data removed]"
          },
          "metadata": {
            "needs_background": "light"
          }
        }
      ]
    },
    {
      "cell_type": "code",
      "source": [
        "# Sales for the Year - 2011\n",
        "\n",
        "plt.figure(figsize=(14,7), dpi=80)\n",
        "graph1 = sns.barplot(data=df, x=df[df.Year==2011]['Month'], y=df[df.Year==2011]['Weekly_Sales'])\n",
        "graph1.set(title='Monthwise Sales for 2011')\n",
        "\n",
        "for p in graph1.patches:\n",
        "    graph1.annotate(format(p.get_height(), '.2f'), (p.get_x() + p.get_width() / 2., p.get_height()), \n",
        "               ha = 'center', va = 'center', xytext = (0, 35), textcoords = 'offset points')"
      ],
      "metadata": {
        "execution": {
          "iopub.status.busy": "2022-05-06T08:53:36.094452Z",
          "iopub.execute_input": "2022-05-06T08:53:36.095492Z",
          "iopub.status.idle": "2022-05-06T08:53:36.71639Z",
          "shell.execute_reply.started": "2022-05-06T08:53:36.095441Z",
          "shell.execute_reply": "2022-05-06T08:53:36.715569Z"
        },
        "trusted": true,
        "id": "FJzPs0UM2fB-",
        "colab": {
          "base_uri": "https://localhost:8080/",
          "height": 504
        },
        "outputId": "28ff2b45-d137-4710-ebc3-6a7a4f58d05f"
      },
      "execution_count": 31,
      "outputs": [
        {
          "output_type": "display_data",
          "data": {
            "text/plain": [
              "<Figure size 1120x560 with 1 Axes>"
            ],
            "image/png": "[encoded data removed]"
          },
          "metadata": {
            "needs_background": "light"
          }
        }
      ]
    },
    {
      "cell_type": "code",
      "source": [
        "# Sales for the Year - 2012\n",
        "\n",
        "plt.figure(figsize=(14,7), dpi=80)\n",
        "graph1 = sns.barplot(data=df, x=df[df.Year==2012]['Month'], y=df[df.Year==2012]['Weekly_Sales'])\n",
        "graph1.set(title='Monthwise Sales for 2012')\n",
        "\n",
        "for p in graph1.patches:\n",
        "    graph1.annotate(format(p.get_height(), '.2f'), (p.get_x() + p.get_width() / 2., p.get_height()), \n",
        "               ha = 'center', va = 'center', xytext = (0, 35), textcoords = 'offset points')"
      ],
      "metadata": {
        "execution": {
          "iopub.status.busy": "2022-05-06T08:53:36.718344Z",
          "iopub.execute_input": "2022-05-06T08:53:36.718884Z",
          "iopub.status.idle": "2022-05-06T08:53:37.321654Z",
          "shell.execute_reply.started": "2022-05-06T08:53:36.718834Z",
          "shell.execute_reply": "2022-05-06T08:53:37.320785Z"
        },
        "trusted": true,
        "id": "O9TAidkP2fB-",
        "colab": {
          "base_uri": "https://localhost:8080/",
          "height": 504
        },
        "outputId": "17eb29f6-042a-42ef-a762-4fbaad5b607a"
      },
      "execution_count": 32,
      "outputs": [
        {
          "output_type": "display_data",
          "data": {
            "text/plain": [
              "<Figure size 1120x560 with 1 Axes>"
            ],
            "image/png": "[encoded data removed]"
          },
          "metadata": {
            "needs_background": "light"
          }
        }
      ]
    },
    {
      "cell_type": "code",
      "source": [
        "# Monthwise Sales\n",
        "\n",
        "plt.figure(figsize=(14,7), dpi=80)\n",
        "plt.bar(df['Month'], df['Weekly_Sales'])\n",
        "plt.xlabel('Months')\n",
        "plt.ylabel('Weekly_Sales')\n",
        "plt.title('Monthwise Sales')"
      ],
      "metadata": {
        "execution": {
          "iopub.status.busy": "2022-05-06T08:53:37.32314Z",
          "iopub.execute_input": "2022-05-06T08:53:37.323824Z",
          "iopub.status.idle": "2022-05-06T08:53:49.004636Z",
          "shell.execute_reply.started": "2022-05-06T08:53:37.323778Z",
          "shell.execute_reply": "2022-05-06T08:53:49.003152Z"
        },
        "trusted": true,
        "id": "oplIxkBW2fB_",
        "colab": {
          "base_uri": "https://localhost:8080/",
          "height": 521
        },
        "outputId": "76277c17-8d2f-449b-f302-0b2ce67c194a"
      },
      "execution_count": 33,
      "outputs": [
        {
          "output_type": "execute_result",
          "data": {
            "text/plain": [
              "Text(0.5, 1.0, 'Monthwise Sales')"
            ]
          },
          "metadata": {},
          "execution_count": 33
        },
        {
          "output_type": "display_data",
          "data": {
            "text/plain": [
              "<Figure size 1120x560 with 1 Axes>"
            ],
            "image/png": "[encoded data removed]"
          },
          "metadata": {
            "needs_background": "light"
          }
        }
      ]
    },
    {
      "cell_type": "code",
      "source": [
        "# Yearly Sales\n",
        "\n",
        "plt.figure(figsize=(10,7), dpi=80)\n",
        "df.groupby('Year')[['Weekly_Sales']].sum().plot(kind='bar', legend=False)\n",
        "plt.title('Yearly Sales')"
      ],
      "metadata": {
        "execution": {
          "iopub.status.busy": "2022-05-06T08:53:49.006937Z",
          "iopub.execute_input": "2022-05-06T08:53:49.007307Z",
          "iopub.status.idle": "2022-05-06T08:53:49.219028Z",
          "shell.execute_reply.started": "2022-05-06T08:53:49.007241Z",
          "shell.execute_reply": "2022-05-06T08:53:49.218254Z"
        },
        "trusted": true,
        "id": "lVWBQgQs2fB_",
        "colab": {
          "base_uri": "https://localhost:8080/",
          "height": 346
        },
        "outputId": "fc0a3eb1-0d0a-4da9-9c1a-d06837d6076b"
      },
      "execution_count": 34,
      "outputs": [
        {
          "output_type": "execute_result",
          "data": {
            "text/plain": [
              "Text(0.5, 1.0, 'Yearly Sales')"
            ]
          },
          "metadata": {},
          "execution_count": 34
        },
        {
          "output_type": "display_data",
          "data": {
            "text/plain": [
              "<Figure size 800x560 with 0 Axes>"
            ]
          },
          "metadata": {}
        },
        {
          "output_type": "display_data",
          "data": {
            "text/plain": [
              "<Figure size 432x288 with 1 Axes>"
            ],
            "image/png": "[encoded data removed]"
          },
          "metadata": {
            "needs_background": "light"
          }
        }
      ]
    },
    {
      "cell_type": "markdown",
      "source": [
        "#### (1) Year 2010 has the highest sales and 2012 has the lowest sales.\n",
        "\n",
        "#### (2) December month has the highest weekly sales.\n",
        "\n",
        "#### (3) Year 2011 has the highest weekly sales."
      ],
      "metadata": {
        "id": "EagT7iZV2fB_"
      }
    },
    {
      "cell_type": "code",
      "source": [],
      "metadata": {
        "id": "qV2iZF10FoyC"
      },
      "execution_count": 71,
      "outputs": []
    },
    {
      "cell_type": "code",
      "source": [],
      "metadata": {
        "id": "wRFYEe_eFpTC"
      },
      "execution_count": 71,
      "outputs": []
    },
    {
      "cell_type": "markdown",
      "source": [
        "------------------------------------------"
      ],
      "metadata": {
        "id": "H5E8vrsw2fB_"
      }
    },
    {
      "cell_type": "code",
      "source": [
        "fig, axis = plt.subplots(4, figsize=(12,16), dpi=80)\n",
        "x = df[['Temperature','Fuel_Price','CPI','Unemployment']]\n",
        "\n",
        "for i, column in enumerate(x):\n",
        "    sns.boxplot(df[column], ax=axis[i])\n",
        "\n",
        "import warnings\n",
        "warnings.filterwarnings('ignore')"
      ],
      "metadata": {
        "execution": {
          "iopub.status.busy": "2022-05-06T08:53:51.912937Z",
          "iopub.execute_input": "2022-05-06T08:53:51.913461Z",
          "iopub.status.idle": "2022-05-06T08:53:52.368109Z",
          "shell.execute_reply.started": "2022-05-06T08:53:51.913424Z",
          "shell.execute_reply": "2022-05-06T08:53:52.367458Z"
        },
        "trusted": true,
        "id": "E62q6h2f2fB_",
        "colab": {
          "base_uri": "https://localhost:8080/",
          "height": 1000
        },
        "outputId": "78a26ff0-d660-4ada-c98d-7bca7707a60b"
      },
      "execution_count": 35,
      "outputs": [
        {
          "output_type": "display_data",
          "data": {
            "text/plain": [
              "<Figure size 960x1280 with 4 Axes>"
            ],
            "image/png": "[encoded data removed]"
          },
          "metadata": {
            "needs_background": "light"
          }
        }
      ]
    },
    {
      "cell_type": "code",
      "source": [
        "df = df[df['Unemployment'] <= 10.5]\n",
        "df = df[df['Unemployment'] >= 4.7]\n",
        "df = df[df['Temperature'] >= 8]"
      ],
      "metadata": {
        "execution": {
          "iopub.status.busy": "2022-05-06T08:53:54.025624Z",
          "iopub.execute_input": "2022-05-06T08:53:54.026586Z",
          "iopub.status.idle": "2022-05-06T08:53:54.0372Z",
          "shell.execute_reply.started": "2022-05-06T08:53:54.02653Z",
          "shell.execute_reply": "2022-05-06T08:53:54.036321Z"
        },
        "trusted": true,
        "id": "5nnuwmlw2fCA"
      },
      "execution_count": 36,
      "outputs": []
    },
    {
      "cell_type": "code",
      "source": [
        "fig, axis = plt.subplots(4, figsize=(12,16), dpi=80)\n",
        "x = df[['Temperature','Fuel_Price','CPI','Unemployment']]\n",
        "\n",
        "for i, column in enumerate(x):\n",
        "    sns.boxplot(df[column], ax=axis[i])\n",
        "\n",
        "import warnings\n",
        "warnings.filterwarnings('ignore')"
      ],
      "metadata": {
        "execution": {
          "iopub.status.busy": "2022-05-06T08:53:54.973184Z",
          "iopub.execute_input": "2022-05-06T08:53:54.973692Z",
          "iopub.status.idle": "2022-05-06T08:53:55.420527Z",
          "shell.execute_reply.started": "2022-05-06T08:53:54.973638Z",
          "shell.execute_reply": "2022-05-06T08:53:55.419672Z"
        },
        "trusted": true,
        "id": "65PM24kZ2fCA",
        "colab": {
          "base_uri": "https://localhost:8080/",
          "height": 1000
        },
        "outputId": "d4b107cb-66f5-4779-c587-e9caea9da5dc"
      },
      "execution_count": 37,
      "outputs": [
        {
          "output_type": "display_data",
          "data": {
            "text/plain": [
              "<Figure size 960x1280 with 4 Axes>"
            ],
            "image/png": "[encoded data removed]"
          },
          "metadata": {
            "needs_background": "light"
          }
        }
      ]
    },
    {
      "cell_type": "code",
      "source": [
        "df.info()"
      ],
      "metadata": {
        "execution": {
          "iopub.status.busy": "2022-05-06T08:53:56.36253Z",
          "iopub.execute_input": "2022-05-06T08:53:56.36307Z",
          "iopub.status.idle": "2022-05-06T08:53:56.380227Z",
          "shell.execute_reply.started": "2022-05-06T08:53:56.363026Z",
          "shell.execute_reply": "2022-05-06T08:53:56.3794Z"
        },
        "trusted": true,
        "id": "cn9-ltjN2fCA",
        "colab": {
          "base_uri": "https://localhost:8080/"
        },
        "outputId": "11e7ebbe-2e61-4ee4-bf95-733f4752173f"
      },
      "execution_count": 38,
      "outputs": [
        {
          "output_type": "stream",
          "name": "stdout",
          "text": [
            "<class 'pandas.core.frame.DataFrame'>\n",
            "Int64Index: 5763 entries, 0 to 6434\n",
            "Data columns (total 11 columns):\n",
            " #   Column        Non-Null Count  Dtype         \n",
            "---  ------        --------------  -----         \n",
            " 0   Store         5763 non-null   int64         \n",
            " 1   Date          5763 non-null   datetime64[ns]\n",
            " 2   Weekly_Sales  5763 non-null   float64       \n",
            " 3   Holiday_Flag  5763 non-null   int64         \n",
            " 4   Temperature   5763 non-null   float64       \n",
            " 5   Fuel_Price    5763 non-null   float64       \n",
            " 6   CPI           5763 non-null   float64       \n",
            " 7   Unemployment  5763 non-null   float64       \n",
            " 8   Day           5763 non-null   int64         \n",
            " 9   Month         5763 non-null   int64         \n",
            " 10  Year          5763 non-null   int64         \n",
            "dtypes: datetime64[ns](1), float64(5), int64(5)\n",
            "memory usage: 540.3 KB\n"
          ]
        }
      ]
    },
    {
      "cell_type": "markdown",
      "source": [
        "------------------------------------------"
      ],
      "metadata": {
        "id": "EStAur7m2fCA"
      }
    },
    {
      "cell_type": "markdown",
      "source": [
        "# **Model Building**"
      ],
      "metadata": {
        "id": "mCntJr1k2fCA"
      }
    },
    {
      "cell_type": "code",
      "source": [
        "# Define Independent and dependent variable\n",
        "\n",
        "x = df[['Store', 'Fuel_Price', 'CPI', 'Unemployment', 'Day', 'Month', 'Year']]\n",
        "y = df['Weekly_Sales']"
      ],
      "metadata": {
        "execution": {
          "iopub.status.busy": "2022-05-06T08:53:58.212931Z",
          "iopub.execute_input": "2022-05-06T08:53:58.213602Z",
          "iopub.status.idle": "2022-05-06T08:53:58.21934Z",
          "shell.execute_reply.started": "2022-05-06T08:53:58.213555Z",
          "shell.execute_reply": "2022-05-06T08:53:58.218406Z"
        },
        "trusted": true,
        "id": "mm0S6hju2fCB"
      },
      "execution_count": 39,
      "outputs": []
    },
    {
      "cell_type": "code",
      "source": [
        "from sklearn.model_selection import train_test_split\n",
        "x_train, x_test, y_train, y_test = train_test_split(x, y, test_size=0.2)"
      ],
      "metadata": {
        "execution": {
          "iopub.status.busy": "2022-05-06T08:53:58.983797Z",
          "iopub.execute_input": "2022-05-06T08:53:58.984445Z",
          "iopub.status.idle": "2022-05-06T08:53:59.079743Z",
          "shell.execute_reply.started": "2022-05-06T08:53:58.984401Z",
          "shell.execute_reply": "2022-05-06T08:53:59.078423Z"
        },
        "trusted": true,
        "id": "qcFPootf2fCB"
      },
      "execution_count": 40,
      "outputs": []
    },
    {
      "cell_type": "code",
      "source": [
        "from sklearn.preprocessing import StandardScaler\n",
        "sc = StandardScaler()\n",
        "x_train = sc.fit_transform(x_train)\n",
        "x_test = sc.fit_transform(x_test)"
      ],
      "metadata": {
        "execution": {
          "iopub.status.busy": "2022-05-06T08:53:59.21901Z",
          "iopub.execute_input": "2022-05-06T08:53:59.21982Z",
          "iopub.status.idle": "2022-05-06T08:53:59.234229Z",
          "shell.execute_reply.started": "2022-05-06T08:53:59.219754Z",
          "shell.execute_reply": "2022-05-06T08:53:59.233325Z"
        },
        "trusted": true,
        "id": "ejEvraLx2fCB"
      },
      "execution_count": 41,
      "outputs": []
    },
    {
      "cell_type": "markdown",
      "source": [
        "## **(1) Linear Regression**"
      ],
      "metadata": {
        "id": "6pCU3oiI2fCB"
      }
    },
    {
      "cell_type": "code",
      "source": [
        "from sklearn.linear_model import LinearRegression\n",
        "from sklearn import metrics\n",
        "from sklearn.metrics import r2_score\n",
        "\n",
        "lr = LinearRegression()\n",
        "lr.fit(x_train, y_train)\n",
        "lr_y_pred = lr.predict(x_test)\n",
        "\n",
        "print('* Linear Regression *\\n')\n",
        "\n",
        "print('Train Accuracy Score:', lr.score(x_train, y_train).round(5)*100, '%')\n",
        "print('Test Accuracy Score:', r2_score(y_test, lr_y_pred).round(5)*100, '%')\n",
        "\n",
        "print('Mean Absolute Error:', metrics.mean_absolute_error(y_test, lr_y_pred).round(3))\n",
        "print('Mean Squared Error:', metrics.mean_squared_error(y_test, lr_y_pred).round(3))\n",
        "print('Root Mean Squared Error:', np.sqrt(metrics.mean_squared_error(y_test, lr_y_pred)).round(3))\n",
        "\n",
        "plt.figure(figsize=(7,5), dpi=75)\n",
        "sns.regplot(y_test, lr_y_pred)"
      ],
      "metadata": {
        "execution": {
          "iopub.status.busy": "2022-05-06T08:54:01.577848Z",
          "iopub.execute_input": "2022-05-06T08:54:01.578384Z",
          "iopub.status.idle": "2022-05-06T08:54:02.14289Z",
          "shell.execute_reply.started": "2022-05-06T08:54:01.578317Z",
          "shell.execute_reply": "2022-05-06T08:54:02.14172Z"
        },
        "trusted": true,
        "id": "3IBTYaLt2fCB",
        "colab": {
          "base_uri": "https://localhost:8080/",
          "height": 497
        },
        "outputId": "2f4248af-f1eb-47ea-93a2-4c3baefa5d4c"
      },
      "execution_count": 42,
      "outputs": [
        {
          "output_type": "stream",
          "name": "stdout",
          "text": [
            "* Linear Regression *\n",
            "\n",
            "Train Accuracy Score: 12.732 %\n",
            "Test Accuracy Score: 12.424 %\n",
            "Mean Absolute Error: 436176.148\n",
            "Mean Squared Error: 283854025601.702\n",
            "Root Mean Squared Error: 532779.528\n"
          ]
        },
        {
          "output_type": "execute_result",
          "data": {
            "text/plain": [
              "<matplotlib.axes._subplots.AxesSubplot at 0x7f6397d404f0>"
            ]
          },
          "metadata": {},
          "execution_count": 42
        },
        {
          "output_type": "display_data",
          "data": {
            "text/plain": [
              "<Figure size 525x375 with 1 Axes>"
            ],
            "image/png": "[encoded data removed]"
          },
          "metadata": {
            "needs_background": "light"
          }
        }
      ]
    },
    {
      "cell_type": "markdown",
      "source": [
        "## **(2) Random Forest Regressor**"
      ],
      "metadata": {
        "id": "6x_Mtjq92fCC"
      }
    },
    {
      "cell_type": "code",
      "source": [
        "from sklearn.ensemble import RandomForestRegressor\n",
        "rfr = RandomForestRegressor()\n",
        "rfr.fit(x_train,y_train)\n",
        "\n",
        "rfr_y_pred = rfr.predict(x_test)\n",
        "\n",
        "R2_rfr = r2_score(y_test, rfr_y_pred)\n",
        "mae = metrics.mean_absolute_error(y_test, rfr_y_pred)\n",
        "mse = metrics.mean_squared_error(y_test, rfr_y_pred)\n",
        "rmse = np.sqrt(metrics.mean_squared_error(y_test, rfr_y_pred))\n",
        "\n",
        "print('* Random Forest Regressor *\\n')\n",
        "\n",
        "print('Accuracy                 =', R2_rfr.round(5)*100,'%')\n",
        "print('Mean Absolute Error      =', mae.round(5))\n",
        "print('Mean Squared Error       =', mse.round(5))\n",
        "print('Root Mean Squared Error  =', rmse.round(5))\n",
        "\n",
        "plt.figure(figsize=(7,5), dpi=75)\n",
        "sns.regplot(y_test, rfr_y_pred)"
      ],
      "metadata": {
        "execution": {
          "iopub.status.busy": "2022-05-06T08:54:06.010305Z",
          "iopub.execute_input": "2022-05-06T08:54:06.010647Z",
          "iopub.status.idle": "2022-05-06T08:54:08.212999Z",
          "shell.execute_reply.started": "2022-05-06T08:54:06.01061Z",
          "shell.execute_reply": "2022-05-06T08:54:08.211906Z"
        },
        "trusted": true,
        "id": "oiv35uKi2fCC",
        "colab": {
          "base_uri": "https://localhost:8080/",
          "height": 480
        },
        "outputId": "f51444ec-1628-45bc-a57f-4d301abbc49e"
      },
      "execution_count": 43,
      "outputs": [
        {
          "output_type": "stream",
          "name": "stdout",
          "text": [
            "* Random Forest Regressor *\n",
            "\n",
            "Accuracy                 = 94.374 %\n",
            "Mean Absolute Error      = 70179.92658\n",
            "Mean Squared Error       = 18236874291.56868\n",
            "Root Mean Squared Error  = 135043.9717\n"
          ]
        },
        {
          "output_type": "execute_result",
          "data": {
            "text/plain": [
              "<matplotlib.axes._subplots.AxesSubplot at 0x7f639050a2e0>"
            ]
          },
          "metadata": {},
          "execution_count": 43
        },
        {
          "output_type": "display_data",
          "data": {
            "text/plain": [
              "<Figure size 525x375 with 1 Axes>"
            ],
            "image/png": "[encoded data removed]"
          },
          "metadata": {
            "needs_background": "light"
          }
        }
      ]
    },
    {
      "cell_type": "markdown",
      "source": [
        "## **(3) Decision Tree Regressor**"
      ],
      "metadata": {
        "id": "JHpDJ8NU2fCC"
      }
    },
    {
      "cell_type": "code",
      "source": [
        "from sklearn.tree import DecisionTreeRegressor\n",
        "dtr = DecisionTreeRegressor()\n",
        "dtr.fit(x_train,y_train)\n",
        "\n",
        "dtr_y_pred = dtr.predict(x_test)\n",
        "\n",
        "R2_dtr = r2_score(y_test,dtr_y_pred)\n",
        "mae = metrics.mean_absolute_error(y_test, dtr_y_pred)\n",
        "mse = metrics.mean_squared_error(y_test, dtr_y_pred)\n",
        "rmse = np.sqrt(metrics.mean_squared_error(y_test, dtr_y_pred))\n",
        "\n",
        "print('* Decision Tree Regressor *\\n')\n",
        "\n",
        "print('Accuracy                 =', R2_dtr.round(5)*100,'%')\n",
        "print('Mean Absolute Error      =', mae.round(5))\n",
        "print('Mean Squared Error       =', mse.round(5))\n",
        "print('Root Mean Squared Error  =', rmse.round(5))\n",
        "\n",
        "plt.figure(figsize=(7,5), dpi=75)\n",
        "sns.regplot(y_test, dtr_y_pred)"
      ],
      "metadata": {
        "execution": {
          "iopub.status.busy": "2022-05-06T08:54:10.486518Z",
          "iopub.execute_input": "2022-05-06T08:54:10.48686Z",
          "iopub.status.idle": "2022-05-06T08:54:10.888434Z",
          "shell.execute_reply.started": "2022-05-06T08:54:10.486825Z",
          "shell.execute_reply": "2022-05-06T08:54:10.88754Z"
        },
        "trusted": true,
        "id": "igbLfqUh2fCC",
        "colab": {
          "base_uri": "https://localhost:8080/",
          "height": 480
        },
        "outputId": "00b4fe13-06c7-414d-cda0-919bcb24175e"
      },
      "execution_count": 44,
      "outputs": [
        {
          "output_type": "stream",
          "name": "stdout",
          "text": [
            "* Decision Tree Regressor *\n",
            "\n",
            "Accuracy                 = 91.035 %\n",
            "Mean Absolute Error      = 86821.58032\n",
            "Mean Squared Error       = 29059062102.31948\n",
            "Root Mean Squared Error  = 170467.18776\n"
          ]
        },
        {
          "output_type": "execute_result",
          "data": {
            "text/plain": [
              "<matplotlib.axes._subplots.AxesSubplot at 0x7f63980b5e80>"
            ]
          },
          "metadata": {},
          "execution_count": 44
        },
        {
          "output_type": "display_data",
          "data": {
            "text/plain": [
              "<Figure size 525x375 with 1 Axes>"
            ],
            "image/png": "[encoded data removed]"
          },
          "metadata": {
            "needs_background": "light"
          }
        }
      ]
    },
    {
      "cell_type": "markdown",
      "source": [
        "## **(4) KNearest Neighbors**"
      ],
      "metadata": {
        "id": "NnvBzFXl2fCC"
      }
    },
    {
      "cell_type": "code",
      "source": [
        "from sklearn.neighbors import KNeighborsRegressor\n",
        "knn = KNeighborsRegressor()\n",
        "knn.fit(x_train,y_train)\n",
        "\n",
        "knn_y_pred = knn.predict(x_test)\n",
        "\n",
        "R2_knn = r2_score(y_test, knn_y_pred)\n",
        "mae = metrics.mean_absolute_error(y_test, knn_y_pred)\n",
        "mse = metrics.mean_squared_error(y_test, knn_y_pred)\n",
        "rmse = np.sqrt(metrics.mean_squared_error(y_test, knn_y_pred))\n",
        "\n",
        "print('* KNearest Neighbors *\\n')\n",
        "\n",
        "print('Accuracy                 =', R2_knn.round(5)*100,'%')\n",
        "print('Mean Absolute Error      =', mae.round(5))\n",
        "print('Mean Squared Error       =', mse.round(5))\n",
        "print('Root Mean Squared Error  =', rmse.round(5))\n",
        "\n",
        "plt.figure(figsize=(7,5), dpi=75)\n",
        "sns.regplot(y_test, knn_y_pred)"
      ],
      "metadata": {
        "execution": {
          "iopub.status.busy": "2022-05-06T08:54:12.121615Z",
          "iopub.execute_input": "2022-05-06T08:54:12.121931Z",
          "iopub.status.idle": "2022-05-06T08:54:12.512266Z",
          "shell.execute_reply.started": "2022-05-06T08:54:12.121899Z",
          "shell.execute_reply": "2022-05-06T08:54:12.511234Z"
        },
        "trusted": true,
        "id": "JwSI8GdT2fCD",
        "colab": {
          "base_uri": "https://localhost:8080/",
          "height": 480
        },
        "outputId": "04c3dc72-3f2b-47e7-e29b-9f06c7324acc"
      },
      "execution_count": 45,
      "outputs": [
        {
          "output_type": "stream",
          "name": "stdout",
          "text": [
            "* KNearest Neighbors *\n",
            "\n",
            "Accuracy                 = 41.162 %\n",
            "Mean Absolute Error      = 330771.50802\n",
            "Mean Squared Error       = 190708073807.42435\n",
            "Root Mean Squared Error  = 436701.3554\n"
          ]
        },
        {
          "output_type": "execute_result",
          "data": {
            "text/plain": [
              "<matplotlib.axes._subplots.AxesSubplot at 0x7f63981f59d0>"
            ]
          },
          "metadata": {},
          "execution_count": 45
        },
        {
          "output_type": "display_data",
          "data": {
            "text/plain": [
              "<Figure size 525x375 with 1 Axes>"
            ],
            "image/png": "[encoded data removed]"
          },
          "metadata": {
            "needs_background": "light"
          }
        }
      ]
    },
    {
      "cell_type": "markdown",
      "source": [
        "------------------------------------------"
      ],
      "metadata": {
        "id": "rfrI3uUp2fCD"
      }
    },
    {
      "cell_type": "markdown",
      "source": [
        "# **Cross Validation**"
      ],
      "metadata": {
        "id": "UzXeOGlj2fCD"
      }
    },
    {
      "cell_type": "code",
      "source": [
        "from sklearn.model_selection import cross_val_score"
      ],
      "metadata": {
        "execution": {
          "iopub.status.busy": "2022-05-06T08:54:13.665815Z",
          "iopub.execute_input": "2022-05-06T08:54:13.666165Z",
          "iopub.status.idle": "2022-05-06T08:54:13.670943Z",
          "shell.execute_reply.started": "2022-05-06T08:54:13.666124Z",
          "shell.execute_reply": "2022-05-06T08:54:13.66996Z"
        },
        "trusted": true,
        "id": "WYseu78V2fCD"
      },
      "execution_count": 46,
      "outputs": []
    },
    {
      "cell_type": "code",
      "source": [
        "# Linear Regression\n",
        "\n",
        "lr_scores = cross_val_score(lr, x_train,y_train, cv=10, scoring='r2')\n",
        "print(lr_scores)\n",
        "print(\"Mean Score:\", lr_scores.mean()*100,'%')"
      ],
      "metadata": {
        "execution": {
          "iopub.status.busy": "2022-05-06T08:54:14.339669Z",
          "iopub.execute_input": "2022-05-06T08:54:14.340731Z",
          "iopub.status.idle": "2022-05-06T08:54:14.395493Z",
          "shell.execute_reply.started": "2022-05-06T08:54:14.340669Z",
          "shell.execute_reply": "2022-05-06T08:54:14.394329Z"
        },
        "trusted": true,
        "id": "-UUSfjFw2fCE",
        "colab": {
          "base_uri": "https://localhost:8080/"
        },
        "outputId": "0478964b-868e-457d-cc63-15e49b9856da"
      },
      "execution_count": 47,
      "outputs": [
        {
          "output_type": "stream",
          "name": "stdout",
          "text": [
            "[0.1255519  0.0637411  0.15619983 0.16425195 0.14400814 0.0783562\n",
            " 0.1223394  0.12928434 0.09812909 0.10988652]\n",
            "Mean Score: 11.917484750716138 %\n"
          ]
        }
      ]
    },
    {
      "cell_type": "code",
      "source": [
        "# Random Forest Regression\n",
        "\n",
        "rfr_scores = cross_val_score(rfr, x_train,y_train, cv=10, scoring='r2')\n",
        "print(rfr_scores)\n",
        "print(\"Mean Score:\", rfr_scores.mean()*100,'%')"
      ],
      "metadata": {
        "execution": {
          "iopub.status.busy": "2022-05-06T08:54:15.657471Z",
          "iopub.execute_input": "2022-05-06T08:54:15.658356Z",
          "iopub.status.idle": "2022-05-06T08:54:30.434356Z",
          "shell.execute_reply.started": "2022-05-06T08:54:15.658275Z",
          "shell.execute_reply": "2022-05-06T08:54:30.433474Z"
        },
        "trusted": true,
        "id": "NClfqm4g2fCE",
        "colab": {
          "base_uri": "https://localhost:8080/"
        },
        "outputId": "43c9e2c8-2e3b-4ccd-c78b-bfacc22e1a20"
      },
      "execution_count": 48,
      "outputs": [
        {
          "output_type": "stream",
          "name": "stdout",
          "text": [
            "[0.9452245  0.93614788 0.9436026  0.93289147 0.95676591 0.95619449\n",
            " 0.94856121 0.91315198 0.94992855 0.94482586]\n",
            "Mean Score: 94.2729444922363 %\n"
          ]
        }
      ]
    },
    {
      "cell_type": "code",
      "source": [
        "# Decision Tree Regression\n",
        "\n",
        "dtr_scores = cross_val_score(dtr, x_train,y_train, cv=10, scoring='r2')\n",
        "print(dtr_scores)\n",
        "print(\"Mean Score:\", dtr_scores.mean()*100,'%')"
      ],
      "metadata": {
        "execution": {
          "iopub.status.busy": "2022-05-06T08:54:30.436017Z",
          "iopub.execute_input": "2022-05-06T08:54:30.43628Z",
          "iopub.status.idle": "2022-05-06T08:54:30.680952Z",
          "shell.execute_reply.started": "2022-05-06T08:54:30.43623Z",
          "shell.execute_reply": "2022-05-06T08:54:30.680142Z"
        },
        "trusted": true,
        "id": "jx7e1nAa2fCE",
        "colab": {
          "base_uri": "https://localhost:8080/"
        },
        "outputId": "09fee1ab-8b64-4783-cc2c-ef46f34a3639"
      },
      "execution_count": 49,
      "outputs": [
        {
          "output_type": "stream",
          "name": "stdout",
          "text": [
            "[0.93702007 0.91640293 0.91629144 0.90820391 0.94629456 0.92628888\n",
            " 0.9025146  0.86234876 0.9179237  0.91828594]\n",
            "Mean Score: 91.51574796903994 %\n"
          ]
        }
      ]
    },
    {
      "cell_type": "code",
      "source": [
        "# KNearest Neighbor\n",
        "\n",
        "knn_scores = cross_val_score(knn, x_train,y_train, cv=10, scoring='r2')\n",
        "print(knn_scores)\n",
        "print(\"Mean Score:\", knn_scores.mean()*100,'%')"
      ],
      "metadata": {
        "execution": {
          "iopub.status.busy": "2022-05-06T08:54:30.683042Z",
          "iopub.execute_input": "2022-05-06T08:54:30.683704Z",
          "iopub.status.idle": "2022-05-06T08:54:30.809138Z",
          "shell.execute_reply.started": "2022-05-06T08:54:30.683667Z",
          "shell.execute_reply": "2022-05-06T08:54:30.808307Z"
        },
        "trusted": true,
        "id": "gZnqTRVk2fCE",
        "colab": {
          "base_uri": "https://localhost:8080/"
        },
        "outputId": "f8d177ad-c1c3-436a-8132-4f5f89f603cf"
      },
      "execution_count": 50,
      "outputs": [
        {
          "output_type": "stream",
          "name": "stdout",
          "text": [
            "[0.41866408 0.4226828  0.35822073 0.40848414 0.40045949 0.30878391\n",
            " 0.40340603 0.39557151 0.3628743  0.41286916]\n",
            "Mean Score: 38.92016153368246 %\n"
          ]
        }
      ]
    },
    {
      "cell_type": "markdown",
      "source": [
        "# **Conclusion**"
      ],
      "metadata": {
        "id": "U1V8b0JR2fCE"
      }
    },
    {
      "cell_type": "markdown",
      "source": [
        "### Here, we have used 4 different algorithms to know which model to use to predict the weekly sales. Linear Regression is not an \n",
        "### appropriate model to use as accuracy is very low. However, Random Forest Regression gives accuracy of almost 95% . so, it is \n",
        "### the best model to forecast weekly sales."
      ],
      "metadata": {
        "id": "yYJrxAao2fCF"
      }
    },
    {
      "cell_type": "markdown",
      "source": [
        "##Reference\n",
        "https://www.kaggle.com/code/dhruvalpatel30/retail-analysis-with-walmart-data/notebook\n",
        "\n",
        "https://github.com/ZarahShibli/Retail-Analysis-with-Walmart-Data/blob/main/Retail%20Analysis%20with%20Walmart%20Data.ipynb\n"
      ],
      "metadata": {
        "id": "hel7tpzdUoFx"
      }
    }
  ]
}