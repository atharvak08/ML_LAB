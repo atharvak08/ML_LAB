{
  "nbformat": 4,
  "nbformat_minor": 0,
  "metadata": {
    "colab": {
      "provenance": [],
      "authorship_tag": "ABX9TyNm8NPGVTvQ1VeVVK6g+8Pc",
      "include_colab_link": true
    },
    "kernelspec": {
      "name": "python3",
      "display_name": "Python 3"
    },
    "language_info": {
      "name": "python"
    }
  },
  "cells": [
    {
      "cell_type": "markdown",
      "metadata": {
        "id": "view-in-github",
        "colab_type": "text"
      },
      "source": [
        "<a href=\"https://colab.research.google.com/github/atharvak08/ML_LAB/blob/main/prac3ak08.ipynb\" target=\"_parent\"><img src=\"https://colab.research.google.com/assets/colab-badge.svg\" alt=\"Open In Colab\"/></a>"
      ]
    },
    {
      "cell_type": "markdown",
      "source": [
        "# New Section"
      ],
      "metadata": {
        "id": "FCHl76Ov8O46"
      }
    },
    {
      "cell_type": "code",
      "source": [
        "# import load_iris function from datasets module\n",
        "from sklearn.datasets import load_iris\n",
        "\n",
        "# store dataset in variable iris\n",
        "iris = load_iris()\n",
        "\n",
        "print(iris.data.shape)\n",
        "# (150, 4)\n",
        "\n",
        "# show the name of featues\n",
        "print(iris.feature_names)\n",
        "#  ['sepal length (cm)', 'sepal width (cm)', 'petal length (cm)', 'petal width (cm)']\n",
        "\n"
      ],
      "metadata": {
        "colab": {
          "base_uri": "https://localhost:8080/"
        },
        "id": "tR4LJqXV8RNB",
        "outputId": "e8a2b608-3cb0-4b93-cc52-f62902aa63fb"
      },
      "execution_count": null,
      "outputs": [
        {
          "output_type": "stream",
          "name": "stdout",
          "text": [
            "(150, 4)\n",
            "['sepal length (cm)', 'sepal width (cm)', 'petal length (cm)', 'petal width (cm)']\n"
          ]
        }
      ]
    },
    {
      "cell_type": "code",
      "source": [
        "#1. Naive Bayes\n",
        "from sklearn.datasets import load_iris\n",
        "from sklearn.model_selection import train_test_split\n",
        "from sklearn import metrics\n",
        "from sklearn.naive_bayes import GaussianNB\n",
        "# read in the iris data\n",
        "iris = load_iris()\n",
        "\n",
        "# create X (features) and y (label)\n",
        "X = iris.data\n",
        "y = iris.target\n",
        "\n",
        "# use train/test split with different random_state values\n",
        "X_train, X_test, y_train, y_test = train_test_split(X, y, random_state=4)\n",
        "\n",
        "clf = GaussianNB()\n",
        "clf.fit(X_train, y_train)\n",
        "# GaussianNB(priors=None)\n",
        "\n",
        "# predict our sample\n",
        "y_pred = clf.predict(X_test)\n",
        "\n",
        "# evaluation our prediction\n",
        "print(metrics.accuracy_score(y_test, y_pred))\n",
        "\n"
      ],
      "metadata": {
        "colab": {
          "base_uri": "https://localhost:8080/"
        },
        "id": "uQ_dCrih8TOp",
        "outputId": "342aac9a-f078-462a-b3c9-ad911df3c332"
      },
      "execution_count": null,
      "outputs": [
        {
          "output_type": "stream",
          "name": "stdout",
          "text": [
            "0.9736842105263158\n"
          ]
        }
      ]
    },
    {
      "cell_type": "code",
      "source": [
        "#2. Logistic Regression\n",
        "\n",
        "from sklearn.datasets import load_iris\n",
        "from sklearn.model_selection import train_test_split\n",
        "from sklearn import metrics\n",
        "from sklearn.linear_model import LogisticRegression\n",
        "\n",
        "# read in the iris data\n",
        "iris = load_iris()\n",
        "\n",
        "# create X (features) and y (label)\n",
        "X = iris.data\n",
        "y = iris.target\n",
        "\n",
        "# use train/test split with different random_state values\n",
        "X_train, X_test, y_train, y_test = train_test_split(X, y, random_state=4)\n",
        "\n",
        "logistic_model = LogisticRegression()\n",
        "logistic_model.fit(X_train, y_train)\n",
        "# LogisticRegression(C=1.0, class_weight=None, dual=False, fit_intercept=True,\n",
        "#          intercept_scaling=1, max_iter=100, multi_class='ovr', n_jobs=1,\n",
        "#          penalty='l2', random_state=None, solver='liblinear', tol=0.0001,\n",
        "#          verbose=0, warm_start=False)\n",
        "          \n",
        "# predict our sample\n",
        "y_pred = logistic_model.predict(X_test)\n",
        "\n",
        "# evaluation our prediction\n",
        "print(metrics.accuracy_score(y_test, y_pred))\n",
        "\n"
      ],
      "metadata": {
        "colab": {
          "base_uri": "https://localhost:8080/"
        },
        "id": "D3okeZld8Tyv",
        "outputId": "67399d9c-2ead-44a9-cb39-c5053794135b"
      },
      "execution_count": null,
      "outputs": [
        {
          "output_type": "stream",
          "name": "stdout",
          "text": [
            "0.9736842105263158\n"
          ]
        },
        {
          "output_type": "stream",
          "name": "stderr",
          "text": [
            "/usr/local/lib/python3.7/dist-packages/sklearn/linear_model/_logistic.py:818: ConvergenceWarning: lbfgs failed to converge (status=1):\n",
            "STOP: TOTAL NO. of ITERATIONS REACHED LIMIT.\n",
            "\n",
            "Increase the number of iterations (max_iter) or scale the data as shown in:\n",
            "    https://scikit-learn.org/stable/modules/preprocessing.html\n",
            "Please also refer to the documentation for alternative solver options:\n",
            "    https://scikit-learn.org/stable/modules/linear_model.html#logistic-regression\n",
            "  extra_warning_msg=_LOGISTIC_SOLVER_CONVERGENCE_MSG,\n"
          ]
        }
      ]
    },
    {
      "cell_type": "code",
      "source": [
        "#k-Nearest Neighbor\n",
        "from sklearn.datasets import load_iris\n",
        "from sklearn.model_selection import train_test_split\n",
        "from sklearn import metrics\n",
        "from sklearn.neighbors import KNeighborsClassifier\n",
        "\n",
        "# read in the iris data\n",
        "iris = load_iris()\n",
        "\n",
        "# create X (features) and y (label)\n",
        "X = iris.data\n",
        "y = iris.target\n",
        "\n",
        "# use train/test split with different random_state values\n",
        "X_train, X_test, y_train, y_test = train_test_split(X, y, random_state=3)\n",
        "\n",
        "# check classification accuracy of KNN with K=2\n",
        "knn = KNeighborsClassifier(n_neighbors=2)\n",
        "knn.fit(X_train, y_train)\n",
        "# KNeighborsClassifier(algorithm='auto', leaf_size=30, metric='minkowski',\n",
        "#          metric_params=None, n_jobs=1, n_neighbors=2, p=2,\n",
        "#           weights='uniform')\n",
        "\n",
        "# predict our sample\n",
        "y_pred = knn.predict(X_test)\n",
        "\n",
        "# evaluation our prediction\n",
        "print(metrics.accuracy_score(y_test, y_pred))\n",
        "\n",
        "\n",
        "# Let do it agian with difference random_state and K\n",
        "# use train/test split with different random_state values\n",
        "X_train, X_test, y_train, y_test = train_test_split(X, y, random_state=4)\n",
        "\n",
        "# check classification accuracy of KNN with K=5\n",
        "knn = KNeighborsClassifier(n_neighbors=5)\n",
        "knn.fit(X_train, y_train)\n",
        "# KNeighborsClassifier(algorithm='auto', leaf_size=30, metric='minkowski',\n",
        "#           metric_params=None, n_jobs=1, n_neighbors=5, p=2,\n",
        "#           weights='uniform')\n",
        "\n",
        "# predict our sample\n",
        "y_pred = knn.predict(X_test)\n",
        "\n",
        "# evaluation our prediction\n",
        "print(metrics.accuracy_score(y_test, y_pred))\n",
        "\n"
      ],
      "metadata": {
        "colab": {
          "base_uri": "https://localhost:8080/"
        },
        "id": "DoRutGE18UUq",
        "outputId": "5821db8e-c486-46f5-db2c-8aa1ab7d9f63"
      },
      "execution_count": null,
      "outputs": [
        {
          "output_type": "stream",
          "name": "stdout",
          "text": [
            "0.9473684210526315\n",
            "0.9736842105263158\n"
          ]
        }
      ]
    },
    {
      "cell_type": "code",
      "source": [
        "from random import randint\n",
        "x=[3,8,9,6,4,73,85,18]\n",
        "y=[21,31,87,24,6,45,22,29]\n",
        "c=[]\n",
        "for i in range(8):\n",
        "  c.append(randint(0,1))\n",
        "print(c)"
      ],
      "metadata": {
        "colab": {
          "base_uri": "https://localhost:8080/"
        },
        "id": "hwq1Y-WrL9hp",
        "outputId": "de96c4d3-5341-4802-94a4-2fa29dbe3694"
      },
      "execution_count": null,
      "outputs": [
        {
          "output_type": "stream",
          "name": "stdout",
          "text": [
            "[1, 0, 1, 0, 1, 0, 1, 1]\n"
          ]
        }
      ]
    },
    {
      "cell_type": "code",
      "source": [
        "import matplotlib.pyplot as plt\n",
        "plt.scatter(x,y,c=c)\n",
        "plt.show"
      ],
      "metadata": {
        "colab": {
          "base_uri": "https://localhost:8080/",
          "height": 284
        },
        "id": "jSUhJ4OtL-DR",
        "outputId": "70c3cd49-32a1-4f33-e920-715b561fb959"
      },
      "execution_count": null,
      "outputs": [
        {
          "output_type": "execute_result",
          "data": {
            "text/plain": [
              "<function matplotlib.pyplot.show(*args, **kw)>"
            ]
          },
          "metadata": {},
          "execution_count": 18
        },
        {
          "output_type": "display_data",
          "data": {
            "text/plain": [
              "<Figure size 432x288 with 1 Axes>"
            ],
            "image/png": "[encoded data removed]"
          },
          "metadata": {
            "needs_background": "light"
          }
        }
      ]
    },
    {
      "cell_type": "code",
      "source": [
        "from sklearn.neighbors import KNeighborsClassifier\n",
        "\n",
        "data=list(zip(x,y))\n",
        "knn=KNeighborsClassifier(n_neighbors=3)\n",
        "\n",
        "knn.fit(data,c)\n",
        "\n",
        "KNeighborsClassifier(n_neighbors=3)\n",
        "\n",
        "x_test=[1,3,5,7,9,11]\n",
        "y_test=[2,4,6,8,10,12]\n",
        "test_data=list(zip(x_test,y_test))\n",
        "\n",
        "prediction = knn.predict(test_data)\n",
        "print(prediction)\n"
      ],
      "metadata": {
        "colab": {
          "base_uri": "https://localhost:8080/"
        },
        "id": "gO6aQVWeL-wg",
        "outputId": "4a813e9f-5cd3-4153-a835-223822518ea7"
      },
      "execution_count": null,
      "outputs": [
        {
          "output_type": "stream",
          "name": "stdout",
          "text": [
            "[1 1 1 1 1 1]\n"
          ]
        }
      ]
    },
    {
      "cell_type": "code",
      "source": [
        "plt.scatter(x_test,y_test,c=prediction)"
      ],
      "metadata": {
        "colab": {
          "base_uri": "https://localhost:8080/",
          "height": 282
        },
        "id": "DD62ydcwMESY",
        "outputId": "627eb033-15aa-476a-8d66-7b8a1afb0f38"
      },
      "execution_count": null,
      "outputs": [
        {
          "output_type": "execute_result",
          "data": {
            "text/plain": [
              "<matplotlib.collections.PathCollection at 0x7f03b6b87a10>"
            ]
          },
          "metadata": {},
          "execution_count": 20
        },
        {
          "output_type": "display_data",
          "data": {
            "text/plain": [
              "<Figure size 432x288 with 1 Axes>"
            ],
            "image/png": "[encoded data removed]"
          },
          "metadata": {
            "needs_background": "light"
          }
        }
      ]
    },
    {
      "cell_type": "code",
      "source": [
        "from sklearn.naive_bayes import GaussianNB\n",
        "\n",
        "#navie bayes \n",
        "nb_model = GaussianNB()\n",
        "nb_mod = nb_model.fit(data,c)\n",
        "predictions = nb_mod.predict(test_data)\n",
        "\n",
        "plt.scatter(x_test,y_test,c=predictions)\n",
        "\n",
        "plt.show()"
      ],
      "metadata": {
        "colab": {
          "base_uri": "https://localhost:8080/",
          "height": 265
        },
        "id": "0gnR-bmfMEvy",
        "outputId": "691fd975-fda3-46e7-fead-40302f98a7ea"
      },
      "execution_count": null,
      "outputs": [
        {
          "output_type": "display_data",
          "data": {
            "text/plain": [
              "<Figure size 432x288 with 1 Axes>"
            ],
            "image/png": "[encoded data removed]"
          },
          "metadata": {
            "needs_background": "light"
          }
        }
      ]
    },
    {
      "cell_type": "code",
      "source": [],
      "metadata": {
        "id": "vrCz56q1MFSI"
      },
      "execution_count": null,
      "outputs": []
    }
  ]
}