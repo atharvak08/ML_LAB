{
  "nbformat": 4,
  "nbformat_minor": 0,
  "metadata": {
    "colab": {
      "provenance": [],
      "collapsed_sections": [],
      "authorship_tag": "ABX9TyPxZnU+RD54oxx/bcSI21AA",
      "include_colab_link": true
    },
    "kernelspec": {
      "name": "python3",
      "display_name": "Python 3"
    },
    "language_info": {
      "name": "python"
    }
  },
  "cells": [
    {
      "cell_type": "markdown",
      "metadata": {
        "id": "view-in-github",
        "colab_type": "text"
      },
      "source": [
        "<a href=\"https://colab.research.google.com/github/atharvak08/ML_LAB/blob/main/prac1ak08.ipynb\" target=\"_parent\"><img src=\"https://colab.research.google.com/assets/colab-badge.svg\" alt=\"Open In Colab\"/></a>"
      ]
    },
    {
      "cell_type": "code",
      "execution_count": null,
      "metadata": {
        "id": "nP-2mHnpH8OE"
      },
      "outputs": [],
      "source": [
        "import pandas as pd \n",
        "import numpy as np\n",
        "import matplotlib.pyplot as plt\n",
        "df = pd.read_csv(\"/content/drive/MyDrive/IRIS.csv\"); \n",
        "print(df.info())"
      ]
    },
    {
      "cell_type": "code",
      "source": [
        "df.head(10)\n"
      ],
      "metadata": {
        "id": "1UAAGL6bH-uu"
      },
      "execution_count": null,
      "outputs": []
    },
    {
      "cell_type": "code",
      "source": [
        "#new_df = df.dropna()\n",
        "x=df.mean()\n",
        "df.fillna(x, inplace=True) \n",
        "df.info()\n"
      ],
      "metadata": {
        "id": "vM6zhUMpIDNN"
      },
      "execution_count": null,
      "outputs": []
    },
    {
      "cell_type": "code",
      "source": [
        "df.describe()\n"
      ],
      "metadata": {
        "id": "o1JYOyJDIDln"
      },
      "execution_count": null,
      "outputs": []
    },
    {
      "cell_type": "code",
      "source": [
        "print(df.duplicated())\n",
        "print(\"correlation\") \n",
        "print(df.corr())\n",
        "\n"
      ],
      "metadata": {
        "id": "SqRQcvdHIEF3"
      },
      "execution_count": null,
      "outputs": []
    },
    {
      "cell_type": "code",
      "source": [
        "df.plot()\n"
      ],
      "metadata": {
        "id": "5GGd6zC_IE43"
      },
      "execution_count": null,
      "outputs": []
    },
    {
      "cell_type": "code",
      "source": [
        "df['sepal_length'].hist()"
      ],
      "metadata": {
        "id": "Y_D08w55IFO9"
      },
      "execution_count": null,
      "outputs": []
    },
    {
      "cell_type": "code",
      "source": [
        "df['sepal_width'].hist()"
      ],
      "metadata": {
        "id": "aewI8xEHIF9z"
      },
      "execution_count": null,
      "outputs": []
    },
    {
      "cell_type": "code",
      "source": [
        "colors=['red','green','grey']\n",
        "species = ['Iris-setosa', 'Iris-versicolor', 'Iris-virginica']\n",
        "for i in range(3):\n",
        "  x = df[df['species']==species[i]]\n",
        "  plt.scatter(x['sepal_length'],x['sepal_width'], label=species[i],c=colors[i])\n",
        "\n",
        "plt.xlabel(\"sepal_length\")\n",
        "plt.ylabel(\"sepal_width\")\n",
        "plt.legend()\n",
        "plt.grid()"
      ],
      "metadata": {
        "id": "JeqI7LyXIegb"
      },
      "execution_count": null,
      "outputs": []
    },
    {
      "cell_type": "code",
      "source": [],
      "metadata": {
        "id": "RiplGNRAIiUO"
      },
      "execution_count": null,
      "outputs": []
    },
    {
      "cell_type": "code",
      "source": [],
      "metadata": {
        "id": "4zU9YYk4Ii63"
      },
      "execution_count": null,
      "outputs": []
    },
    {
      "cell_type": "code",
      "source": [],
      "metadata": {
        "id": "maKL7qZ3IjQp"
      },
      "execution_count": null,
      "outputs": []
    },
    {
      "cell_type": "code",
      "source": [],
      "metadata": {
        "id": "1f79x8K1IfOs"
      },
      "execution_count": null,
      "outputs": []
    }
  ]
}