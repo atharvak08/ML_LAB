{
  "cells": [
    {
      "cell_type": "markdown",
      "metadata": {
        "id": "view-in-github",
        "colab_type": "text"
      },
      "source": [
        "<a href=\"https://colab.research.google.com/github/atharvak08/ML_LAB/blob/main/Iris_Classification_DataFlair.ipynb\" target=\"_parent\"><img src=\"https://colab.research.google.com/assets/colab-badge.svg\" alt=\"Open In Colab\"/></a>"
      ]
    },
    {
      "cell_type": "code",
      "execution_count": null,
      "id": "3fc576d5",
      "metadata": {
        "id": "3fc576d5"
      },
      "outputs": [],
      "source": [
        " # DataFlair Iris Classification\n",
        "# Import Packages\n",
        "import numpy as np\n",
        "import matplotlib.pyplot as plt\n",
        "import seaborn as sns\n",
        "import pandas as pd\n",
        "%matplotlib inline"
      ]
    },
    {
      "cell_type": "code",
      "source": [
        "from google.colab import drive\n",
        "drive.mount('/content/drive')"
      ],
      "metadata": {
        "id": "hbS6V9pANn1R"
      },
      "id": "hbS6V9pANn1R",
      "execution_count": null,
      "outputs": []
    },
    {
      "cell_type": "code",
      "execution_count": null,
      "id": "ffff6547",
      "metadata": {
        "id": "ffff6547"
      },
      "outputs": [],
      "source": [
        "columns = ['Sepal length', 'Sepal width', 'Petal length', 'Petal width', 'Class_labels'] # As per the iris dataset information"
      ]
    },
    {
      "cell_type": "code",
      "execution_count": null,
      "id": "233f3a3f",
      "metadata": {
        "id": "233f3a3f"
      },
      "outputs": [],
      "source": [
        "# Load the data\n",
        "df = pd.read_csv('/content/drive/MyDrive/ML2022/Iris.csv', names=columns)"
      ]
    },
    {
      "cell_type": "code",
      "execution_count": null,
      "id": "cf735fb2",
      "metadata": {
        "id": "cf735fb2"
      },
      "outputs": [],
      "source": [
        "df.head()"
      ]
    },
    {
      "cell_type": "code",
      "execution_count": null,
      "id": "c1a06c46",
      "metadata": {
        "id": "c1a06c46"
      },
      "outputs": [],
      "source": [
        "# Some basic statistical analysis about the data\n",
        "df.describe()"
      ]
    },
    {
      "cell_type": "code",
      "execution_count": null,
      "id": "84a80742",
      "metadata": {
        "id": "84a80742"
      },
      "outputs": [],
      "source": [
        "# Visualize the whole dataset\n",
        "sns.pairplot(df, hue='Class_labels')"
      ]
    },
    {
      "cell_type": "code",
      "execution_count": null,
      "id": "cc524007",
      "metadata": {
        "id": "cc524007"
      },
      "outputs": [],
      "source": [
        "# Seperate features and target  \n",
        "data = df.values\n",
        "X = data[:,0:4]\n",
        "Y = data[:,4]"
      ]
    },
    {
      "cell_type": "code",
      "execution_count": null,
      "id": "0fbef406",
      "metadata": {
        "id": "0fbef406"
      },
      "outputs": [],
      "source": [
        "# Calculate avarage of each features for all classes\n",
        "Y_Data = np.array([np.average(X[:, i][Y==j].astype('float32')) for i in range (X.shape[1]) for j in (np.unique(Y))])\n",
        "Y_Data_reshaped = Y_Data.reshape(4, 3)\n",
        "Y_Data_reshaped = np.swapaxes(Y_Data_reshaped, 0, 1)\n",
        "X_axis = np.arange(len(columns)-1)\n",
        "width = 0.25"
      ]
    },
    {
      "cell_type": "code",
      "execution_count": null,
      "id": "91907fe7",
      "metadata": {
        "id": "91907fe7"
      },
      "outputs": [],
      "source": [
        "# Plot the avarage\n",
        "plt.bar(X_axis, Y_Data_reshaped[0], width, label = 'Setosa')\n",
        "plt.bar(X_axis+width, Y_Data_reshaped[1], width, label = 'Versicolour')\n",
        "plt.bar(X_axis+width*2, Y_Data_reshaped[2], width, label = 'Virginica')\n",
        "plt.xticks(X_axis, columns[:4])\n",
        "plt.xlabel(\"Features\")\n",
        "plt.ylabel(\"Value in cm.\")\n",
        "plt.legend(bbox_to_anchor=(1.3,1))\n",
        "plt.show()"
      ]
    },
    {
      "cell_type": "code",
      "execution_count": null,
      "id": "dd891de5",
      "metadata": {
        "id": "dd891de5"
      },
      "outputs": [],
      "source": [
        "# Split the data to train and test dataset.\n",
        "from sklearn.model_selection import train_test_split\n",
        "X_train, X_test, y_train, y_test = train_test_split(X, Y, test_size=0.2)"
      ]
    },
    {
      "cell_type": "code",
      "execution_count": null,
      "id": "979f8191",
      "metadata": {
        "id": "979f8191"
      },
      "outputs": [],
      "source": [
        "# Support vector machine algorithm\n",
        "from sklearn.svm import SVC\n",
        "svn = SVC()\n",
        "svn.fit(X_train, y_train)"
      ]
    },
    {
      "cell_type": "code",
      "execution_count": null,
      "id": "6065a00c",
      "metadata": {
        "id": "6065a00c"
      },
      "outputs": [],
      "source": [
        "# Predict from the test dataset\n",
        "predictions = svn.predict(X_test)"
      ]
    },
    {
      "cell_type": "code",
      "execution_count": null,
      "id": "4c16110a",
      "metadata": {
        "id": "4c16110a"
      },
      "outputs": [],
      "source": [
        "# Calculate the accuracy\n",
        "from sklearn.metrics import accuracy_score\n",
        "accuracy_score(y_test, predictions)"
      ]
    },
    {
      "cell_type": "code",
      "execution_count": null,
      "id": "26189e59",
      "metadata": {
        "id": "26189e59"
      },
      "outputs": [],
      "source": [
        "# A detailed classification report\n",
        "from sklearn.metrics import classification_report\n",
        "print(classification_report(y_test, predictions))"
      ]
    },
    {
      "cell_type": "code",
      "execution_count": null,
      "id": "e299fe87",
      "metadata": {
        "id": "e299fe87"
      },
      "outputs": [],
      "source": [
        "X_new = np.array([[3, 2, 1, 0.2], [  4.9, 2.2, 3.8, 1.1 ], [  5.3, 2.5, 4.6, 1.9 ]])\n",
        "#Prediction of the species from the input vector\n",
        "prediction = svn.predict(X_new)\n",
        "print(\"Prediction of Species: {}\".format(prediction))"
      ]
    },
    {
      "cell_type": "code",
      "execution_count": null,
      "id": "2ede659b",
      "metadata": {
        "id": "2ede659b"
      },
      "outputs": [],
      "source": [
        "# Save the model\n",
        "import pickle\n",
        "with open('SVM.pickle', 'wb') as f:\n",
        "    pickle.dump(svn, f)"
      ]
    },
    {
      "cell_type": "code",
      "execution_count": null,
      "id": "6e59be3b",
      "metadata": {
        "id": "6e59be3b"
      },
      "outputs": [],
      "source": [
        "# Load the model\n",
        "with open('SVM.pickle', 'rb') as f:\n",
        "    model = pickle.load(f)"
      ]
    },
    {
      "cell_type": "code",
      "execution_count": null,
      "id": "7897500c",
      "metadata": {
        "id": "7897500c"
      },
      "outputs": [],
      "source": [
        "model.predict(X_new)"
      ]
    },
    {
      "cell_type": "code",
      "execution_count": null,
      "id": "863bc902",
      "metadata": {
        "id": "863bc902"
      },
      "outputs": [],
      "source": []
    }
  ],
  "metadata": {
    "kernelspec": {
      "display_name": "Python 3.7.10 64-bit ('dsenv': conda)",
      "language": "python",
      "name": "python3710jvsc74a57bd03de85ba066d17394542b6ba22a9c606e6ab49ee752c0de84f0bbe3e820d7ebf9"
    },
    "language_info": {
      "codemirror_mode": {
        "name": "ipython",
        "version": 3
      },
      "file_extension": ".py",
      "mimetype": "text/x-python",
      "name": "python",
      "nbconvert_exporter": "python",
      "pygments_lexer": "ipython3",
      "version": "3.7.10"
    },
    "colab": {
      "private_outputs": true,
      "provenance": [],
      "include_colab_link": true
    },
    "gpuClass": "standard"
  },
  "nbformat": 4,
  "nbformat_minor": 5
}