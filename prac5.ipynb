{
  "cells": [
    {
      "cell_type": "markdown",
      "metadata": {
        "id": "view-in-github",
        "colab_type": "text"
      },
      "source": [
        "<a href=\"https://colab.research.google.com/github/atharvak08/ML_LAB/blob/main/prac5.ipynb\" target=\"_parent\"><img src=\"https://colab.research.google.com/assets/colab-badge.svg\" alt=\"Open In Colab\"/></a>"
      ]
    },
    {
      "cell_type": "code",
      "execution_count": null,
      "metadata": {
        "_cell_guid": "b1076dfc-b9ad-4769-8c92-a6c4dae69d19",
        "_uuid": "8f2839f25d086af736a60e9eeb907d3b93b6e0e5",
        "execution": {
          "iopub.execute_input": "2021-02-06T11:22:37.480279Z",
          "iopub.status.busy": "2021-02-06T11:22:37.479615Z",
          "iopub.status.idle": "2021-02-06T11:22:38.455444Z",
          "shell.execute_reply": "2021-02-06T11:22:38.454555Z"
        },
        "papermill": {
          "duration": 0.990086,
          "end_time": "2021-02-06T11:22:38.455663",
          "exception": false,
          "start_time": "2021-02-06T11:22:37.465577",
          "status": "completed"
        },
        "tags": [],
        "id": "A79U267HI6Jh"
      },
      "outputs": [],
      "source": [
        "# Import the Iris dataset from sklearn\n",
        "from sklearn.datasets import load_iris\n",
        "import pandas as pd\n",
        "import numpy as np"
      ]
    },
    {
      "cell_type": "code",
      "execution_count": null,
      "metadata": {
        "execution": {
          "iopub.execute_input": "2021-02-06T11:22:38.498669Z",
          "iopub.status.busy": "2021-02-06T11:22:38.497972Z",
          "iopub.status.idle": "2021-02-06T11:22:38.515721Z",
          "shell.execute_reply": "2021-02-06T11:22:38.515187Z"
        },
        "papermill": {
          "duration": 0.031926,
          "end_time": "2021-02-06T11:22:38.515859",
          "exception": false,
          "start_time": "2021-02-06T11:22:38.483933",
          "status": "completed"
        },
        "tags": [],
        "id": "2EBfGhAVI6Ji"
      },
      "outputs": [],
      "source": [
        "# Load the Iris dataset to a variable\n",
        "iris = load_iris()\n",
        "# Load the data into 2 different pandas dataframes. \n",
        "# X for the features\n",
        "X = pd.DataFrame(iris.data, columns=iris.feature_names)\n",
        "# y for the targets\n",
        "y = pd.Categorical.from_codes(iris.target, iris.target_names)"
      ]
    },
    {
      "cell_type": "code",
      "execution_count": null,
      "metadata": {
        "execution": {
          "iopub.execute_input": "2021-02-06T11:22:38.543436Z",
          "iopub.status.busy": "2021-02-06T11:22:38.542790Z",
          "iopub.status.idle": "2021-02-06T11:22:38.560245Z",
          "shell.execute_reply": "2021-02-06T11:22:38.560700Z"
        },
        "papermill": {
          "duration": 0.035319,
          "end_time": "2021-02-06T11:22:38.560869",
          "exception": false,
          "start_time": "2021-02-06T11:22:38.525550",
          "status": "completed"
        },
        "tags": [],
        "colab": {
          "base_uri": "https://localhost:8080/",
          "height": 206
        },
        "id": "CsVtkwnsI6Jj",
        "outputId": "f4a48143-9cce-4ad4-fcbb-d78427b1a938"
      },
      "outputs": [
        {
          "output_type": "execute_result",
          "data": {
            "text/plain": [
              "   sepal length (cm)  sepal width (cm)  petal length (cm)  petal width (cm)\n",
              "0                5.1               3.5                1.4               0.2\n",
              "1                4.9               3.0                1.4               0.2\n",
              "2                4.7               3.2                1.3               0.2\n",
              "3                4.6               3.1                1.5               0.2\n",
              "4                5.0               3.6                1.4               0.2"
            ],
            "text/html": [
              "\n",
              "  <div id=\"df-cdd555e3-7dff-4277-9518-3aa969ac9b8e\">\n",
              "    <div class=\"colab-df-container\">\n",
              "      <div>\n",
              "<style scoped>\n",
              "    .dataframe tbody tr th:only-of-type {\n",
              "        vertical-align: middle;\n",
              "    }\n",
              "\n",
              "    .dataframe tbody tr th {\n",
              "        vertical-align: top;\n",
              "    }\n",
              "\n",
              "    .dataframe thead th {\n",
              "        text-align: right;\n",
              "    }\n",
              "</style>\n",
              "<table border=\"1\" class=\"dataframe\">\n",
              "  <thead>\n",
              "    <tr style=\"text-align: right;\">\n",
              "      <th></th>\n",
              "      <th>sepal length (cm)</th>\n",
              "      <th>sepal width (cm)</th>\n",
              "      <th>petal length (cm)</th>\n",
              "      <th>petal width (cm)</th>\n",
              "    </tr>\n",
              "  </thead>\n",
              "  <tbody>\n",
              "    <tr>\n",
              "      <th>0</th>\n",
              "      <td>5.1</td>\n",
              "      <td>3.5</td>\n",
              "      <td>1.4</td>\n",
              "      <td>0.2</td>\n",
              "    </tr>\n",
              "    <tr>\n",
              "      <th>1</th>\n",
              "      <td>4.9</td>\n",
              "      <td>3.0</td>\n",
              "      <td>1.4</td>\n",
              "      <td>0.2</td>\n",
              "    </tr>\n",
              "    <tr>\n",
              "      <th>2</th>\n",
              "      <td>4.7</td>\n",
              "      <td>3.2</td>\n",
              "      <td>1.3</td>\n",
              "      <td>0.2</td>\n",
              "    </tr>\n",
              "    <tr>\n",
              "      <th>3</th>\n",
              "      <td>4.6</td>\n",
              "      <td>3.1</td>\n",
              "      <td>1.5</td>\n",
              "      <td>0.2</td>\n",
              "    </tr>\n",
              "    <tr>\n",
              "      <th>4</th>\n",
              "      <td>5.0</td>\n",
              "      <td>3.6</td>\n",
              "      <td>1.4</td>\n",
              "      <td>0.2</td>\n",
              "    </tr>\n",
              "  </tbody>\n",
              "</table>\n",
              "</div>\n",
              "      <button class=\"colab-df-convert\" onclick=\"convertToInteractive('df-cdd555e3-7dff-4277-9518-3aa969ac9b8e')\"\n",
              "              title=\"Convert this dataframe to an interactive table.\"\n",
              "              style=\"display:none;\">\n",
              "        \n",
              "  <svg xmlns=\"http://www.w3.org/2000/svg\" height=\"24px\"viewBox=\"0 0 24 24\"\n",
              "       width=\"24px\">\n",
              "    <path d=\"M0 0h24v24H0V0z\" fill=\"none\"/>\n",
              "    <path d=\"M18.56 5.44l.94 2.06.94-2.06 2.06-.94-2.06-.94-.94-2.06-.94 2.06-2.06.94zm-11 1L8.5 8.5l.94-2.06 2.06-.94-2.06-.94L8.5 2.5l-.94 2.06-2.06.94zm10 10l.94 2.06.94-2.06 2.06-.94-2.06-.94-.94-2.06-.94 2.06-2.06.94z\"/><path d=\"M17.41 7.96l-1.37-1.37c-.4-.4-.92-.59-1.43-.59-.52 0-1.04.2-1.43.59L10.3 9.45l-7.72 7.72c-.78.78-.78 2.05 0 2.83L4 21.41c.39.39.9.59 1.41.59.51 0 1.02-.2 1.41-.59l7.78-7.78 2.81-2.81c.8-.78.8-2.07 0-2.86zM5.41 20L4 18.59l7.72-7.72 1.47 1.35L5.41 20z\"/>\n",
              "  </svg>\n",
              "      </button>\n",
              "      \n",
              "  <style>\n",
              "    .colab-df-container {\n",
              "      display:flex;\n",
              "      flex-wrap:wrap;\n",
              "      gap: 12px;\n",
              "    }\n",
              "\n",
              "    .colab-df-convert {\n",
              "      background-color: #E8F0FE;\n",
              "      border: none;\n",
              "      border-radius: 50%;\n",
              "      cursor: pointer;\n",
              "      display: none;\n",
              "      fill: #1967D2;\n",
              "      height: 32px;\n",
              "      padding: 0 0 0 0;\n",
              "      width: 32px;\n",
              "    }\n",
              "\n",
              "    .colab-df-convert:hover {\n",
              "      background-color: #E2EBFA;\n",
              "      box-shadow: 0px 1px 2px rgba(60, 64, 67, 0.3), 0px 1px 3px 1px rgba(60, 64, 67, 0.15);\n",
              "      fill: #174EA6;\n",
              "    }\n",
              "\n",
              "    [theme=dark] .colab-df-convert {\n",
              "      background-color: #3B4455;\n",
              "      fill: #D2E3FC;\n",
              "    }\n",
              "\n",
              "    [theme=dark] .colab-df-convert:hover {\n",
              "      background-color: #434B5C;\n",
              "      box-shadow: 0px 1px 3px 1px rgba(0, 0, 0, 0.15);\n",
              "      filter: drop-shadow(0px 1px 2px rgba(0, 0, 0, 0.3));\n",
              "      fill: #FFFFFF;\n",
              "    }\n",
              "  </style>\n",
              "\n",
              "      <script>\n",
              "        const buttonEl =\n",
              "          document.querySelector('#df-cdd555e3-7dff-4277-9518-3aa969ac9b8e button.colab-df-convert');\n",
              "        buttonEl.style.display =\n",
              "          google.colab.kernel.accessAllowed ? 'block' : 'none';\n",
              "\n",
              "        async function convertToInteractive(key) {\n",
              "          const element = document.querySelector('#df-cdd555e3-7dff-4277-9518-3aa969ac9b8e');\n",
              "          const dataTable =\n",
              "            await google.colab.kernel.invokeFunction('convertToInteractive',\n",
              "                                                     [key], {});\n",
              "          if (!dataTable) return;\n",
              "\n",
              "          const docLinkHtml = 'Like what you see? Visit the ' +\n",
              "            '<a target=\"_blank\" href=https://colab.research.google.com/notebooks/data_table.ipynb>data table notebook</a>'\n",
              "            + ' to learn more about interactive tables.';\n",
              "          element.innerHTML = '';\n",
              "          dataTable['output_type'] = 'display_data';\n",
              "          await google.colab.output.renderOutput(dataTable, element);\n",
              "          const docLink = document.createElement('div');\n",
              "          docLink.innerHTML = docLinkHtml;\n",
              "          element.appendChild(docLink);\n",
              "        }\n",
              "      </script>\n",
              "    </div>\n",
              "  </div>\n",
              "  "
            ]
          },
          "metadata": {},
          "execution_count": 3
        }
      ],
      "source": [
        "# Let's explore our features.\n",
        "X.head()"
      ]
    },
    {
      "cell_type": "markdown",
      "metadata": {
        "papermill": {
          "duration": 0.009876,
          "end_time": "2021-02-06T11:22:38.581446",
          "exception": false,
          "start_time": "2021-02-06T11:22:38.571570",
          "status": "completed"
        },
        "tags": [],
        "id": "TMtBn86YI6Jj"
      },
      "source": [
        "What we are seeing here are measurements taken for many different plants. Each row represents one set of measurements taken from one plant.\n",
        "So according to this data, the first plant (row 0) has the following measures:\n",
        "\n",
        "- Sepal length in cm = 5.1\n",
        "- Sepal width in cm = 3.5\n",
        "- Petal length in cm = 1.4\n",
        "- Petal width in cm = 0.2\n",
        "\n",
        "We can now explore our target data `y` to see to what family this plant belongs."
      ]
    },
    {
      "cell_type": "code",
      "execution_count": null,
      "metadata": {
        "execution": {
          "iopub.execute_input": "2021-02-06T11:22:38.604803Z",
          "iopub.status.busy": "2021-02-06T11:22:38.604095Z",
          "iopub.status.idle": "2021-02-06T11:22:38.611522Z",
          "shell.execute_reply": "2021-02-06T11:22:38.611959Z"
        },
        "papermill": {
          "duration": 0.020661,
          "end_time": "2021-02-06T11:22:38.612151",
          "exception": false,
          "start_time": "2021-02-06T11:22:38.591490",
          "status": "completed"
        },
        "tags": [],
        "colab": {
          "base_uri": "https://localhost:8080/"
        },
        "id": "8twQOg-dI6Jk",
        "outputId": "d4d2e20f-01de-46bb-9d4f-f57d50de06da"
      },
      "outputs": [
        {
          "output_type": "stream",
          "name": "stdout",
          "text": [
            "['setosa', 'setosa', 'setosa', 'setosa', 'setosa', ..., 'virginica', 'virginica', 'virginica', 'virginica', 'virginica']\n",
            "Length: 150\n",
            "Categories (3, object): ['setosa', 'versicolor', 'virginica']\n"
          ]
        }
      ],
      "source": [
        "print(y)"
      ]
    },
    {
      "cell_type": "markdown",
      "metadata": {
        "papermill": {
          "duration": 0.010133,
          "end_time": "2021-02-06T11:22:38.632874",
          "exception": false,
          "start_time": "2021-02-06T11:22:38.622741",
          "status": "completed"
        },
        "tags": [],
        "id": "w8Y6jJ_CI6Jk"
      },
      "source": [
        "Our target data (or column) specifies what plant familiy does the row belong to. So our `row 0` plant, which we listed the measurements above, belongs to the family `setosa`. What we have here is called **Categorical** data. This is because the target column can only have 3 possible values (`setosa`, `virginica` or `versicolor`).\n",
        "\n",
        "Machine learning models don't handle categorical data as efficiently as they can handle `boolean` values (0 or 1, True or False), so extracting `dummy` columns from this categories is usually a good step when preparing our data. \n",
        "\n",
        "Another example of this would be `Gender`. A dataset of people comes with a column `Gender` and each row contains either of the values `Male` of `Female`. Using pandas `.get_dummies()` the resulting dataset would have no column called `Gender` but instead 2 columns (`Male` and `Female`) with a 0 or a 1."
      ]
    },
    {
      "cell_type": "code",
      "execution_count": null,
      "metadata": {
        "execution": {
          "iopub.execute_input": "2021-02-06T11:22:38.661430Z",
          "iopub.status.busy": "2021-02-06T11:22:38.660711Z",
          "iopub.status.idle": "2021-02-06T11:22:38.663524Z",
          "shell.execute_reply": "2021-02-06T11:22:38.664030Z"
        },
        "papermill": {
          "duration": 0.020628,
          "end_time": "2021-02-06T11:22:38.664207",
          "exception": false,
          "start_time": "2021-02-06T11:22:38.643579",
          "status": "completed"
        },
        "tags": [],
        "id": "dXPcg_bgI6Jk"
      },
      "outputs": [],
      "source": [
        "# Convert categorical data into dummy/indicator variables.\n",
        "y = pd.get_dummies(y)"
      ]
    },
    {
      "cell_type": "code",
      "execution_count": null,
      "metadata": {
        "execution": {
          "iopub.execute_input": "2021-02-06T11:22:38.697052Z",
          "iopub.status.busy": "2021-02-06T11:22:38.696491Z",
          "iopub.status.idle": "2021-02-06T11:22:38.699962Z",
          "shell.execute_reply": "2021-02-06T11:22:38.700424Z"
        },
        "papermill": {
          "duration": 0.025956,
          "end_time": "2021-02-06T11:22:38.700586",
          "exception": false,
          "start_time": "2021-02-06T11:22:38.674630",
          "status": "completed"
        },
        "tags": [],
        "colab": {
          "base_uri": "https://localhost:8080/",
          "height": 206
        },
        "id": "CG2NIcrJI6Jl",
        "outputId": "59fb6191-590f-4e7f-c88c-4e97be2df54c"
      },
      "outputs": [
        {
          "output_type": "execute_result",
          "data": {
            "text/plain": [
              "   setosa  versicolor  virginica\n",
              "0       1           0          0\n",
              "1       1           0          0\n",
              "2       1           0          0\n",
              "3       1           0          0\n",
              "4       1           0          0"
            ],
            "text/html": [
              "\n",
              "  <div id=\"df-dbe40165-261c-4dd1-9059-d4be580c1995\">\n",
              "    <div class=\"colab-df-container\">\n",
              "      <div>\n",
              "<style scoped>\n",
              "    .dataframe tbody tr th:only-of-type {\n",
              "        vertical-align: middle;\n",
              "    }\n",
              "\n",
              "    .dataframe tbody tr th {\n",
              "        vertical-align: top;\n",
              "    }\n",
              "\n",
              "    .dataframe thead th {\n",
              "        text-align: right;\n",
              "    }\n",
              "</style>\n",
              "<table border=\"1\" class=\"dataframe\">\n",
              "  <thead>\n",
              "    <tr style=\"text-align: right;\">\n",
              "      <th></th>\n",
              "      <th>setosa</th>\n",
              "      <th>versicolor</th>\n",
              "      <th>virginica</th>\n",
              "    </tr>\n",
              "  </thead>\n",
              "  <tbody>\n",
              "    <tr>\n",
              "      <th>0</th>\n",
              "      <td>1</td>\n",
              "      <td>0</td>\n",
              "      <td>0</td>\n",
              "    </tr>\n",
              "    <tr>\n",
              "      <th>1</th>\n",
              "      <td>1</td>\n",
              "      <td>0</td>\n",
              "      <td>0</td>\n",
              "    </tr>\n",
              "    <tr>\n",
              "      <th>2</th>\n",
              "      <td>1</td>\n",
              "      <td>0</td>\n",
              "      <td>0</td>\n",
              "    </tr>\n",
              "    <tr>\n",
              "      <th>3</th>\n",
              "      <td>1</td>\n",
              "      <td>0</td>\n",
              "      <td>0</td>\n",
              "    </tr>\n",
              "    <tr>\n",
              "      <th>4</th>\n",
              "      <td>1</td>\n",
              "      <td>0</td>\n",
              "      <td>0</td>\n",
              "    </tr>\n",
              "  </tbody>\n",
              "</table>\n",
              "</div>\n",
              "      <button class=\"colab-df-convert\" onclick=\"convertToInteractive('df-dbe40165-261c-4dd1-9059-d4be580c1995')\"\n",
              "              title=\"Convert this dataframe to an interactive table.\"\n",
              "              style=\"display:none;\">\n",
              "        \n",
              "  <svg xmlns=\"http://www.w3.org/2000/svg\" height=\"24px\"viewBox=\"0 0 24 24\"\n",
              "       width=\"24px\">\n",
              "    <path d=\"M0 0h24v24H0V0z\" fill=\"none\"/>\n",
              "    <path d=\"M18.56 5.44l.94 2.06.94-2.06 2.06-.94-2.06-.94-.94-2.06-.94 2.06-2.06.94zm-11 1L8.5 8.5l.94-2.06 2.06-.94-2.06-.94L8.5 2.5l-.94 2.06-2.06.94zm10 10l.94 2.06.94-2.06 2.06-.94-2.06-.94-.94-2.06-.94 2.06-2.06.94z\"/><path d=\"M17.41 7.96l-1.37-1.37c-.4-.4-.92-.59-1.43-.59-.52 0-1.04.2-1.43.59L10.3 9.45l-7.72 7.72c-.78.78-.78 2.05 0 2.83L4 21.41c.39.39.9.59 1.41.59.51 0 1.02-.2 1.41-.59l7.78-7.78 2.81-2.81c.8-.78.8-2.07 0-2.86zM5.41 20L4 18.59l7.72-7.72 1.47 1.35L5.41 20z\"/>\n",
              "  </svg>\n",
              "      </button>\n",
              "      \n",
              "  <style>\n",
              "    .colab-df-container {\n",
              "      display:flex;\n",
              "      flex-wrap:wrap;\n",
              "      gap: 12px;\n",
              "    }\n",
              "\n",
              "    .colab-df-convert {\n",
              "      background-color: #E8F0FE;\n",
              "      border: none;\n",
              "      border-radius: 50%;\n",
              "      cursor: pointer;\n",
              "      display: none;\n",
              "      fill: #1967D2;\n",
              "      height: 32px;\n",
              "      padding: 0 0 0 0;\n",
              "      width: 32px;\n",
              "    }\n",
              "\n",
              "    .colab-df-convert:hover {\n",
              "      background-color: #E2EBFA;\n",
              "      box-shadow: 0px 1px 2px rgba(60, 64, 67, 0.3), 0px 1px 3px 1px rgba(60, 64, 67, 0.15);\n",
              "      fill: #174EA6;\n",
              "    }\n",
              "\n",
              "    [theme=dark] .colab-df-convert {\n",
              "      background-color: #3B4455;\n",
              "      fill: #D2E3FC;\n",
              "    }\n",
              "\n",
              "    [theme=dark] .colab-df-convert:hover {\n",
              "      background-color: #434B5C;\n",
              "      box-shadow: 0px 1px 3px 1px rgba(0, 0, 0, 0.15);\n",
              "      filter: drop-shadow(0px 1px 2px rgba(0, 0, 0, 0.3));\n",
              "      fill: #FFFFFF;\n",
              "    }\n",
              "  </style>\n",
              "\n",
              "      <script>\n",
              "        const buttonEl =\n",
              "          document.querySelector('#df-dbe40165-261c-4dd1-9059-d4be580c1995 button.colab-df-convert');\n",
              "        buttonEl.style.display =\n",
              "          google.colab.kernel.accessAllowed ? 'block' : 'none';\n",
              "\n",
              "        async function convertToInteractive(key) {\n",
              "          const element = document.querySelector('#df-dbe40165-261c-4dd1-9059-d4be580c1995');\n",
              "          const dataTable =\n",
              "            await google.colab.kernel.invokeFunction('convertToInteractive',\n",
              "                                                     [key], {});\n",
              "          if (!dataTable) return;\n",
              "\n",
              "          const docLinkHtml = 'Like what you see? Visit the ' +\n",
              "            '<a target=\"_blank\" href=https://colab.research.google.com/notebooks/data_table.ipynb>data table notebook</a>'\n",
              "            + ' to learn more about interactive tables.';\n",
              "          element.innerHTML = '';\n",
              "          dataTable['output_type'] = 'display_data';\n",
              "          await google.colab.output.renderOutput(dataTable, element);\n",
              "          const docLink = document.createElement('div');\n",
              "          docLink.innerHTML = docLinkHtml;\n",
              "          element.appendChild(docLink);\n",
              "        }\n",
              "      </script>\n",
              "    </div>\n",
              "  </div>\n",
              "  "
            ]
          },
          "metadata": {},
          "execution_count": 6
        }
      ],
      "source": [
        "y.head()"
      ]
    },
    {
      "cell_type": "markdown",
      "metadata": {
        "papermill": {
          "duration": 0.011225,
          "end_time": "2021-02-06T11:22:38.723604",
          "exception": false,
          "start_time": "2021-02-06T11:22:38.712379",
          "status": "completed"
        },
        "tags": [],
        "id": "55YJMuoaI6Jl"
      },
      "source": [
        "Remember this was originally one single column with the posible values: `setosa`, `versicolor` and `virginica`. Thanks to pandas function `.get_dummies()` we can easily convert this single categorical column into 3 different ones (one per possible origina value) with values `0` or `1`. "
      ]
    },
    {
      "cell_type": "markdown",
      "metadata": {
        "papermill": {
          "duration": 0.011031,
          "end_time": "2021-02-06T11:22:38.745828",
          "exception": false,
          "start_time": "2021-02-06T11:22:38.734797",
          "status": "completed"
        },
        "tags": [],
        "id": "fX52JDtfI6Jl"
      },
      "source": [
        "## Creating and Training our model\n",
        "\n",
        "Now that we got our data prepared and rid of that `Categorical` column we can proceed to create our model.\n",
        "\n",
        "Remember, when going through this process it is important to keep some of our data apart. We do not want to use our whole dataset to train our model because we wouldn't have any data left to test it. If we feed the model the same data we used to train it as test data we are cheating ourselves. The model will know that data since it was trained on it and will very likely classify correctly, but would we know if our model would work out in the real world with new data? We can't be confident about it.\n",
        "\n",
        "So, keeping this in mind, we usually split our data into 2 sets: **Training Data** and **Testing Data**. Around 75% training - 25% testing is reasonable. \n",
        "\n",
        "For this we are going to use the [train_test_split()](https://scikit-learn.org/stable/modules/generated/sklearn.model_selection.train_test_split.html) function from sklearn, a helper function just for this purpose. It was many parameters you can explore in the linked docs but if we don't pass them in when calling the function it defaults to the 75% - 25% split we want."
      ]
    },
    {
      "cell_type": "code",
      "execution_count": null,
      "metadata": {
        "execution": {
          "iopub.execute_input": "2021-02-06T11:22:38.773441Z",
          "iopub.status.busy": "2021-02-06T11:22:38.772824Z",
          "iopub.status.idle": "2021-02-06T11:22:38.828784Z",
          "shell.execute_reply": "2021-02-06T11:22:38.828301Z"
        },
        "papermill": {
          "duration": 0.071611,
          "end_time": "2021-02-06T11:22:38.828924",
          "exception": false,
          "start_time": "2021-02-06T11:22:38.757313",
          "status": "completed"
        },
        "tags": [],
        "id": "gTkSybgRI6Jl"
      },
      "outputs": [],
      "source": [
        "# import the function\n",
        "from sklearn.model_selection import train_test_split\n",
        "\n",
        "# Split our data into the training sets and the testing sets\n",
        "# Each set has a pair of X and y\n",
        "X_train, X_test, y_train, y_test = train_test_split(X, y, random_state=1)"
      ]
    },
    {
      "cell_type": "code",
      "execution_count": null,
      "metadata": {
        "execution": {
          "iopub.execute_input": "2021-02-06T11:22:38.877454Z",
          "iopub.status.busy": "2021-02-06T11:22:38.876871Z",
          "iopub.status.idle": "2021-02-06T11:22:39.150283Z",
          "shell.execute_reply": "2021-02-06T11:22:39.149666Z"
        },
        "papermill": {
          "duration": 0.28867,
          "end_time": "2021-02-06T11:22:39.150425",
          "exception": false,
          "start_time": "2021-02-06T11:22:38.861755",
          "status": "completed"
        },
        "tags": [],
        "colab": {
          "base_uri": "https://localhost:8080/"
        },
        "id": "3G-UxLLhI6Jm",
        "outputId": "0e96bdd8-4ca3-4a67-d318-95f9b88a6272"
      },
      "outputs": [
        {
          "output_type": "execute_result",
          "data": {
            "text/plain": [
              "DecisionTreeClassifier()"
            ]
          },
          "metadata": {},
          "execution_count": 8
        }
      ],
      "source": [
        "## Import and create the model\n",
        "from sklearn.tree import DecisionTreeClassifier\n",
        "dt = DecisionTreeClassifier()\n",
        "\n",
        "# Train our model with our training data.\n",
        "dt.fit(X_train, y_train)"
      ]
    },
    {
      "cell_type": "markdown",
      "metadata": {
        "papermill": {
          "duration": 0.011042,
          "end_time": "2021-02-06T11:22:39.174294",
          "exception": false,
          "start_time": "2021-02-06T11:22:39.163252",
          "status": "completed"
        },
        "tags": [],
        "id": "EobsD7EVI6Jm"
      },
      "source": [
        "### Visualization\n",
        "\n",
        "We are going to use some tools to display the tree resulting from our data."
      ]
    },
    {
      "cell_type": "code",
      "execution_count": null,
      "metadata": {
        "execution": {
          "iopub.execute_input": "2021-02-06T11:22:39.202027Z",
          "iopub.status.busy": "2021-02-06T11:22:39.201340Z",
          "iopub.status.idle": "2021-02-06T11:22:39.692455Z",
          "shell.execute_reply": "2021-02-06T11:22:39.691695Z"
        },
        "papermill": {
          "duration": 0.506989,
          "end_time": "2021-02-06T11:22:39.692603",
          "exception": false,
          "start_time": "2021-02-06T11:22:39.185614",
          "status": "completed"
        },
        "tags": [],
        "colab": {
          "base_uri": "https://localhost:8080/",
          "height": 1036
        },
        "id": "-RGQ2mQyI6Jm",
        "outputId": "40c3251f-f62b-47d7-9d75-9fb45f9ace8f"
      },
      "outputs": [
        {
          "output_type": "display_data",
          "data": {
            "text/plain": [
              "<graphviz.files.Source at 0x7f5eab4b83d0>"
            ],
            "image/svg+xml": "<?xml version=\"1.0\" encoding=\"UTF-8\" standalone=\"no\"?>\n<!DOCTYPE svg PUBLIC \"-//W3C//DTD SVG 1.1//EN\"\n \"http://www.w3.org/Graphics/SVG/1.1/DTD/svg11.dtd\">\n<!-- Generated by graphviz version 2.40.1 (20161225.0304)\n -->\n<!-- Title: Tree Pages: 1 -->\n<svg width=\"494pt\" height=\"761pt\"\n viewBox=\"0.00 0.00 494.00 761.00\" xmlns=\"http://www.w3.org/2000/svg\" xmlns:xlink=\"http://www.w3.org/1999/xlink\">\n<g id=\"graph0\" class=\"graph\" transform=\"scale(1 1) rotate(0) translate(4 757)\">\n<title>Tree</title>\n<polygon fill=\"#ffffff\" stroke=\"transparent\" points=\"-4,4 -4,-757 490,-757 490,4 -4,4\"/>\n<!-- 0 -->\n<g id=\"node1\" class=\"node\">\n<title>0</title>\n<polygon fill=\"none\" stroke=\"#000000\" points=\"238,-753 119,-753 119,-655 238,-655 238,-753\"/>\n<text text-anchor=\"middle\" x=\"178.5\" y=\"-737.8\" font-family=\"Helvetica,sans-Serif\" font-size=\"14.00\" fill=\"#000000\">X[2] &lt;= 2.6</text>\n<text text-anchor=\"middle\" x=\"178.5\" y=\"-722.8\" font-family=\"Helvetica,sans-Serif\" font-size=\"14.00\" fill=\"#000000\">gini = 0.443</text>\n<text text-anchor=\"middle\" x=\"178.5\" y=\"-707.8\" font-family=\"Helvetica,sans-Serif\" font-size=\"14.00\" fill=\"#000000\">samples = 112</text>\n<text text-anchor=\"middle\" x=\"178.5\" y=\"-692.8\" font-family=\"Helvetica,sans-Serif\" font-size=\"14.00\" fill=\"#000000\">value = [[75, 37]</text>\n<text text-anchor=\"middle\" x=\"178.5\" y=\"-677.8\" font-family=\"Helvetica,sans-Serif\" font-size=\"14.00\" fill=\"#000000\">[78, 34]</text>\n<text text-anchor=\"middle\" x=\"178.5\" y=\"-662.8\" font-family=\"Helvetica,sans-Serif\" font-size=\"14.00\" fill=\"#000000\">[71, 41]]</text>\n</g>\n<!-- 1 -->\n<g id=\"node2\" class=\"node\">\n<title>1</title>\n<polygon fill=\"none\" stroke=\"#000000\" points=\"170,-611.5 59,-611.5 59,-528.5 170,-528.5 170,-611.5\"/>\n<text text-anchor=\"middle\" x=\"114.5\" y=\"-596.3\" font-family=\"Helvetica,sans-Serif\" font-size=\"14.00\" fill=\"#000000\">gini = 0.0</text>\n<text text-anchor=\"middle\" x=\"114.5\" y=\"-581.3\" font-family=\"Helvetica,sans-Serif\" font-size=\"14.00\" fill=\"#000000\">samples = 37</text>\n<text text-anchor=\"middle\" x=\"114.5\" y=\"-566.3\" font-family=\"Helvetica,sans-Serif\" font-size=\"14.00\" fill=\"#000000\">value = [[0, 37]</text>\n<text text-anchor=\"middle\" x=\"114.5\" y=\"-551.3\" font-family=\"Helvetica,sans-Serif\" font-size=\"14.00\" fill=\"#000000\">[37, 0]</text>\n<text text-anchor=\"middle\" x=\"114.5\" y=\"-536.3\" font-family=\"Helvetica,sans-Serif\" font-size=\"14.00\" fill=\"#000000\">[37, 0]]</text>\n</g>\n<!-- 0&#45;&gt;1 -->\n<g id=\"edge1\" class=\"edge\">\n<title>0&#45;&gt;1</title>\n<path fill=\"none\" stroke=\"#000000\" d=\"M155.0322,-654.8642C149.7367,-643.7768 144.1049,-631.9852 138.7769,-620.8297\"/>\n<polygon fill=\"#000000\" stroke=\"#000000\" points=\"141.855,-619.1533 134.3869,-611.6381 135.5384,-622.1702 141.855,-619.1533\"/>\n<text text-anchor=\"middle\" x=\"126.0539\" y=\"-631.5085\" font-family=\"Helvetica,sans-Serif\" font-size=\"14.00\" fill=\"#000000\">True</text>\n</g>\n<!-- 2 -->\n<g id=\"node3\" class=\"node\">\n<title>2</title>\n<polygon fill=\"none\" stroke=\"#000000\" points=\"299,-619 188,-619 188,-521 299,-521 299,-619\"/>\n<text text-anchor=\"middle\" x=\"243.5\" y=\"-603.8\" font-family=\"Helvetica,sans-Serif\" font-size=\"14.00\" fill=\"#000000\">X[3] &lt;= 1.65</text>\n<text text-anchor=\"middle\" x=\"243.5\" y=\"-588.8\" font-family=\"Helvetica,sans-Serif\" font-size=\"14.00\" fill=\"#000000\">gini = 0.33</text>\n<text text-anchor=\"middle\" x=\"243.5\" y=\"-573.8\" font-family=\"Helvetica,sans-Serif\" font-size=\"14.00\" fill=\"#000000\">samples = 75</text>\n<text text-anchor=\"middle\" x=\"243.5\" y=\"-558.8\" font-family=\"Helvetica,sans-Serif\" font-size=\"14.00\" fill=\"#000000\">value = [[75, 0]</text>\n<text text-anchor=\"middle\" x=\"243.5\" y=\"-543.8\" font-family=\"Helvetica,sans-Serif\" font-size=\"14.00\" fill=\"#000000\">[41, 34]</text>\n<text text-anchor=\"middle\" x=\"243.5\" y=\"-528.8\" font-family=\"Helvetica,sans-Serif\" font-size=\"14.00\" fill=\"#000000\">[34, 41]]</text>\n</g>\n<!-- 0&#45;&gt;2 -->\n<g id=\"edge2\" class=\"edge\">\n<title>0&#45;&gt;2</title>\n<path fill=\"none\" stroke=\"#000000\" d=\"M202.3345,-654.8642C206.5295,-646.216 210.9324,-637.1394 215.2345,-628.2704\"/>\n<polygon fill=\"#000000\" stroke=\"#000000\" points=\"218.453,-629.6547 219.6684,-619.1298 212.1549,-626.5996 218.453,-629.6547\"/>\n<text text-anchor=\"middle\" x=\"227.8584\" y=\"-639.0502\" font-family=\"Helvetica,sans-Serif\" font-size=\"14.00\" fill=\"#000000\">False</text>\n</g>\n<!-- 3 -->\n<g id=\"node4\" class=\"node\">\n<title>3</title>\n<polygon fill=\"none\" stroke=\"#000000\" points=\"234,-485 123,-485 123,-387 234,-387 234,-485\"/>\n<text text-anchor=\"middle\" x=\"178.5\" y=\"-469.8\" font-family=\"Helvetica,sans-Serif\" font-size=\"14.00\" fill=\"#000000\">X[2] &lt;= 4.95</text>\n<text text-anchor=\"middle\" x=\"178.5\" y=\"-454.8\" font-family=\"Helvetica,sans-Serif\" font-size=\"14.00\" fill=\"#000000\">gini = 0.129</text>\n<text text-anchor=\"middle\" x=\"178.5\" y=\"-439.8\" font-family=\"Helvetica,sans-Serif\" font-size=\"14.00\" fill=\"#000000\">samples = 37</text>\n<text text-anchor=\"middle\" x=\"178.5\" y=\"-424.8\" font-family=\"Helvetica,sans-Serif\" font-size=\"14.00\" fill=\"#000000\">value = [[37, 0]</text>\n<text text-anchor=\"middle\" x=\"178.5\" y=\"-409.8\" font-family=\"Helvetica,sans-Serif\" font-size=\"14.00\" fill=\"#000000\">[4, 33]</text>\n<text text-anchor=\"middle\" x=\"178.5\" y=\"-394.8\" font-family=\"Helvetica,sans-Serif\" font-size=\"14.00\" fill=\"#000000\">[33, 4]]</text>\n</g>\n<!-- 2&#45;&gt;3 -->\n<g id=\"edge3\" class=\"edge\">\n<title>2&#45;&gt;3</title>\n<path fill=\"none\" stroke=\"#000000\" d=\"M219.6655,-520.8642C215.4705,-512.216 211.0676,-503.1394 206.7655,-494.2704\"/>\n<polygon fill=\"#000000\" stroke=\"#000000\" points=\"209.8451,-492.5996 202.3316,-485.1298 203.547,-495.6547 209.8451,-492.5996\"/>\n</g>\n<!-- 10 -->\n<g id=\"node11\" class=\"node\">\n<title>10</title>\n<polygon fill=\"none\" stroke=\"#000000\" points=\"363,-485 252,-485 252,-387 363,-387 363,-485\"/>\n<text text-anchor=\"middle\" x=\"307.5\" y=\"-469.8\" font-family=\"Helvetica,sans-Serif\" font-size=\"14.00\" fill=\"#000000\">X[2] &lt;= 4.85</text>\n<text text-anchor=\"middle\" x=\"307.5\" y=\"-454.8\" font-family=\"Helvetica,sans-Serif\" font-size=\"14.00\" fill=\"#000000\">gini = 0.034</text>\n<text text-anchor=\"middle\" x=\"307.5\" y=\"-439.8\" font-family=\"Helvetica,sans-Serif\" font-size=\"14.00\" fill=\"#000000\">samples = 38</text>\n<text text-anchor=\"middle\" x=\"307.5\" y=\"-424.8\" font-family=\"Helvetica,sans-Serif\" font-size=\"14.00\" fill=\"#000000\">value = [[38, 0]</text>\n<text text-anchor=\"middle\" x=\"307.5\" y=\"-409.8\" font-family=\"Helvetica,sans-Serif\" font-size=\"14.00\" fill=\"#000000\">[37, 1]</text>\n<text text-anchor=\"middle\" x=\"307.5\" y=\"-394.8\" font-family=\"Helvetica,sans-Serif\" font-size=\"14.00\" fill=\"#000000\">[1, 37]]</text>\n</g>\n<!-- 2&#45;&gt;10 -->\n<g id=\"edge10\" class=\"edge\">\n<title>2&#45;&gt;10</title>\n<path fill=\"none\" stroke=\"#000000\" d=\"M266.9678,-520.8642C271.0983,-512.216 275.4334,-503.1394 279.6693,-494.2704\"/>\n<polygon fill=\"#000000\" stroke=\"#000000\" points=\"282.8834,-495.6619 284.035,-485.1298 276.5669,-492.645 282.8834,-495.6619\"/>\n</g>\n<!-- 4 -->\n<g id=\"node5\" class=\"node\">\n<title>4</title>\n<polygon fill=\"none\" stroke=\"#000000\" points=\"111,-343.5 0,-343.5 0,-260.5 111,-260.5 111,-343.5\"/>\n<text text-anchor=\"middle\" x=\"55.5\" y=\"-328.3\" font-family=\"Helvetica,sans-Serif\" font-size=\"14.00\" fill=\"#000000\">gini = 0.0</text>\n<text text-anchor=\"middle\" x=\"55.5\" y=\"-313.3\" font-family=\"Helvetica,sans-Serif\" font-size=\"14.00\" fill=\"#000000\">samples = 32</text>\n<text text-anchor=\"middle\" x=\"55.5\" y=\"-298.3\" font-family=\"Helvetica,sans-Serif\" font-size=\"14.00\" fill=\"#000000\">value = [[32, 0]</text>\n<text text-anchor=\"middle\" x=\"55.5\" y=\"-283.3\" font-family=\"Helvetica,sans-Serif\" font-size=\"14.00\" fill=\"#000000\">[0, 32]</text>\n<text text-anchor=\"middle\" x=\"55.5\" y=\"-268.3\" font-family=\"Helvetica,sans-Serif\" font-size=\"14.00\" fill=\"#000000\">[32, 0]]</text>\n</g>\n<!-- 3&#45;&gt;4 -->\n<g id=\"edge4\" class=\"edge\">\n<title>3&#45;&gt;4</title>\n<path fill=\"none\" stroke=\"#000000\" d=\"M133.3978,-386.8642C122.7116,-375.2224 111.3129,-362.8043 100.6257,-351.1613\"/>\n<polygon fill=\"#000000\" stroke=\"#000000\" points=\"103.0608,-348.6383 93.7201,-343.6381 97.9039,-353.3719 103.0608,-348.6383\"/>\n</g>\n<!-- 5 -->\n<g id=\"node6\" class=\"node\">\n<title>5</title>\n<polygon fill=\"none\" stroke=\"#000000\" points=\"232,-351 129,-351 129,-253 232,-253 232,-351\"/>\n<text text-anchor=\"middle\" x=\"180.5\" y=\"-335.8\" font-family=\"Helvetica,sans-Serif\" font-size=\"14.00\" fill=\"#000000\">X[3] &lt;= 1.55</text>\n<text text-anchor=\"middle\" x=\"180.5\" y=\"-320.8\" font-family=\"Helvetica,sans-Serif\" font-size=\"14.00\" fill=\"#000000\">gini = 0.213</text>\n<text text-anchor=\"middle\" x=\"180.5\" y=\"-305.8\" font-family=\"Helvetica,sans-Serif\" font-size=\"14.00\" fill=\"#000000\">samples = 5</text>\n<text text-anchor=\"middle\" x=\"180.5\" y=\"-290.8\" font-family=\"Helvetica,sans-Serif\" font-size=\"14.00\" fill=\"#000000\">value = [[5, 0]</text>\n<text text-anchor=\"middle\" x=\"180.5\" y=\"-275.8\" font-family=\"Helvetica,sans-Serif\" font-size=\"14.00\" fill=\"#000000\">[4, 1]</text>\n<text text-anchor=\"middle\" x=\"180.5\" y=\"-260.8\" font-family=\"Helvetica,sans-Serif\" font-size=\"14.00\" fill=\"#000000\">[1, 4]]</text>\n</g>\n<!-- 3&#45;&gt;5 -->\n<g id=\"edge5\" class=\"edge\">\n<title>3&#45;&gt;5</title>\n<path fill=\"none\" stroke=\"#000000\" d=\"M179.2334,-386.8642C179.357,-378.5802 179.4865,-369.903 179.6136,-361.3918\"/>\n<polygon fill=\"#000000\" stroke=\"#000000\" points=\"183.117,-361.181 179.7667,-351.1298 176.1178,-361.0764 183.117,-361.181\"/>\n</g>\n<!-- 6 -->\n<g id=\"node7\" class=\"node\">\n<title>6</title>\n<polygon fill=\"none\" stroke=\"#000000\" points=\"112,-209.5 9,-209.5 9,-126.5 112,-126.5 112,-209.5\"/>\n<text text-anchor=\"middle\" x=\"60.5\" y=\"-194.3\" font-family=\"Helvetica,sans-Serif\" font-size=\"14.00\" fill=\"#000000\">gini = 0.0</text>\n<text text-anchor=\"middle\" x=\"60.5\" y=\"-179.3\" font-family=\"Helvetica,sans-Serif\" font-size=\"14.00\" fill=\"#000000\">samples = 3</text>\n<text text-anchor=\"middle\" x=\"60.5\" y=\"-164.3\" font-family=\"Helvetica,sans-Serif\" font-size=\"14.00\" fill=\"#000000\">value = [[3, 0]</text>\n<text text-anchor=\"middle\" x=\"60.5\" y=\"-149.3\" font-family=\"Helvetica,sans-Serif\" font-size=\"14.00\" fill=\"#000000\">[3, 0]</text>\n<text text-anchor=\"middle\" x=\"60.5\" y=\"-134.3\" font-family=\"Helvetica,sans-Serif\" font-size=\"14.00\" fill=\"#000000\">[0, 3]]</text>\n</g>\n<!-- 5&#45;&gt;6 -->\n<g id=\"edge6\" class=\"edge\">\n<title>5&#45;&gt;6</title>\n<path fill=\"none\" stroke=\"#000000\" d=\"M136.4978,-252.8642C126.0723,-241.2224 114.9516,-228.8043 104.5251,-217.1613\"/>\n<polygon fill=\"#000000\" stroke=\"#000000\" points=\"107.0664,-214.7527 97.7879,-209.6381 101.8518,-219.4226 107.0664,-214.7527\"/>\n</g>\n<!-- 7 -->\n<g id=\"node8\" class=\"node\">\n<title>7</title>\n<polygon fill=\"none\" stroke=\"#000000\" points=\"233,-217 130,-217 130,-119 233,-119 233,-217\"/>\n<text text-anchor=\"middle\" x=\"181.5\" y=\"-201.8\" font-family=\"Helvetica,sans-Serif\" font-size=\"14.00\" fill=\"#000000\">X[0] &lt;= 6.6</text>\n<text text-anchor=\"middle\" x=\"181.5\" y=\"-186.8\" font-family=\"Helvetica,sans-Serif\" font-size=\"14.00\" fill=\"#000000\">gini = 0.333</text>\n<text text-anchor=\"middle\" x=\"181.5\" y=\"-171.8\" font-family=\"Helvetica,sans-Serif\" font-size=\"14.00\" fill=\"#000000\">samples = 2</text>\n<text text-anchor=\"middle\" x=\"181.5\" y=\"-156.8\" font-family=\"Helvetica,sans-Serif\" font-size=\"14.00\" fill=\"#000000\">value = [[2, 0]</text>\n<text text-anchor=\"middle\" x=\"181.5\" y=\"-141.8\" font-family=\"Helvetica,sans-Serif\" font-size=\"14.00\" fill=\"#000000\">[1, 1]</text>\n<text text-anchor=\"middle\" x=\"181.5\" y=\"-126.8\" font-family=\"Helvetica,sans-Serif\" font-size=\"14.00\" fill=\"#000000\">[1, 1]]</text>\n</g>\n<!-- 5&#45;&gt;7 -->\n<g id=\"edge7\" class=\"edge\">\n<title>5&#45;&gt;7</title>\n<path fill=\"none\" stroke=\"#000000\" d=\"M180.8667,-252.8642C180.9285,-244.5802 180.9933,-235.903 181.0568,-227.3918\"/>\n<polygon fill=\"#000000\" stroke=\"#000000\" points=\"184.5585,-227.1557 181.1334,-217.1298 177.5587,-227.1034 184.5585,-227.1557\"/>\n</g>\n<!-- 8 -->\n<g id=\"node9\" class=\"node\">\n<title>8</title>\n<polygon fill=\"none\" stroke=\"#000000\" points=\"172,-83 69,-83 69,0 172,0 172,-83\"/>\n<text text-anchor=\"middle\" x=\"120.5\" y=\"-67.8\" font-family=\"Helvetica,sans-Serif\" font-size=\"14.00\" fill=\"#000000\">gini = 0.0</text>\n<text text-anchor=\"middle\" x=\"120.5\" y=\"-52.8\" font-family=\"Helvetica,sans-Serif\" font-size=\"14.00\" fill=\"#000000\">samples = 1</text>\n<text text-anchor=\"middle\" x=\"120.5\" y=\"-37.8\" font-family=\"Helvetica,sans-Serif\" font-size=\"14.00\" fill=\"#000000\">value = [[1, 0]</text>\n<text text-anchor=\"middle\" x=\"120.5\" y=\"-22.8\" font-family=\"Helvetica,sans-Serif\" font-size=\"14.00\" fill=\"#000000\">[0, 1]</text>\n<text text-anchor=\"middle\" x=\"120.5\" y=\"-7.8\" font-family=\"Helvetica,sans-Serif\" font-size=\"14.00\" fill=\"#000000\">[1, 0]]</text>\n</g>\n<!-- 7&#45;&gt;8 -->\n<g id=\"edge8\" class=\"edge\">\n<title>7&#45;&gt;8</title>\n<path fill=\"none\" stroke=\"#000000\" d=\"M157.7411,-118.7296C153.5648,-110.0688 149.2109,-101.0398 145.0144,-92.3372\"/>\n<polygon fill=\"#000000\" stroke=\"#000000\" points=\"148.0345,-90.5422 140.5384,-83.055 141.7293,-93.5827 148.0345,-90.5422\"/>\n</g>\n<!-- 9 -->\n<g id=\"node10\" class=\"node\">\n<title>9</title>\n<polygon fill=\"none\" stroke=\"#000000\" points=\"293,-83 190,-83 190,0 293,0 293,-83\"/>\n<text text-anchor=\"middle\" x=\"241.5\" y=\"-67.8\" font-family=\"Helvetica,sans-Serif\" font-size=\"14.00\" fill=\"#000000\">gini = 0.0</text>\n<text text-anchor=\"middle\" x=\"241.5\" y=\"-52.8\" font-family=\"Helvetica,sans-Serif\" font-size=\"14.00\" fill=\"#000000\">samples = 1</text>\n<text text-anchor=\"middle\" x=\"241.5\" y=\"-37.8\" font-family=\"Helvetica,sans-Serif\" font-size=\"14.00\" fill=\"#000000\">value = [[1, 0]</text>\n<text text-anchor=\"middle\" x=\"241.5\" y=\"-22.8\" font-family=\"Helvetica,sans-Serif\" font-size=\"14.00\" fill=\"#000000\">[1, 0]</text>\n<text text-anchor=\"middle\" x=\"241.5\" y=\"-7.8\" font-family=\"Helvetica,sans-Serif\" font-size=\"14.00\" fill=\"#000000\">[0, 1]]</text>\n</g>\n<!-- 7&#45;&gt;9 -->\n<g id=\"edge9\" class=\"edge\">\n<title>7&#45;&gt;9</title>\n<path fill=\"none\" stroke=\"#000000\" d=\"M204.8694,-118.7296C208.9773,-110.0688 213.2598,-101.0398 217.3875,-92.3372\"/>\n<polygon fill=\"#000000\" stroke=\"#000000\" points=\"220.6669,-93.5901 221.7901,-83.055 214.3423,-90.5902 220.6669,-93.5901\"/>\n</g>\n<!-- 11 -->\n<g id=\"node12\" class=\"node\">\n<title>11</title>\n<polygon fill=\"none\" stroke=\"#000000\" points=\"357,-351 254,-351 254,-253 357,-253 357,-351\"/>\n<text text-anchor=\"middle\" x=\"305.5\" y=\"-335.8\" font-family=\"Helvetica,sans-Serif\" font-size=\"14.00\" fill=\"#000000\">X[1] &lt;= 3.1</text>\n<text text-anchor=\"middle\" x=\"305.5\" y=\"-320.8\" font-family=\"Helvetica,sans-Serif\" font-size=\"14.00\" fill=\"#000000\">gini = 0.25</text>\n<text text-anchor=\"middle\" x=\"305.5\" y=\"-305.8\" font-family=\"Helvetica,sans-Serif\" font-size=\"14.00\" fill=\"#000000\">samples = 4</text>\n<text text-anchor=\"middle\" x=\"305.5\" y=\"-290.8\" font-family=\"Helvetica,sans-Serif\" font-size=\"14.00\" fill=\"#000000\">value = [[4, 0]</text>\n<text text-anchor=\"middle\" x=\"305.5\" y=\"-275.8\" font-family=\"Helvetica,sans-Serif\" font-size=\"14.00\" fill=\"#000000\">[3, 1]</text>\n<text text-anchor=\"middle\" x=\"305.5\" y=\"-260.8\" font-family=\"Helvetica,sans-Serif\" font-size=\"14.00\" fill=\"#000000\">[1, 3]]</text>\n</g>\n<!-- 10&#45;&gt;11 -->\n<g id=\"edge11\" class=\"edge\">\n<title>10&#45;&gt;11</title>\n<path fill=\"none\" stroke=\"#000000\" d=\"M306.7666,-386.8642C306.643,-378.5802 306.5135,-369.903 306.3864,-361.3918\"/>\n<polygon fill=\"#000000\" stroke=\"#000000\" points=\"309.8822,-361.0764 306.2333,-351.1298 302.883,-361.181 309.8822,-361.0764\"/>\n</g>\n<!-- 14 -->\n<g id=\"node15\" class=\"node\">\n<title>14</title>\n<polygon fill=\"none\" stroke=\"#000000\" points=\"486,-343.5 375,-343.5 375,-260.5 486,-260.5 486,-343.5\"/>\n<text text-anchor=\"middle\" x=\"430.5\" y=\"-328.3\" font-family=\"Helvetica,sans-Serif\" font-size=\"14.00\" fill=\"#000000\">gini = 0.0</text>\n<text text-anchor=\"middle\" x=\"430.5\" y=\"-313.3\" font-family=\"Helvetica,sans-Serif\" font-size=\"14.00\" fill=\"#000000\">samples = 34</text>\n<text text-anchor=\"middle\" x=\"430.5\" y=\"-298.3\" font-family=\"Helvetica,sans-Serif\" font-size=\"14.00\" fill=\"#000000\">value = [[34, 0]</text>\n<text text-anchor=\"middle\" x=\"430.5\" y=\"-283.3\" font-family=\"Helvetica,sans-Serif\" font-size=\"14.00\" fill=\"#000000\">[34, 0]</text>\n<text text-anchor=\"middle\" x=\"430.5\" y=\"-268.3\" font-family=\"Helvetica,sans-Serif\" font-size=\"14.00\" fill=\"#000000\">[0, 34]]</text>\n</g>\n<!-- 10&#45;&gt;14 -->\n<g id=\"edge14\" class=\"edge\">\n<title>10&#45;&gt;14</title>\n<path fill=\"none\" stroke=\"#000000\" d=\"M352.6022,-386.8642C363.2884,-375.2224 374.6871,-362.8043 385.3743,-351.1613\"/>\n<polygon fill=\"#000000\" stroke=\"#000000\" points=\"388.0961,-353.3719 392.2799,-343.6381 382.9392,-348.6383 388.0961,-353.3719\"/>\n</g>\n<!-- 12 -->\n<g id=\"node13\" class=\"node\">\n<title>12</title>\n<polygon fill=\"none\" stroke=\"#000000\" points=\"356,-209.5 253,-209.5 253,-126.5 356,-126.5 356,-209.5\"/>\n<text text-anchor=\"middle\" x=\"304.5\" y=\"-194.3\" font-family=\"Helvetica,sans-Serif\" font-size=\"14.00\" fill=\"#000000\">gini = 0.0</text>\n<text text-anchor=\"middle\" x=\"304.5\" y=\"-179.3\" font-family=\"Helvetica,sans-Serif\" font-size=\"14.00\" fill=\"#000000\">samples = 3</text>\n<text text-anchor=\"middle\" x=\"304.5\" y=\"-164.3\" font-family=\"Helvetica,sans-Serif\" font-size=\"14.00\" fill=\"#000000\">value = [[3, 0]</text>\n<text text-anchor=\"middle\" x=\"304.5\" y=\"-149.3\" font-family=\"Helvetica,sans-Serif\" font-size=\"14.00\" fill=\"#000000\">[3, 0]</text>\n<text text-anchor=\"middle\" x=\"304.5\" y=\"-134.3\" font-family=\"Helvetica,sans-Serif\" font-size=\"14.00\" fill=\"#000000\">[0, 3]]</text>\n</g>\n<!-- 11&#45;&gt;12 -->\n<g id=\"edge12\" class=\"edge\">\n<title>11&#45;&gt;12</title>\n<path fill=\"none\" stroke=\"#000000\" d=\"M305.1333,-252.8642C305.0531,-242.1094 304.9679,-230.6921 304.8868,-219.8354\"/>\n<polygon fill=\"#000000\" stroke=\"#000000\" points=\"308.3854,-219.6117 304.8107,-209.6381 301.3856,-219.664 308.3854,-219.6117\"/>\n</g>\n<!-- 13 -->\n<g id=\"node14\" class=\"node\">\n<title>13</title>\n<polygon fill=\"none\" stroke=\"#000000\" points=\"477,-209.5 374,-209.5 374,-126.5 477,-126.5 477,-209.5\"/>\n<text text-anchor=\"middle\" x=\"425.5\" y=\"-194.3\" font-family=\"Helvetica,sans-Serif\" font-size=\"14.00\" fill=\"#000000\">gini = 0.0</text>\n<text text-anchor=\"middle\" x=\"425.5\" y=\"-179.3\" font-family=\"Helvetica,sans-Serif\" font-size=\"14.00\" fill=\"#000000\">samples = 1</text>\n<text text-anchor=\"middle\" x=\"425.5\" y=\"-164.3\" font-family=\"Helvetica,sans-Serif\" font-size=\"14.00\" fill=\"#000000\">value = [[1, 0]</text>\n<text text-anchor=\"middle\" x=\"425.5\" y=\"-149.3\" font-family=\"Helvetica,sans-Serif\" font-size=\"14.00\" fill=\"#000000\">[0, 1]</text>\n<text text-anchor=\"middle\" x=\"425.5\" y=\"-134.3\" font-family=\"Helvetica,sans-Serif\" font-size=\"14.00\" fill=\"#000000\">[1, 0]]</text>\n</g>\n<!-- 11&#45;&gt;13 -->\n<g id=\"edge13\" class=\"edge\">\n<title>11&#45;&gt;13</title>\n<path fill=\"none\" stroke=\"#000000\" d=\"M349.5022,-252.8642C359.9277,-241.2224 371.0484,-228.8043 381.4749,-217.1613\"/>\n<polygon fill=\"#000000\" stroke=\"#000000\" points=\"384.1482,-219.4226 388.2121,-209.6381 378.9336,-214.7527 384.1482,-219.4226\"/>\n</g>\n</g>\n</svg>\n"
          },
          "metadata": {}
        }
      ],
      "source": [
        "import graphviz\n",
        "from sklearn.tree import export_graphviz\n",
        "from IPython.display import display\n",
        "\n",
        "display(graphviz.Source(export_graphviz(dt)))"
      ]
    },
    {
      "cell_type": "markdown",
      "metadata": {
        "papermill": {
          "duration": 0.012266,
          "end_time": "2021-02-06T11:22:39.717559",
          "exception": false,
          "start_time": "2021-02-06T11:22:39.705293",
          "status": "completed"
        },
        "tags": [],
        "id": "7UF2-mQbI6Jm"
      },
      "source": [
        "Let's analyze the first node.\n",
        "```\n",
        "X[2] <= 2.6\n",
        "gini = 0.443\n",
        "samples = 112\n",
        "```\n",
        "\n",
        "What is this telling us? Several things:\n",
        "\n",
        "- `X[2] <= 2.6`: Our model seems to have decided that the first feature it wants to make a decision on is number 3 (remember python `lists` start at index 0). This feature is `petal length (cm)`. It also chose 2.6 as the dividing value.\n",
        "- `gini`: The impurity of the node. Remember that long calculation we talked about?\n",
        "- `samples`: The amount of training samples that went through this node. In this case all of them since it's the first node.\n",
        "\n",
        "Looking at the left child node of this first node we find a `leaf`. **Leaves** are end nodes, nodes that do not have children. When a sample reaches a leaf node it is already classified. In our case, looking at the values, we can see that **37** training values landed on this end node and we're all classified as type 1 (`setosa`).\n",
        "\n",
        "The right child on the the other hand makes another split and continues the tree, making more decisions down the road until classifing the samples.\n"
      ]
    },
    {
      "cell_type": "markdown",
      "metadata": {
        "papermill": {
          "duration": 0.012152,
          "end_time": "2021-02-06T11:22:39.742846",
          "exception": false,
          "start_time": "2021-02-06T11:22:39.730694",
          "status": "completed"
        },
        "tags": [],
        "id": "Ux9iQL5JI6Jn"
      },
      "source": [
        "## Testing and measuring performance\n",
        "\n",
        "The final step in this process is testing the resulting model with new data and seeing how it behaves. For this we are going to use the set of **testing** data we split from the main dataset earlier."
      ]
    },
    {
      "cell_type": "code",
      "execution_count": null,
      "metadata": {
        "execution": {
          "iopub.execute_input": "2021-02-06T11:22:39.775826Z",
          "iopub.status.busy": "2021-02-06T11:22:39.775215Z",
          "iopub.status.idle": "2021-02-06T11:22:39.778654Z",
          "shell.execute_reply": "2021-02-06T11:22:39.778028Z"
        },
        "papermill": {
          "duration": 0.023572,
          "end_time": "2021-02-06T11:22:39.778795",
          "exception": false,
          "start_time": "2021-02-06T11:22:39.755223",
          "status": "completed"
        },
        "tags": [],
        "id": "taX4C6mAI6Jn"
      },
      "outputs": [],
      "source": [
        "# Call the .predict() function of the model and feed in the testing data\n",
        "y_pred = dt.predict(X_test)"
      ]
    },
    {
      "cell_type": "code",
      "execution_count": null,
      "metadata": {
        "execution": {
          "iopub.execute_input": "2021-02-06T11:22:39.814259Z",
          "iopub.status.busy": "2021-02-06T11:22:39.813274Z",
          "iopub.status.idle": "2021-02-06T11:22:39.817752Z",
          "shell.execute_reply": "2021-02-06T11:22:39.817197Z"
        },
        "papermill": {
          "duration": 0.026384,
          "end_time": "2021-02-06T11:22:39.817886",
          "exception": false,
          "start_time": "2021-02-06T11:22:39.791502",
          "status": "completed"
        },
        "tags": [],
        "colab": {
          "base_uri": "https://localhost:8080/"
        },
        "id": "kt2TFeT4I6Jn",
        "outputId": "88083b65-6344-4912-99aa-07ddb711e386"
      },
      "outputs": [
        {
          "output_type": "execute_result",
          "data": {
            "text/plain": [
              "array([[13,  0,  0],\n",
              "       [ 0, 15,  1],\n",
              "       [ 0,  0,  9]])"
            ]
          },
          "metadata": {},
          "execution_count": 11
        }
      ],
      "source": [
        "# To analyze the accuarcy of our models predictions we are going to use a confusion matrix. You can read more about this matrix online, but basically we want\n",
        "# know how many samples of each type were correctly classified. The matrix is going to tell us how many samples of each type were classified and to which target type.\n",
        "\n",
        "from sklearn.metrics import confusion_matrix\n",
        "species = np.array(y_test).argmax(axis=1)\n",
        "predictions = np.array(y_pred).argmax(axis=1)\n",
        "confusion_matrix(species, predictions)"
      ]
    },
    {
      "cell_type": "markdown",
      "source": [
        "#Results\n",
        "\n",
        "\n",
        "We have 3 different classifications our data can be placed into. This confusion matrix is telling us that the model predicted:\n",
        "\n",
        "Setosa (type 1) => Samples: 13, Correctly classified: 13\n",
        "\n",
        "Versicolor (type 2) => Samples: 15, Correctly classified: 15. 1 sample was incorrectly classified as type 3.\n",
        "\n",
        "Virginica (type 3) => Samples: 9, Correctly classified: 9\n",
        "\n",
        "So our model only was wrong once in 37 samples."
      ],
      "metadata": {
        "id": "S7FgXMSpK8I0"
      }
    }
  ],
  "metadata": {
    "kernelspec": {
      "display_name": "Python 3",
      "language": "python",
      "name": "python3"
    },
    "language_info": {
      "codemirror_mode": {
        "name": "ipython",
        "version": 3
      },
      "file_extension": ".py",
      "mimetype": "text/x-python",
      "name": "python",
      "nbconvert_exporter": "python",
      "pygments_lexer": "ipython3",
      "version": "3.7.9"
    },
    "papermill": {
      "default_parameters": {},
      "duration": 8.534841,
      "end_time": "2021-02-06T11:22:40.568602",
      "environment_variables": {},
      "exception": null,
      "input_path": "__notebook__.ipynb",
      "output_path": "__notebook__.ipynb",
      "parameters": {},
      "start_time": "2021-02-06T11:22:32.033761",
      "version": "2.2.2"
    },
    "colab": {
      "provenance": [],
      "include_colab_link": true
    }
  },
  "nbformat": 4,
  "nbformat_minor": 0
}